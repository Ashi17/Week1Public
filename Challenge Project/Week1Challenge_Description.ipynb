{
 "cells": [
  {
   "cell_type": "markdown",
   "source": "# Week 1 Challenge Project\n### Lyle Lalunio\n---\nHypothyroidism, also called underactive thyroid or low thyroid, is a disorder of the endocrine system in which the thyroid gland does not produce enough thyroid hormone. It can cause a number of symptoms, such as poor ability to tolerate cold, a feeling of tiredness, constipation, depression, and weight gain. Occasionally there may be swelling of the front part of the neck due to goitre. Untreated hypothyroidism during pregnancy can lead to delays in growth and intellectual development in the baby or cretinism.\n\nWorldwide, too little iodine in the diet is the most common cause of hypothyroidism. In countries with enough iodine in the diet, the most common cause of hypothyroidism is the autoimmune condition Hashimoto's thyroiditis. Less common causes include: previous treatment with radioactive iodine, injury to the hypothalamus or the anterior pituitary gland, certain medications, a lack of a functioning thyroid at birth, or previous thyroid surgery. The diagnosis of hypothyroidism, when suspected, can be confirmed with blood tests measuring thyroid-stimulating hormone (TSH) and thyroxine levels.\n\nWorldwide about one billion people are estimated to be iodine deficient; however, it is unknown how often this results in hypothyroidism. In the United States, hypothyroidism occurs in 0.3–0.4% of people.\n\nAnd that is why we iodize salt.\n\n![alt text](https://www.mayoclinic.org/-/media/kcms/gbs/patient-consumer/images/2013/11/15/17/39/ds00181_-ds00344_-ds00353_-ds00491_-ds00492_-ds00567_-ds00660_-my00709_im01872_thyroid_gif.jpg)\n\n",
   "metadata": {
    "colab_type": "text",
    "id": "XQDE8pPCpFRb",
    "cell_id": "00000-58a1f58c-8e2a-452b-a702-4d59413a2541",
    "deepnote_cell_type": "markdown"
   }
  },
  {
   "cell_type": "markdown",
   "source": "Background: Doctors all around the world need our help to predict whether a patient has hypothyroid disease. We have already overspent our budget to collect such complete data on about 30 attributes for 2800 patients--a good starting number, but a larger sample would certainly be preferred. Moving forward, however, we simply cannot afford to spend so much money on data collection. Therefore, we also need to determine which attributes are the most meaningful to the predictive models, and cut out the rest that don't contribute much. \n\nThe boss wants to see a **balanced** model that can predict with a **high sensitivity** and **high specificity** while using a ***low amount of features***. Collecting complete data such as this is very rare, very time-consuming, and often very expensive. By minimizing the number of features, it will optimize future data collection by deciding what needs to be collected, and what doesn't.",
   "metadata": {
    "colab_type": "text",
    "id": "OFF1-BLiSLZ8",
    "cell_id": "00001-cc151754-7a5e-4b6f-afcb-7f45e7445d2f",
    "deepnote_cell_type": "markdown"
   }
  },
  {
   "cell_type": "markdown",
   "source": "## Loading the data",
   "metadata": {
    "colab_type": "text",
    "id": "HsZB_SGvp4mP",
    "cell_id": "00002-8b3a55b7-b860-4e82-854a-d8cdabaeef23",
    "deepnote_cell_type": "markdown"
   }
  },
  {
   "cell_type": "markdown",
   "source": "Let's read the data into a Pandas dataframe and look at the first 10 records.",
   "metadata": {
    "colab_type": "text",
    "id": "DWrUz9OQ0uAU",
    "cell_id": "00003-59e514df-9a91-4f20-8150-f1c3620c3295",
    "deepnote_cell_type": "markdown"
   }
  },
  {
   "cell_type": "code",
   "metadata": {
    "colab": {
     "autoexec": {
      "startup": false,
      "wait_interval": 0
     }
    },
    "colab_type": "code",
    "id": "s9AtXQPkzC8j",
    "cell_id": "00004-886ccb32-366b-4d72-8aa6-4a30a58fd976",
    "deepnote_to_be_reexecuted": false,
    "source_hash": "df3ca4cc",
    "execution_start": 1625454578314,
    "execution_millis": 310,
    "deepnote_cell_type": "code"
   },
   "source": "import pandas as po\n\nurl = \"https://raw.githubusercontent.com/BeaverWorksMedlytics/datasets/master/allhypo.train.data.csv\"\ndataset=po.read_csv(url) \ndataset.head(10)",
   "execution_count": 1,
   "outputs": [
    {
     "output_type": "error",
     "ename": "HTTPError",
     "evalue": "HTTP Error 404: Not Found",
     "traceback": [
      "\u001b[0;31m---------------------------------------------------------------------------\u001b[0m",
      "\u001b[0;31mHTTPError\u001b[0m                                 Traceback (most recent call last)",
      "\u001b[0;32m<ipython-input-1-c224e2300cdd>\u001b[0m in \u001b[0;36m<module>\u001b[0;34m\u001b[0m\n\u001b[1;32m      2\u001b[0m \u001b[0;34m\u001b[0m\u001b[0m\n\u001b[1;32m      3\u001b[0m \u001b[0murl\u001b[0m \u001b[0;34m=\u001b[0m \u001b[0;34m\"https://raw.githubusercontent.com/BeaverWorksMedlytics/datasets/master/allhypo.train.data.csv\"\u001b[0m\u001b[0;34m\u001b[0m\u001b[0;34m\u001b[0m\u001b[0m\n\u001b[0;32m----> 4\u001b[0;31m \u001b[0mdataset\u001b[0m\u001b[0;34m=\u001b[0m\u001b[0mpo\u001b[0m\u001b[0;34m.\u001b[0m\u001b[0mread_csv\u001b[0m\u001b[0;34m(\u001b[0m\u001b[0murl\u001b[0m\u001b[0;34m)\u001b[0m\u001b[0;34m\u001b[0m\u001b[0;34m\u001b[0m\u001b[0m\n\u001b[0m\u001b[1;32m      5\u001b[0m \u001b[0mdataset\u001b[0m\u001b[0;34m.\u001b[0m\u001b[0mhead\u001b[0m\u001b[0;34m(\u001b[0m\u001b[0;36m10\u001b[0m\u001b[0;34m)\u001b[0m\u001b[0;34m\u001b[0m\u001b[0;34m\u001b[0m\u001b[0m\n",
      "\u001b[0;32m/shared-libs/python3.7/py/lib/python3.7/site-packages/pandas/io/parsers.py\u001b[0m in \u001b[0;36mread_csv\u001b[0;34m(filepath_or_buffer, sep, delimiter, header, names, index_col, usecols, squeeze, prefix, mangle_dupe_cols, dtype, engine, converters, true_values, false_values, skipinitialspace, skiprows, skipfooter, nrows, na_values, keep_default_na, na_filter, verbose, skip_blank_lines, parse_dates, infer_datetime_format, keep_date_col, date_parser, dayfirst, cache_dates, iterator, chunksize, compression, thousands, decimal, lineterminator, quotechar, quoting, doublequote, escapechar, comment, encoding, dialect, error_bad_lines, warn_bad_lines, delim_whitespace, low_memory, memory_map, float_precision, storage_options)\u001b[0m\n\u001b[1;32m    608\u001b[0m     \u001b[0mkwds\u001b[0m\u001b[0;34m.\u001b[0m\u001b[0mupdate\u001b[0m\u001b[0;34m(\u001b[0m\u001b[0mkwds_defaults\u001b[0m\u001b[0;34m)\u001b[0m\u001b[0;34m\u001b[0m\u001b[0;34m\u001b[0m\u001b[0m\n\u001b[1;32m    609\u001b[0m \u001b[0;34m\u001b[0m\u001b[0m\n\u001b[0;32m--> 610\u001b[0;31m     \u001b[0;32mreturn\u001b[0m \u001b[0m_read\u001b[0m\u001b[0;34m(\u001b[0m\u001b[0mfilepath_or_buffer\u001b[0m\u001b[0;34m,\u001b[0m \u001b[0mkwds\u001b[0m\u001b[0;34m)\u001b[0m\u001b[0;34m\u001b[0m\u001b[0;34m\u001b[0m\u001b[0m\n\u001b[0m\u001b[1;32m    611\u001b[0m \u001b[0;34m\u001b[0m\u001b[0m\n\u001b[1;32m    612\u001b[0m \u001b[0;34m\u001b[0m\u001b[0m\n",
      "\u001b[0;32m/shared-libs/python3.7/py/lib/python3.7/site-packages/pandas/io/parsers.py\u001b[0m in \u001b[0;36m_read\u001b[0;34m(filepath_or_buffer, kwds)\u001b[0m\n\u001b[1;32m    460\u001b[0m \u001b[0;34m\u001b[0m\u001b[0m\n\u001b[1;32m    461\u001b[0m     \u001b[0;31m# Create the parser.\u001b[0m\u001b[0;34m\u001b[0m\u001b[0;34m\u001b[0m\u001b[0;34m\u001b[0m\u001b[0m\n\u001b[0;32m--> 462\u001b[0;31m     \u001b[0mparser\u001b[0m \u001b[0;34m=\u001b[0m \u001b[0mTextFileReader\u001b[0m\u001b[0;34m(\u001b[0m\u001b[0mfilepath_or_buffer\u001b[0m\u001b[0;34m,\u001b[0m \u001b[0;34m**\u001b[0m\u001b[0mkwds\u001b[0m\u001b[0;34m)\u001b[0m\u001b[0;34m\u001b[0m\u001b[0;34m\u001b[0m\u001b[0m\n\u001b[0m\u001b[1;32m    463\u001b[0m \u001b[0;34m\u001b[0m\u001b[0m\n\u001b[1;32m    464\u001b[0m     \u001b[0;32mif\u001b[0m \u001b[0mchunksize\u001b[0m \u001b[0;32mor\u001b[0m \u001b[0miterator\u001b[0m\u001b[0;34m:\u001b[0m\u001b[0;34m\u001b[0m\u001b[0;34m\u001b[0m\u001b[0m\n",
      "\u001b[0;32m/shared-libs/python3.7/py/lib/python3.7/site-packages/pandas/io/parsers.py\u001b[0m in \u001b[0;36m__init__\u001b[0;34m(self, f, engine, **kwds)\u001b[0m\n\u001b[1;32m    817\u001b[0m             \u001b[0mself\u001b[0m\u001b[0;34m.\u001b[0m\u001b[0moptions\u001b[0m\u001b[0;34m[\u001b[0m\u001b[0;34m\"has_index_names\"\u001b[0m\u001b[0;34m]\u001b[0m \u001b[0;34m=\u001b[0m \u001b[0mkwds\u001b[0m\u001b[0;34m[\u001b[0m\u001b[0;34m\"has_index_names\"\u001b[0m\u001b[0;34m]\u001b[0m\u001b[0;34m\u001b[0m\u001b[0;34m\u001b[0m\u001b[0m\n\u001b[1;32m    818\u001b[0m \u001b[0;34m\u001b[0m\u001b[0m\n\u001b[0;32m--> 819\u001b[0;31m         \u001b[0mself\u001b[0m\u001b[0;34m.\u001b[0m\u001b[0m_engine\u001b[0m \u001b[0;34m=\u001b[0m \u001b[0mself\u001b[0m\u001b[0;34m.\u001b[0m\u001b[0m_make_engine\u001b[0m\u001b[0;34m(\u001b[0m\u001b[0mself\u001b[0m\u001b[0;34m.\u001b[0m\u001b[0mengine\u001b[0m\u001b[0;34m)\u001b[0m\u001b[0;34m\u001b[0m\u001b[0;34m\u001b[0m\u001b[0m\n\u001b[0m\u001b[1;32m    820\u001b[0m \u001b[0;34m\u001b[0m\u001b[0m\n\u001b[1;32m    821\u001b[0m     \u001b[0;32mdef\u001b[0m \u001b[0mclose\u001b[0m\u001b[0;34m(\u001b[0m\u001b[0mself\u001b[0m\u001b[0;34m)\u001b[0m\u001b[0;34m:\u001b[0m\u001b[0;34m\u001b[0m\u001b[0;34m\u001b[0m\u001b[0m\n",
      "\u001b[0;32m/shared-libs/python3.7/py/lib/python3.7/site-packages/pandas/io/parsers.py\u001b[0m in \u001b[0;36m_make_engine\u001b[0;34m(self, engine)\u001b[0m\n\u001b[1;32m   1048\u001b[0m             )\n\u001b[1;32m   1049\u001b[0m         \u001b[0;31m# error: Too many arguments for \"ParserBase\"\u001b[0m\u001b[0;34m\u001b[0m\u001b[0;34m\u001b[0m\u001b[0;34m\u001b[0m\u001b[0m\n\u001b[0;32m-> 1050\u001b[0;31m         \u001b[0;32mreturn\u001b[0m \u001b[0mmapping\u001b[0m\u001b[0;34m[\u001b[0m\u001b[0mengine\u001b[0m\u001b[0;34m]\u001b[0m\u001b[0;34m(\u001b[0m\u001b[0mself\u001b[0m\u001b[0;34m.\u001b[0m\u001b[0mf\u001b[0m\u001b[0;34m,\u001b[0m \u001b[0;34m**\u001b[0m\u001b[0mself\u001b[0m\u001b[0;34m.\u001b[0m\u001b[0moptions\u001b[0m\u001b[0;34m)\u001b[0m  \u001b[0;31m# type: ignore[call-arg]\u001b[0m\u001b[0;34m\u001b[0m\u001b[0;34m\u001b[0m\u001b[0m\n\u001b[0m\u001b[1;32m   1051\u001b[0m \u001b[0;34m\u001b[0m\u001b[0m\n\u001b[1;32m   1052\u001b[0m     \u001b[0;32mdef\u001b[0m \u001b[0m_failover_to_python\u001b[0m\u001b[0;34m(\u001b[0m\u001b[0mself\u001b[0m\u001b[0;34m)\u001b[0m\u001b[0;34m:\u001b[0m\u001b[0;34m\u001b[0m\u001b[0;34m\u001b[0m\u001b[0m\n",
      "\u001b[0;32m/shared-libs/python3.7/py/lib/python3.7/site-packages/pandas/io/parsers.py\u001b[0m in \u001b[0;36m__init__\u001b[0;34m(self, src, **kwds)\u001b[0m\n\u001b[1;32m   1865\u001b[0m \u001b[0;34m\u001b[0m\u001b[0m\n\u001b[1;32m   1866\u001b[0m         \u001b[0;31m# open handles\u001b[0m\u001b[0;34m\u001b[0m\u001b[0;34m\u001b[0m\u001b[0;34m\u001b[0m\u001b[0m\n\u001b[0;32m-> 1867\u001b[0;31m         \u001b[0mself\u001b[0m\u001b[0;34m.\u001b[0m\u001b[0m_open_handles\u001b[0m\u001b[0;34m(\u001b[0m\u001b[0msrc\u001b[0m\u001b[0;34m,\u001b[0m \u001b[0mkwds\u001b[0m\u001b[0;34m)\u001b[0m\u001b[0;34m\u001b[0m\u001b[0;34m\u001b[0m\u001b[0m\n\u001b[0m\u001b[1;32m   1868\u001b[0m         \u001b[0;32massert\u001b[0m \u001b[0mself\u001b[0m\u001b[0;34m.\u001b[0m\u001b[0mhandles\u001b[0m \u001b[0;32mis\u001b[0m \u001b[0;32mnot\u001b[0m \u001b[0;32mNone\u001b[0m\u001b[0;34m\u001b[0m\u001b[0;34m\u001b[0m\u001b[0m\n\u001b[1;32m   1869\u001b[0m         \u001b[0;32mfor\u001b[0m \u001b[0mkey\u001b[0m \u001b[0;32min\u001b[0m \u001b[0;34m(\u001b[0m\u001b[0;34m\"storage_options\"\u001b[0m\u001b[0;34m,\u001b[0m \u001b[0;34m\"encoding\"\u001b[0m\u001b[0;34m,\u001b[0m \u001b[0;34m\"memory_map\"\u001b[0m\u001b[0;34m,\u001b[0m \u001b[0;34m\"compression\"\u001b[0m\u001b[0;34m)\u001b[0m\u001b[0;34m:\u001b[0m\u001b[0;34m\u001b[0m\u001b[0;34m\u001b[0m\u001b[0m\n",
      "\u001b[0;32m/shared-libs/python3.7/py/lib/python3.7/site-packages/pandas/io/parsers.py\u001b[0m in \u001b[0;36m_open_handles\u001b[0;34m(self, src, kwds)\u001b[0m\n\u001b[1;32m   1366\u001b[0m             \u001b[0mcompression\u001b[0m\u001b[0;34m=\u001b[0m\u001b[0mkwds\u001b[0m\u001b[0;34m.\u001b[0m\u001b[0mget\u001b[0m\u001b[0;34m(\u001b[0m\u001b[0;34m\"compression\"\u001b[0m\u001b[0;34m,\u001b[0m \u001b[0;32mNone\u001b[0m\u001b[0;34m)\u001b[0m\u001b[0;34m,\u001b[0m\u001b[0;34m\u001b[0m\u001b[0;34m\u001b[0m\u001b[0m\n\u001b[1;32m   1367\u001b[0m             \u001b[0mmemory_map\u001b[0m\u001b[0;34m=\u001b[0m\u001b[0mkwds\u001b[0m\u001b[0;34m.\u001b[0m\u001b[0mget\u001b[0m\u001b[0;34m(\u001b[0m\u001b[0;34m\"memory_map\"\u001b[0m\u001b[0;34m,\u001b[0m \u001b[0;32mFalse\u001b[0m\u001b[0;34m)\u001b[0m\u001b[0;34m,\u001b[0m\u001b[0;34m\u001b[0m\u001b[0;34m\u001b[0m\u001b[0m\n\u001b[0;32m-> 1368\u001b[0;31m             \u001b[0mstorage_options\u001b[0m\u001b[0;34m=\u001b[0m\u001b[0mkwds\u001b[0m\u001b[0;34m.\u001b[0m\u001b[0mget\u001b[0m\u001b[0;34m(\u001b[0m\u001b[0;34m\"storage_options\"\u001b[0m\u001b[0;34m,\u001b[0m \u001b[0;32mNone\u001b[0m\u001b[0;34m)\u001b[0m\u001b[0;34m,\u001b[0m\u001b[0;34m\u001b[0m\u001b[0;34m\u001b[0m\u001b[0m\n\u001b[0m\u001b[1;32m   1369\u001b[0m         )\n\u001b[1;32m   1370\u001b[0m \u001b[0;34m\u001b[0m\u001b[0m\n",
      "\u001b[0;32m/shared-libs/python3.7/py/lib/python3.7/site-packages/pandas/io/common.py\u001b[0m in \u001b[0;36mget_handle\u001b[0;34m(path_or_buf, mode, encoding, compression, memory_map, is_text, errors, storage_options)\u001b[0m\n\u001b[1;32m    561\u001b[0m         \u001b[0mcompression\u001b[0m\u001b[0;34m=\u001b[0m\u001b[0mcompression\u001b[0m\u001b[0;34m,\u001b[0m\u001b[0;34m\u001b[0m\u001b[0;34m\u001b[0m\u001b[0m\n\u001b[1;32m    562\u001b[0m         \u001b[0mmode\u001b[0m\u001b[0;34m=\u001b[0m\u001b[0mmode\u001b[0m\u001b[0;34m,\u001b[0m\u001b[0;34m\u001b[0m\u001b[0;34m\u001b[0m\u001b[0m\n\u001b[0;32m--> 563\u001b[0;31m         \u001b[0mstorage_options\u001b[0m\u001b[0;34m=\u001b[0m\u001b[0mstorage_options\u001b[0m\u001b[0;34m,\u001b[0m\u001b[0;34m\u001b[0m\u001b[0;34m\u001b[0m\u001b[0m\n\u001b[0m\u001b[1;32m    564\u001b[0m     )\n\u001b[1;32m    565\u001b[0m \u001b[0;34m\u001b[0m\u001b[0m\n",
      "\u001b[0;32m/shared-libs/python3.7/py/lib/python3.7/site-packages/pandas/io/common.py\u001b[0m in \u001b[0;36m_get_filepath_or_buffer\u001b[0;34m(filepath_or_buffer, encoding, compression, mode, storage_options)\u001b[0m\n\u001b[1;32m    287\u001b[0m                 \u001b[0;34m\"storage_options passed with file object or non-fsspec file path\"\u001b[0m\u001b[0;34m\u001b[0m\u001b[0;34m\u001b[0m\u001b[0m\n\u001b[1;32m    288\u001b[0m             )\n\u001b[0;32m--> 289\u001b[0;31m         \u001b[0mreq\u001b[0m \u001b[0;34m=\u001b[0m \u001b[0murlopen\u001b[0m\u001b[0;34m(\u001b[0m\u001b[0mfilepath_or_buffer\u001b[0m\u001b[0;34m)\u001b[0m\u001b[0;34m\u001b[0m\u001b[0;34m\u001b[0m\u001b[0m\n\u001b[0m\u001b[1;32m    290\u001b[0m         \u001b[0mcontent_encoding\u001b[0m \u001b[0;34m=\u001b[0m \u001b[0mreq\u001b[0m\u001b[0;34m.\u001b[0m\u001b[0mheaders\u001b[0m\u001b[0;34m.\u001b[0m\u001b[0mget\u001b[0m\u001b[0;34m(\u001b[0m\u001b[0;34m\"Content-Encoding\"\u001b[0m\u001b[0;34m,\u001b[0m \u001b[0;32mNone\u001b[0m\u001b[0;34m)\u001b[0m\u001b[0;34m\u001b[0m\u001b[0;34m\u001b[0m\u001b[0m\n\u001b[1;32m    291\u001b[0m         \u001b[0;32mif\u001b[0m \u001b[0mcontent_encoding\u001b[0m \u001b[0;34m==\u001b[0m \u001b[0;34m\"gzip\"\u001b[0m\u001b[0;34m:\u001b[0m\u001b[0;34m\u001b[0m\u001b[0;34m\u001b[0m\u001b[0m\n",
      "\u001b[0;32m/shared-libs/python3.7/py/lib/python3.7/site-packages/pandas/io/common.py\u001b[0m in \u001b[0;36murlopen\u001b[0;34m(*args, **kwargs)\u001b[0m\n\u001b[1;32m    193\u001b[0m     \u001b[0;32mimport\u001b[0m \u001b[0murllib\u001b[0m\u001b[0;34m.\u001b[0m\u001b[0mrequest\u001b[0m\u001b[0;34m\u001b[0m\u001b[0;34m\u001b[0m\u001b[0m\n\u001b[1;32m    194\u001b[0m \u001b[0;34m\u001b[0m\u001b[0m\n\u001b[0;32m--> 195\u001b[0;31m     \u001b[0;32mreturn\u001b[0m \u001b[0murllib\u001b[0m\u001b[0;34m.\u001b[0m\u001b[0mrequest\u001b[0m\u001b[0;34m.\u001b[0m\u001b[0murlopen\u001b[0m\u001b[0;34m(\u001b[0m\u001b[0;34m*\u001b[0m\u001b[0margs\u001b[0m\u001b[0;34m,\u001b[0m \u001b[0;34m**\u001b[0m\u001b[0mkwargs\u001b[0m\u001b[0;34m)\u001b[0m\u001b[0;34m\u001b[0m\u001b[0;34m\u001b[0m\u001b[0m\n\u001b[0m\u001b[1;32m    196\u001b[0m \u001b[0;34m\u001b[0m\u001b[0m\n\u001b[1;32m    197\u001b[0m \u001b[0;34m\u001b[0m\u001b[0m\n",
      "\u001b[0;32m/usr/local/lib/python3.7/urllib/request.py\u001b[0m in \u001b[0;36murlopen\u001b[0;34m(url, data, timeout, cafile, capath, cadefault, context)\u001b[0m\n\u001b[1;32m    220\u001b[0m     \u001b[0;32melse\u001b[0m\u001b[0;34m:\u001b[0m\u001b[0;34m\u001b[0m\u001b[0;34m\u001b[0m\u001b[0m\n\u001b[1;32m    221\u001b[0m         \u001b[0mopener\u001b[0m \u001b[0;34m=\u001b[0m \u001b[0m_opener\u001b[0m\u001b[0;34m\u001b[0m\u001b[0;34m\u001b[0m\u001b[0m\n\u001b[0;32m--> 222\u001b[0;31m     \u001b[0;32mreturn\u001b[0m \u001b[0mopener\u001b[0m\u001b[0;34m.\u001b[0m\u001b[0mopen\u001b[0m\u001b[0;34m(\u001b[0m\u001b[0murl\u001b[0m\u001b[0;34m,\u001b[0m \u001b[0mdata\u001b[0m\u001b[0;34m,\u001b[0m \u001b[0mtimeout\u001b[0m\u001b[0;34m)\u001b[0m\u001b[0;34m\u001b[0m\u001b[0;34m\u001b[0m\u001b[0m\n\u001b[0m\u001b[1;32m    223\u001b[0m \u001b[0;34m\u001b[0m\u001b[0m\n\u001b[1;32m    224\u001b[0m \u001b[0;32mdef\u001b[0m \u001b[0minstall_opener\u001b[0m\u001b[0;34m(\u001b[0m\u001b[0mopener\u001b[0m\u001b[0;34m)\u001b[0m\u001b[0;34m:\u001b[0m\u001b[0;34m\u001b[0m\u001b[0;34m\u001b[0m\u001b[0m\n",
      "\u001b[0;32m/usr/local/lib/python3.7/urllib/request.py\u001b[0m in \u001b[0;36mopen\u001b[0;34m(self, fullurl, data, timeout)\u001b[0m\n\u001b[1;32m    529\u001b[0m         \u001b[0;32mfor\u001b[0m \u001b[0mprocessor\u001b[0m \u001b[0;32min\u001b[0m \u001b[0mself\u001b[0m\u001b[0;34m.\u001b[0m\u001b[0mprocess_response\u001b[0m\u001b[0;34m.\u001b[0m\u001b[0mget\u001b[0m\u001b[0;34m(\u001b[0m\u001b[0mprotocol\u001b[0m\u001b[0;34m,\u001b[0m \u001b[0;34m[\u001b[0m\u001b[0;34m]\u001b[0m\u001b[0;34m)\u001b[0m\u001b[0;34m:\u001b[0m\u001b[0;34m\u001b[0m\u001b[0;34m\u001b[0m\u001b[0m\n\u001b[1;32m    530\u001b[0m             \u001b[0mmeth\u001b[0m \u001b[0;34m=\u001b[0m \u001b[0mgetattr\u001b[0m\u001b[0;34m(\u001b[0m\u001b[0mprocessor\u001b[0m\u001b[0;34m,\u001b[0m \u001b[0mmeth_name\u001b[0m\u001b[0;34m)\u001b[0m\u001b[0;34m\u001b[0m\u001b[0;34m\u001b[0m\u001b[0m\n\u001b[0;32m--> 531\u001b[0;31m             \u001b[0mresponse\u001b[0m \u001b[0;34m=\u001b[0m \u001b[0mmeth\u001b[0m\u001b[0;34m(\u001b[0m\u001b[0mreq\u001b[0m\u001b[0;34m,\u001b[0m \u001b[0mresponse\u001b[0m\u001b[0;34m)\u001b[0m\u001b[0;34m\u001b[0m\u001b[0;34m\u001b[0m\u001b[0m\n\u001b[0m\u001b[1;32m    532\u001b[0m \u001b[0;34m\u001b[0m\u001b[0m\n\u001b[1;32m    533\u001b[0m         \u001b[0;32mreturn\u001b[0m \u001b[0mresponse\u001b[0m\u001b[0;34m\u001b[0m\u001b[0;34m\u001b[0m\u001b[0m\n",
      "\u001b[0;32m/usr/local/lib/python3.7/urllib/request.py\u001b[0m in \u001b[0;36mhttp_response\u001b[0;34m(self, request, response)\u001b[0m\n\u001b[1;32m    639\u001b[0m         \u001b[0;32mif\u001b[0m \u001b[0;32mnot\u001b[0m \u001b[0;34m(\u001b[0m\u001b[0;36m200\u001b[0m \u001b[0;34m<=\u001b[0m \u001b[0mcode\u001b[0m \u001b[0;34m<\u001b[0m \u001b[0;36m300\u001b[0m\u001b[0;34m)\u001b[0m\u001b[0;34m:\u001b[0m\u001b[0;34m\u001b[0m\u001b[0;34m\u001b[0m\u001b[0m\n\u001b[1;32m    640\u001b[0m             response = self.parent.error(\n\u001b[0;32m--> 641\u001b[0;31m                 'http', request, response, code, msg, hdrs)\n\u001b[0m\u001b[1;32m    642\u001b[0m \u001b[0;34m\u001b[0m\u001b[0m\n\u001b[1;32m    643\u001b[0m         \u001b[0;32mreturn\u001b[0m \u001b[0mresponse\u001b[0m\u001b[0;34m\u001b[0m\u001b[0;34m\u001b[0m\u001b[0m\n",
      "\u001b[0;32m/usr/local/lib/python3.7/urllib/request.py\u001b[0m in \u001b[0;36merror\u001b[0;34m(self, proto, *args)\u001b[0m\n\u001b[1;32m    567\u001b[0m         \u001b[0;32mif\u001b[0m \u001b[0mhttp_err\u001b[0m\u001b[0;34m:\u001b[0m\u001b[0;34m\u001b[0m\u001b[0;34m\u001b[0m\u001b[0m\n\u001b[1;32m    568\u001b[0m             \u001b[0margs\u001b[0m \u001b[0;34m=\u001b[0m \u001b[0;34m(\u001b[0m\u001b[0mdict\u001b[0m\u001b[0;34m,\u001b[0m \u001b[0;34m'default'\u001b[0m\u001b[0;34m,\u001b[0m \u001b[0;34m'http_error_default'\u001b[0m\u001b[0;34m)\u001b[0m \u001b[0;34m+\u001b[0m \u001b[0morig_args\u001b[0m\u001b[0;34m\u001b[0m\u001b[0;34m\u001b[0m\u001b[0m\n\u001b[0;32m--> 569\u001b[0;31m             \u001b[0;32mreturn\u001b[0m \u001b[0mself\u001b[0m\u001b[0;34m.\u001b[0m\u001b[0m_call_chain\u001b[0m\u001b[0;34m(\u001b[0m\u001b[0;34m*\u001b[0m\u001b[0margs\u001b[0m\u001b[0;34m)\u001b[0m\u001b[0;34m\u001b[0m\u001b[0;34m\u001b[0m\u001b[0m\n\u001b[0m\u001b[1;32m    570\u001b[0m \u001b[0;34m\u001b[0m\u001b[0m\n\u001b[1;32m    571\u001b[0m \u001b[0;31m# XXX probably also want an abstract factory that knows when it makes\u001b[0m\u001b[0;34m\u001b[0m\u001b[0;34m\u001b[0m\u001b[0;34m\u001b[0m\u001b[0m\n",
      "\u001b[0;32m/usr/local/lib/python3.7/urllib/request.py\u001b[0m in \u001b[0;36m_call_chain\u001b[0;34m(self, chain, kind, meth_name, *args)\u001b[0m\n\u001b[1;32m    501\u001b[0m         \u001b[0;32mfor\u001b[0m \u001b[0mhandler\u001b[0m \u001b[0;32min\u001b[0m \u001b[0mhandlers\u001b[0m\u001b[0;34m:\u001b[0m\u001b[0;34m\u001b[0m\u001b[0;34m\u001b[0m\u001b[0m\n\u001b[1;32m    502\u001b[0m             \u001b[0mfunc\u001b[0m \u001b[0;34m=\u001b[0m \u001b[0mgetattr\u001b[0m\u001b[0;34m(\u001b[0m\u001b[0mhandler\u001b[0m\u001b[0;34m,\u001b[0m \u001b[0mmeth_name\u001b[0m\u001b[0;34m)\u001b[0m\u001b[0;34m\u001b[0m\u001b[0;34m\u001b[0m\u001b[0m\n\u001b[0;32m--> 503\u001b[0;31m             \u001b[0mresult\u001b[0m \u001b[0;34m=\u001b[0m \u001b[0mfunc\u001b[0m\u001b[0;34m(\u001b[0m\u001b[0;34m*\u001b[0m\u001b[0margs\u001b[0m\u001b[0;34m)\u001b[0m\u001b[0;34m\u001b[0m\u001b[0;34m\u001b[0m\u001b[0m\n\u001b[0m\u001b[1;32m    504\u001b[0m             \u001b[0;32mif\u001b[0m \u001b[0mresult\u001b[0m \u001b[0;32mis\u001b[0m \u001b[0;32mnot\u001b[0m \u001b[0;32mNone\u001b[0m\u001b[0;34m:\u001b[0m\u001b[0;34m\u001b[0m\u001b[0;34m\u001b[0m\u001b[0m\n\u001b[1;32m    505\u001b[0m                 \u001b[0;32mreturn\u001b[0m \u001b[0mresult\u001b[0m\u001b[0;34m\u001b[0m\u001b[0;34m\u001b[0m\u001b[0m\n",
      "\u001b[0;32m/usr/local/lib/python3.7/urllib/request.py\u001b[0m in \u001b[0;36mhttp_error_default\u001b[0;34m(self, req, fp, code, msg, hdrs)\u001b[0m\n\u001b[1;32m    647\u001b[0m \u001b[0;32mclass\u001b[0m \u001b[0mHTTPDefaultErrorHandler\u001b[0m\u001b[0;34m(\u001b[0m\u001b[0mBaseHandler\u001b[0m\u001b[0;34m)\u001b[0m\u001b[0;34m:\u001b[0m\u001b[0;34m\u001b[0m\u001b[0;34m\u001b[0m\u001b[0m\n\u001b[1;32m    648\u001b[0m     \u001b[0;32mdef\u001b[0m \u001b[0mhttp_error_default\u001b[0m\u001b[0;34m(\u001b[0m\u001b[0mself\u001b[0m\u001b[0;34m,\u001b[0m \u001b[0mreq\u001b[0m\u001b[0;34m,\u001b[0m \u001b[0mfp\u001b[0m\u001b[0;34m,\u001b[0m \u001b[0mcode\u001b[0m\u001b[0;34m,\u001b[0m \u001b[0mmsg\u001b[0m\u001b[0;34m,\u001b[0m \u001b[0mhdrs\u001b[0m\u001b[0;34m)\u001b[0m\u001b[0;34m:\u001b[0m\u001b[0;34m\u001b[0m\u001b[0;34m\u001b[0m\u001b[0m\n\u001b[0;32m--> 649\u001b[0;31m         \u001b[0;32mraise\u001b[0m \u001b[0mHTTPError\u001b[0m\u001b[0;34m(\u001b[0m\u001b[0mreq\u001b[0m\u001b[0;34m.\u001b[0m\u001b[0mfull_url\u001b[0m\u001b[0;34m,\u001b[0m \u001b[0mcode\u001b[0m\u001b[0;34m,\u001b[0m \u001b[0mmsg\u001b[0m\u001b[0;34m,\u001b[0m \u001b[0mhdrs\u001b[0m\u001b[0;34m,\u001b[0m \u001b[0mfp\u001b[0m\u001b[0;34m)\u001b[0m\u001b[0;34m\u001b[0m\u001b[0;34m\u001b[0m\u001b[0m\n\u001b[0m\u001b[1;32m    650\u001b[0m \u001b[0;34m\u001b[0m\u001b[0m\n\u001b[1;32m    651\u001b[0m \u001b[0;32mclass\u001b[0m \u001b[0mHTTPRedirectHandler\u001b[0m\u001b[0;34m(\u001b[0m\u001b[0mBaseHandler\u001b[0m\u001b[0;34m)\u001b[0m\u001b[0;34m:\u001b[0m\u001b[0;34m\u001b[0m\u001b[0;34m\u001b[0m\u001b[0m\n",
      "\u001b[0;31mHTTPError\u001b[0m: HTTP Error 404: Not Found"
     ]
    }
   ]
  },
  {
   "cell_type": "markdown",
   "source": "Great, looks like the data loaded in properly. Let's continue looking at some summary statistics on our data.",
   "metadata": {
    "colab_type": "text",
    "id": "tYhtoqdR6Y3J",
    "cell_id": "00005-193eb235-b37a-4fb6-81a6-22b2fb2c703a",
    "deepnote_cell_type": "markdown"
   }
  },
  {
   "cell_type": "markdown",
   "source": "## Viewing summary statistics\nThe functions describe() and info() are your friends",
   "metadata": {
    "colab_type": "text",
    "id": "sGKbG-eBqBjF",
    "cell_id": "00006-7a230caa-6cfa-4cbd-b1c5-0ff69e974b00",
    "deepnote_cell_type": "markdown"
   }
  },
  {
   "cell_type": "code",
   "metadata": {
    "colab": {
     "autoexec": {
      "startup": false,
      "wait_interval": 0
     }
    },
    "colab_type": "code",
    "id": "rnp3nN9b6ZNw",
    "cell_id": "00007-6643b8b9-7eac-4444-bcf9-d32f9a9da869",
    "deepnote_cell_type": "code"
   },
   "source": "# output high-level column statistics\ndataset.describe()",
   "execution_count": 2,
   "outputs": [
    {
     "data": {
      "text/html": "<div>\n<style scoped>\n    .dataframe tbody tr th:only-of-type {\n        vertical-align: middle;\n    }\n\n    .dataframe tbody tr th {\n        vertical-align: top;\n    }\n\n    .dataframe thead th {\n        text-align: right;\n    }\n</style>\n<table border=\"1\" class=\"dataframe\">\n  <thead>\n    <tr style=\"text-align: right;\">\n      <th></th>\n      <th>Age</th>\n      <th>Sex</th>\n      <th>On thyroxine</th>\n      <th>query on thyroxine</th>\n      <th>on antithyroid medication</th>\n      <th>sick</th>\n      <th>pregnant</th>\n      <th>thyroid surgery</th>\n      <th>I131 treatment</th>\n      <th>query hypothyroid</th>\n      <th>...</th>\n      <th>TT4 measured</th>\n      <th>TT4</th>\n      <th>T4U measured</th>\n      <th>T4u</th>\n      <th>FTI measured</th>\n      <th>FTI</th>\n      <th>TBG measured</th>\n      <th>TBG</th>\n      <th>referral source</th>\n      <th>class</th>\n    </tr>\n  </thead>\n  <tbody>\n    <tr>\n      <th>count</th>\n      <td>2800</td>\n      <td>2800</td>\n      <td>2800</td>\n      <td>2800</td>\n      <td>2800</td>\n      <td>2800</td>\n      <td>2800</td>\n      <td>2800</td>\n      <td>2800</td>\n      <td>2800</td>\n      <td>...</td>\n      <td>2800</td>\n      <td>2800</td>\n      <td>2800</td>\n      <td>2800</td>\n      <td>2800</td>\n      <td>2800</td>\n      <td>2800</td>\n      <td>2800</td>\n      <td>2800</td>\n      <td>2800</td>\n    </tr>\n    <tr>\n      <th>unique</th>\n      <td>94</td>\n      <td>3</td>\n      <td>2</td>\n      <td>2</td>\n      <td>2</td>\n      <td>2</td>\n      <td>2</td>\n      <td>2</td>\n      <td>2</td>\n      <td>2</td>\n      <td>...</td>\n      <td>2</td>\n      <td>218</td>\n      <td>2</td>\n      <td>139</td>\n      <td>2</td>\n      <td>210</td>\n      <td>1</td>\n      <td>1</td>\n      <td>5</td>\n      <td>2800</td>\n    </tr>\n    <tr>\n      <th>top</th>\n      <td>59</td>\n      <td>F</td>\n      <td>f</td>\n      <td>f</td>\n      <td>f</td>\n      <td>f</td>\n      <td>f</td>\n      <td>f</td>\n      <td>f</td>\n      <td>f</td>\n      <td>...</td>\n      <td>t</td>\n      <td>?</td>\n      <td>t</td>\n      <td>?</td>\n      <td>t</td>\n      <td>?</td>\n      <td>f</td>\n      <td>?</td>\n      <td>other</td>\n      <td>negative.|1536</td>\n    </tr>\n    <tr>\n      <th>freq</th>\n      <td>75</td>\n      <td>1830</td>\n      <td>2470</td>\n      <td>2760</td>\n      <td>2766</td>\n      <td>2690</td>\n      <td>2759</td>\n      <td>2761</td>\n      <td>2752</td>\n      <td>2637</td>\n      <td>...</td>\n      <td>2616</td>\n      <td>184</td>\n      <td>2503</td>\n      <td>297</td>\n      <td>2505</td>\n      <td>295</td>\n      <td>2800</td>\n      <td>2800</td>\n      <td>1632</td>\n      <td>1</td>\n    </tr>\n  </tbody>\n</table>\n<p>4 rows × 29 columns</p>\n</div>",
      "text/plain": "         Age   Sex On thyroxine query on thyroxine on antithyroid medication  \\\ncount   2800  2800         2800               2800                      2800   \nunique    94     3            2                  2                         2   \ntop       59     F            f                  f                         f   \nfreq      75  1830         2470               2760                      2766   \n\n        sick pregnant thyroid surgery I131 treatment query hypothyroid  \\\ncount   2800     2800            2800           2800              2800   \nunique     2        2               2              2                 2   \ntop        f        f               f              f                 f   \nfreq    2690     2759            2761           2752              2637   \n\n             ...       TT4 measured   TT4 T4U measured   T4u FTI measured  \\\ncount        ...               2800  2800         2800  2800         2800   \nunique       ...                  2   218            2   139            2   \ntop          ...                  t     ?            t     ?            t   \nfreq         ...               2616   184         2503   297         2505   \n\n         FTI TBG measured   TBG referral source           class  \ncount   2800         2800  2800            2800            2800  \nunique   210            1     1               5            2800  \ntop        ?            f     ?           other  negative.|1536  \nfreq     295         2800  2800            1632               1  \n\n[4 rows x 29 columns]"
     },
     "execution_count": 2,
     "metadata": {},
     "output_type": "execute_result"
    }
   ]
  },
  {
   "cell_type": "code",
   "metadata": {
    "colab": {
     "autoexec": {
      "startup": false,
      "wait_interval": 0
     }
    },
    "colab_type": "code",
    "id": "9QndSspU7lW4",
    "cell_id": "00008-03475880-0741-4b1d-b59f-1beb0f82c057",
    "deepnote_cell_type": "code"
   },
   "source": "# output information about the data including the index dtype and column dtypes, non-null values and memory usage\ndataset.info()",
   "execution_count": 3,
   "outputs": [
    {
     "name": "stdout",
     "output_type": "stream",
     "text": "<class 'pandas.core.frame.DataFrame'>\nRangeIndex: 2800 entries, 0 to 2799\nData columns (total 29 columns):\nAge                          2800 non-null object\nSex                          2800 non-null object\nOn thyroxine                 2800 non-null object\nquery on thyroxine           2800 non-null object\non antithyroid medication    2800 non-null object\nsick                         2800 non-null object\npregnant                     2800 non-null object\nthyroid surgery              2800 non-null object\nI131 treatment               2800 non-null object\nquery hypothyroid            2800 non-null object\nquery hyperthyroid           2800 non-null object\nlithium                      2800 non-null object\ngoitre                       2800 non-null object\ntumor                        2800 non-null object\npsych                        2800 non-null object\nTSH measured                 2800 non-null object\nTSH                          2800 non-null object\nT3 measured                  2800 non-null object\nT3                           2800 non-null object\nTT4 measured                 2800 non-null object\nTT4                          2800 non-null object\nT4U measured                 2800 non-null object\nT4u                          2800 non-null object\nFTI measured                 2800 non-null object\nFTI                          2800 non-null object\nTBG measured                 2800 non-null object\nTBG                          2800 non-null object\nreferral source              2800 non-null object\nclass                        2800 non-null object\ndtypes: object(29)\nmemory usage: 634.5+ KB\n"
    }
   ]
  },
  {
   "cell_type": "markdown",
   "source": "Note the data types are all objects--even columns that are obviously numeric like Age.  This is because there are \"?\" values for some of the cells, making pandas interpret these columns as non-null objects (instead of int, for example).\n",
   "metadata": {
    "colab_type": "text",
    "id": "olpFokrp8AIH",
    "cell_id": "00009-09304021-3e8e-4cb3-a17b-e407abeaa483",
    "deepnote_cell_type": "markdown"
   }
  },
  {
   "cell_type": "markdown",
   "source": "## Data cleaning",
   "metadata": {
    "colab_type": "text",
    "id": "0emOppVyqQS9",
    "cell_id": "00010-75f1a428-2cd8-4bdb-a20b-5dd946b1967b",
    "deepnote_cell_type": "markdown"
   }
  },
  {
   "cell_type": "markdown",
   "source": "To start, let's make all the numerical columns contain the correct type of values and change the data type of those columns to numeric. Let's also replace all those question marks with the median of the respective column.\n\nHint: To make it easier, first try converting all the \"?\" to NaN.",
   "metadata": {
    "colab_type": "text",
    "id": "ZRQpnByEWrcx",
    "cell_id": "00011-dd951750-e9c4-45e9-bd83-22f6437bc579",
    "deepnote_cell_type": "markdown"
   }
  },
  {
   "cell_type": "code",
   "metadata": {
    "colab": {
     "autoexec": {
      "startup": false,
      "wait_interval": 0
     }
    },
    "colab_type": "code",
    "id": "BlTsaK5n5Bg1",
    "cell_id": "00012-8e8091d2-8e0d-4a69-adcf-798827a6194a",
    "deepnote_cell_type": "code"
   },
   "source": "import numpy as np\n\n# drop columns that do not contain useful information (all 2800 data points have the same value)\ndrop_columns = [\"TBG\",\"TBG measured\"]\ntry:\n    dataset=dataset.drop(drop_columns,axis=1)\nexcept:\n    print(\"Can't drop columns {}, they may not exist\".format(drop_columns))\n        \n",
   "execution_count": 4,
   "outputs": []
  },
  {
   "cell_type": "code",
   "metadata": {
    "cell_id": "00013-499add0c-dc36-4def-988e-57696548d9a8",
    "deepnote_cell_type": "code"
   },
   "source": "# convert \"?\" cells to NaN\ndataset[dataset=='?'] = np.nan\n",
   "execution_count": 5,
   "outputs": []
  },
  {
   "cell_type": "code",
   "metadata": {
    "cell_id": "00014-556e1951-5aba-451d-bd62-6db81a495f25",
    "deepnote_cell_type": "code"
   },
   "source": "# identify columns by what time of data they hold\nnumeric_columns=list([\"Age\",\"TSH\",\"T3\",\"TT4\",\"T4u\",\"FTI\"])\n\n# categorical columns are everything else (minus 'class')\ncategorical_columns = list(set(dataset.columns)-set(numeric_columns)-set(['class']))\n\n\n# convert numeric columns from strings to numbers\ndataset[numeric_columns] = dataset[numeric_columns].apply(po.to_numeric)\n\n# print statement for sanity check\nprint('Numerical Columns: ',numeric_columns)\nprint('Categorical Columns: ',categorical_columns)\n\ndataset.head(10)\n",
   "execution_count": 6,
   "outputs": [
    {
     "name": "stdout",
     "output_type": "stream",
     "text": "Numerical Columns:  ['Age', 'TSH', 'T3', 'TT4', 'T4u', 'FTI']\nCategorical Columns:  ['lithium', 'TT4 measured', 'psych', 'query hypothyroid', 'thyroid surgery', 'On thyroxine', 'on antithyroid medication', 'tumor', 'TSH measured', 'goitre', 'query on thyroxine', 'I131 treatment', 'T3 measured', 'T4U measured', 'FTI measured', 'query hyperthyroid', 'sick', 'pregnant', 'referral source', 'Sex']\n"
    },
    {
     "data": {
      "text/html": "<div>\n<style scoped>\n    .dataframe tbody tr th:only-of-type {\n        vertical-align: middle;\n    }\n\n    .dataframe tbody tr th {\n        vertical-align: top;\n    }\n\n    .dataframe thead th {\n        text-align: right;\n    }\n</style>\n<table border=\"1\" class=\"dataframe\">\n  <thead>\n    <tr style=\"text-align: right;\">\n      <th></th>\n      <th>Age</th>\n      <th>Sex</th>\n      <th>On thyroxine</th>\n      <th>query on thyroxine</th>\n      <th>on antithyroid medication</th>\n      <th>sick</th>\n      <th>pregnant</th>\n      <th>thyroid surgery</th>\n      <th>I131 treatment</th>\n      <th>query hypothyroid</th>\n      <th>...</th>\n      <th>T3 measured</th>\n      <th>T3</th>\n      <th>TT4 measured</th>\n      <th>TT4</th>\n      <th>T4U measured</th>\n      <th>T4u</th>\n      <th>FTI measured</th>\n      <th>FTI</th>\n      <th>referral source</th>\n      <th>class</th>\n    </tr>\n  </thead>\n  <tbody>\n    <tr>\n      <th>0</th>\n      <td>41.0</td>\n      <td>F</td>\n      <td>f</td>\n      <td>f</td>\n      <td>f</td>\n      <td>f</td>\n      <td>f</td>\n      <td>f</td>\n      <td>f</td>\n      <td>f</td>\n      <td>...</td>\n      <td>t</td>\n      <td>2.5</td>\n      <td>t</td>\n      <td>125.0</td>\n      <td>t</td>\n      <td>1.14</td>\n      <td>t</td>\n      <td>109.0</td>\n      <td>SVHC</td>\n      <td>negative.|3733</td>\n    </tr>\n    <tr>\n      <th>1</th>\n      <td>23.0</td>\n      <td>F</td>\n      <td>f</td>\n      <td>f</td>\n      <td>f</td>\n      <td>f</td>\n      <td>f</td>\n      <td>f</td>\n      <td>f</td>\n      <td>f</td>\n      <td>...</td>\n      <td>t</td>\n      <td>2.0</td>\n      <td>t</td>\n      <td>102.0</td>\n      <td>f</td>\n      <td>NaN</td>\n      <td>f</td>\n      <td>NaN</td>\n      <td>other</td>\n      <td>negative.|1442</td>\n    </tr>\n    <tr>\n      <th>2</th>\n      <td>46.0</td>\n      <td>M</td>\n      <td>f</td>\n      <td>f</td>\n      <td>f</td>\n      <td>f</td>\n      <td>f</td>\n      <td>f</td>\n      <td>f</td>\n      <td>f</td>\n      <td>...</td>\n      <td>f</td>\n      <td>NaN</td>\n      <td>t</td>\n      <td>109.0</td>\n      <td>t</td>\n      <td>0.91</td>\n      <td>t</td>\n      <td>120.0</td>\n      <td>other</td>\n      <td>negative.|2965</td>\n    </tr>\n    <tr>\n      <th>3</th>\n      <td>70.0</td>\n      <td>F</td>\n      <td>t</td>\n      <td>f</td>\n      <td>f</td>\n      <td>f</td>\n      <td>f</td>\n      <td>f</td>\n      <td>f</td>\n      <td>f</td>\n      <td>...</td>\n      <td>t</td>\n      <td>1.9</td>\n      <td>t</td>\n      <td>175.0</td>\n      <td>f</td>\n      <td>NaN</td>\n      <td>f</td>\n      <td>NaN</td>\n      <td>other</td>\n      <td>negative.|806</td>\n    </tr>\n    <tr>\n      <th>4</th>\n      <td>70.0</td>\n      <td>F</td>\n      <td>f</td>\n      <td>f</td>\n      <td>f</td>\n      <td>f</td>\n      <td>f</td>\n      <td>f</td>\n      <td>f</td>\n      <td>f</td>\n      <td>...</td>\n      <td>t</td>\n      <td>1.2</td>\n      <td>t</td>\n      <td>61.0</td>\n      <td>t</td>\n      <td>0.87</td>\n      <td>t</td>\n      <td>70.0</td>\n      <td>SVI</td>\n      <td>negative.|2807</td>\n    </tr>\n    <tr>\n      <th>5</th>\n      <td>18.0</td>\n      <td>F</td>\n      <td>t</td>\n      <td>f</td>\n      <td>f</td>\n      <td>f</td>\n      <td>f</td>\n      <td>f</td>\n      <td>f</td>\n      <td>f</td>\n      <td>...</td>\n      <td>f</td>\n      <td>NaN</td>\n      <td>t</td>\n      <td>183.0</td>\n      <td>t</td>\n      <td>1.30</td>\n      <td>t</td>\n      <td>141.0</td>\n      <td>other</td>\n      <td>negative.|3434</td>\n    </tr>\n    <tr>\n      <th>6</th>\n      <td>59.0</td>\n      <td>F</td>\n      <td>f</td>\n      <td>f</td>\n      <td>f</td>\n      <td>f</td>\n      <td>f</td>\n      <td>f</td>\n      <td>f</td>\n      <td>f</td>\n      <td>...</td>\n      <td>f</td>\n      <td>NaN</td>\n      <td>t</td>\n      <td>72.0</td>\n      <td>t</td>\n      <td>0.92</td>\n      <td>t</td>\n      <td>78.0</td>\n      <td>other</td>\n      <td>negative.|1595</td>\n    </tr>\n    <tr>\n      <th>7</th>\n      <td>80.0</td>\n      <td>F</td>\n      <td>f</td>\n      <td>f</td>\n      <td>f</td>\n      <td>f</td>\n      <td>f</td>\n      <td>f</td>\n      <td>f</td>\n      <td>f</td>\n      <td>...</td>\n      <td>t</td>\n      <td>0.6</td>\n      <td>t</td>\n      <td>80.0</td>\n      <td>t</td>\n      <td>0.70</td>\n      <td>t</td>\n      <td>115.0</td>\n      <td>SVI</td>\n      <td>negative.|1367</td>\n    </tr>\n    <tr>\n      <th>8</th>\n      <td>66.0</td>\n      <td>F</td>\n      <td>f</td>\n      <td>f</td>\n      <td>f</td>\n      <td>f</td>\n      <td>f</td>\n      <td>f</td>\n      <td>f</td>\n      <td>f</td>\n      <td>...</td>\n      <td>t</td>\n      <td>2.2</td>\n      <td>t</td>\n      <td>123.0</td>\n      <td>t</td>\n      <td>0.93</td>\n      <td>t</td>\n      <td>132.0</td>\n      <td>SVI</td>\n      <td>negative.|1787</td>\n    </tr>\n    <tr>\n      <th>9</th>\n      <td>68.0</td>\n      <td>M</td>\n      <td>f</td>\n      <td>f</td>\n      <td>f</td>\n      <td>f</td>\n      <td>f</td>\n      <td>f</td>\n      <td>f</td>\n      <td>f</td>\n      <td>...</td>\n      <td>t</td>\n      <td>1.6</td>\n      <td>t</td>\n      <td>83.0</td>\n      <td>t</td>\n      <td>0.89</td>\n      <td>t</td>\n      <td>93.0</td>\n      <td>SVI</td>\n      <td>negative.|2534</td>\n    </tr>\n  </tbody>\n</table>\n<p>10 rows × 27 columns</p>\n</div>",
      "text/plain": "    Age Sex On thyroxine query on thyroxine on antithyroid medication sick  \\\n0  41.0   F            f                  f                         f    f   \n1  23.0   F            f                  f                         f    f   \n2  46.0   M            f                  f                         f    f   \n3  70.0   F            t                  f                         f    f   \n4  70.0   F            f                  f                         f    f   \n5  18.0   F            t                  f                         f    f   \n6  59.0   F            f                  f                         f    f   \n7  80.0   F            f                  f                         f    f   \n8  66.0   F            f                  f                         f    f   \n9  68.0   M            f                  f                         f    f   \n\n  pregnant thyroid surgery I131 treatment query hypothyroid       ...        \\\n0        f               f              f                 f       ...         \n1        f               f              f                 f       ...         \n2        f               f              f                 f       ...         \n3        f               f              f                 f       ...         \n4        f               f              f                 f       ...         \n5        f               f              f                 f       ...         \n6        f               f              f                 f       ...         \n7        f               f              f                 f       ...         \n8        f               f              f                 f       ...         \n9        f               f              f                 f       ...         \n\n  T3 measured   T3 TT4 measured    TT4 T4U measured   T4u  FTI measured  \\\n0           t  2.5            t  125.0            t  1.14             t   \n1           t  2.0            t  102.0            f   NaN             f   \n2           f  NaN            t  109.0            t  0.91             t   \n3           t  1.9            t  175.0            f   NaN             f   \n4           t  1.2            t   61.0            t  0.87             t   \n5           f  NaN            t  183.0            t  1.30             t   \n6           f  NaN            t   72.0            t  0.92             t   \n7           t  0.6            t   80.0            t  0.70             t   \n8           t  2.2            t  123.0            t  0.93             t   \n9           t  1.6            t   83.0            t  0.89             t   \n\n     FTI  referral source           class  \n0  109.0             SVHC  negative.|3733  \n1    NaN            other  negative.|1442  \n2  120.0            other  negative.|2965  \n3    NaN            other   negative.|806  \n4   70.0              SVI  negative.|2807  \n5  141.0            other  negative.|3434  \n6   78.0            other  negative.|1595  \n7  115.0              SVI  negative.|1367  \n8  132.0              SVI  negative.|1787  \n9   93.0              SVI  negative.|2534  \n\n[10 rows x 27 columns]"
     },
     "execution_count": 6,
     "metadata": {},
     "output_type": "execute_result"
    }
   ]
  },
  {
   "cell_type": "markdown",
   "source": "Perfect!  Now let's see what's going on with the \"class\" column.... According to the note the data collectors included with this data, the \".|####\" refers to a patient number, and is not necessarily relevant for our purposes here.  Let's turn the \"class\" column into a useful multi-class label.",
   "metadata": {
    "colab_type": "text",
    "id": "XOzcRX-5YRvz",
    "cell_id": "00015-cb5457a4-295b-4772-8548-12300f569a5b",
    "deepnote_cell_type": "markdown"
   }
  },
  {
   "cell_type": "code",
   "metadata": {
    "colab": {
     "autoexec": {
      "startup": false,
      "wait_interval": 0
     }
    },
    "colab_type": "code",
    "id": "QFmeyRcGYR7s",
    "cell_id": "00016-b18d1488-f687-44e8-9875-abfb5245d205",
    "deepnote_cell_type": "code"
   },
   "source": "# import regular expression package\nimport re  \n\n# define the regular expression for the \".|####\" part of dataset['class']\n\nregex_pattern = ( \"\\.\"   # looks for the period...\n                  \"\\|\"   # followed by a pipe...\n                  \"\\d+\") # followed by one or more digit\n\nfor index, row in dataset.iterrows():\n    \n    # substitute instances of our regex_pattern for an empty string\n    new_class = re.sub(regex_pattern, '', row['class'])\n    dataset.loc[index,'class']=new_class\n\ndataset.head()",
   "execution_count": 7,
   "outputs": [
    {
     "data": {
      "text/html": "<div>\n<style scoped>\n    .dataframe tbody tr th:only-of-type {\n        vertical-align: middle;\n    }\n\n    .dataframe tbody tr th {\n        vertical-align: top;\n    }\n\n    .dataframe thead th {\n        text-align: right;\n    }\n</style>\n<table border=\"1\" class=\"dataframe\">\n  <thead>\n    <tr style=\"text-align: right;\">\n      <th></th>\n      <th>Age</th>\n      <th>Sex</th>\n      <th>On thyroxine</th>\n      <th>query on thyroxine</th>\n      <th>on antithyroid medication</th>\n      <th>sick</th>\n      <th>pregnant</th>\n      <th>thyroid surgery</th>\n      <th>I131 treatment</th>\n      <th>query hypothyroid</th>\n      <th>...</th>\n      <th>T3 measured</th>\n      <th>T3</th>\n      <th>TT4 measured</th>\n      <th>TT4</th>\n      <th>T4U measured</th>\n      <th>T4u</th>\n      <th>FTI measured</th>\n      <th>FTI</th>\n      <th>referral source</th>\n      <th>class</th>\n    </tr>\n  </thead>\n  <tbody>\n    <tr>\n      <th>0</th>\n      <td>41.0</td>\n      <td>F</td>\n      <td>f</td>\n      <td>f</td>\n      <td>f</td>\n      <td>f</td>\n      <td>f</td>\n      <td>f</td>\n      <td>f</td>\n      <td>f</td>\n      <td>...</td>\n      <td>t</td>\n      <td>2.5</td>\n      <td>t</td>\n      <td>125.0</td>\n      <td>t</td>\n      <td>1.14</td>\n      <td>t</td>\n      <td>109.0</td>\n      <td>SVHC</td>\n      <td>negative</td>\n    </tr>\n    <tr>\n      <th>1</th>\n      <td>23.0</td>\n      <td>F</td>\n      <td>f</td>\n      <td>f</td>\n      <td>f</td>\n      <td>f</td>\n      <td>f</td>\n      <td>f</td>\n      <td>f</td>\n      <td>f</td>\n      <td>...</td>\n      <td>t</td>\n      <td>2.0</td>\n      <td>t</td>\n      <td>102.0</td>\n      <td>f</td>\n      <td>NaN</td>\n      <td>f</td>\n      <td>NaN</td>\n      <td>other</td>\n      <td>negative</td>\n    </tr>\n    <tr>\n      <th>2</th>\n      <td>46.0</td>\n      <td>M</td>\n      <td>f</td>\n      <td>f</td>\n      <td>f</td>\n      <td>f</td>\n      <td>f</td>\n      <td>f</td>\n      <td>f</td>\n      <td>f</td>\n      <td>...</td>\n      <td>f</td>\n      <td>NaN</td>\n      <td>t</td>\n      <td>109.0</td>\n      <td>t</td>\n      <td>0.91</td>\n      <td>t</td>\n      <td>120.0</td>\n      <td>other</td>\n      <td>negative</td>\n    </tr>\n    <tr>\n      <th>3</th>\n      <td>70.0</td>\n      <td>F</td>\n      <td>t</td>\n      <td>f</td>\n      <td>f</td>\n      <td>f</td>\n      <td>f</td>\n      <td>f</td>\n      <td>f</td>\n      <td>f</td>\n      <td>...</td>\n      <td>t</td>\n      <td>1.9</td>\n      <td>t</td>\n      <td>175.0</td>\n      <td>f</td>\n      <td>NaN</td>\n      <td>f</td>\n      <td>NaN</td>\n      <td>other</td>\n      <td>negative</td>\n    </tr>\n    <tr>\n      <th>4</th>\n      <td>70.0</td>\n      <td>F</td>\n      <td>f</td>\n      <td>f</td>\n      <td>f</td>\n      <td>f</td>\n      <td>f</td>\n      <td>f</td>\n      <td>f</td>\n      <td>f</td>\n      <td>...</td>\n      <td>t</td>\n      <td>1.2</td>\n      <td>t</td>\n      <td>61.0</td>\n      <td>t</td>\n      <td>0.87</td>\n      <td>t</td>\n      <td>70.0</td>\n      <td>SVI</td>\n      <td>negative</td>\n    </tr>\n  </tbody>\n</table>\n<p>5 rows × 27 columns</p>\n</div>",
      "text/plain": "    Age Sex On thyroxine query on thyroxine on antithyroid medication sick  \\\n0  41.0   F            f                  f                         f    f   \n1  23.0   F            f                  f                         f    f   \n2  46.0   M            f                  f                         f    f   \n3  70.0   F            t                  f                         f    f   \n4  70.0   F            f                  f                         f    f   \n\n  pregnant thyroid surgery I131 treatment query hypothyroid    ...     \\\n0        f               f              f                 f    ...      \n1        f               f              f                 f    ...      \n2        f               f              f                 f    ...      \n3        f               f              f                 f    ...      \n4        f               f              f                 f    ...      \n\n  T3 measured   T3 TT4 measured    TT4 T4U measured   T4u  FTI measured  \\\n0           t  2.5            t  125.0            t  1.14             t   \n1           t  2.0            t  102.0            f   NaN             f   \n2           f  NaN            t  109.0            t  0.91             t   \n3           t  1.9            t  175.0            f   NaN             f   \n4           t  1.2            t   61.0            t  0.87             t   \n\n     FTI  referral source     class  \n0  109.0             SVHC  negative  \n1    NaN            other  negative  \n2  120.0            other  negative  \n3    NaN            other  negative  \n4   70.0              SVI  negative  \n\n[5 rows x 27 columns]"
     },
     "execution_count": 7,
     "metadata": {},
     "output_type": "execute_result"
    }
   ]
  },
  {
   "cell_type": "markdown",
   "source": "Let's run the describe() function on just the \"class\" column.",
   "metadata": {
    "colab_type": "text",
    "id": "KYOwWnpqhQvd",
    "cell_id": "00017-571a770b-eeda-4bfd-9686-c20b83549c0d",
    "deepnote_cell_type": "markdown"
   }
  },
  {
   "cell_type": "code",
   "metadata": {
    "colab": {
     "autoexec": {
      "startup": false,
      "wait_interval": 0
     },
     "base_uri": "https://localhost:8080/",
     "height": 105
    },
    "colab_type": "code",
    "executionInfo": {
     "elapsed": 272,
     "status": "ok",
     "timestamp": 1531117211963,
     "user": {
      "displayName": "Lyle Lalunio",
      "photoUrl": "https://lh3.googleusercontent.com/a/default-user=s128",
      "userId": "108954789805627648380"
     },
     "user_tz": 240
    },
    "id": "cq_v45R8hP5A",
    "outputId": "5db97e80-a424-49c9-d58f-a7126894d1c6",
    "cell_id": "00018-7470089b-ea9a-4020-934c-38bbe12997bb",
    "deepnote_cell_type": "code"
   },
   "source": "dataset['class'].describe()",
   "execution_count": 8,
   "outputs": [
    {
     "data": {
      "text/plain": "count         2800\nunique           4\ntop       negative\nfreq          2580\nName: class, dtype: object"
     },
     "execution_count": 8,
     "metadata": {},
     "output_type": "execute_result"
    }
   ]
  },
  {
   "cell_type": "markdown",
   "source": "It looks like there are actually 4 unique classification variables! Thank goodness we didn't assume it was binary.\n\n",
   "metadata": {
    "colab_type": "text",
    "id": "m6S7Y6VXhYct",
    "cell_id": "00019-dc577d69-414f-4804-bc07-332e690eafc0",
    "deepnote_cell_type": "markdown"
   }
  },
  {
   "cell_type": "code",
   "metadata": {
    "colab": {
     "autoexec": {
      "startup": false,
      "wait_interval": 0
     }
    },
    "colab_type": "code",
    "id": "oH0fTzzvE-oF",
    "cell_id": "00020-b778405e-f064-4c77-bcd9-5d246fe02e54",
    "deepnote_cell_type": "code"
   },
   "source": "#Display all the unique values in the class column.\ndataset['class'].unique()",
   "execution_count": 9,
   "outputs": [
    {
     "data": {
      "text/plain": "array(['negative', 'compensated hypothyroid', 'primary hypothyroid',\n       'secondary hypothyroid'], dtype=object)"
     },
     "execution_count": 9,
     "metadata": {},
     "output_type": "execute_result"
    }
   ]
  },
  {
   "cell_type": "markdown",
   "source": "But let's make it binary for the sake of this example.  If you finish early later on, try the multiclass classifier with all 4 values!",
   "metadata": {
    "colab_type": "text",
    "id": "aBrmRJHakpWm",
    "cell_id": "00021-b1ef8faa-b299-433a-9a6f-9fdc7f363086",
    "deepnote_cell_type": "markdown"
   }
  },
  {
   "cell_type": "code",
   "metadata": {
    "colab": {
     "autoexec": {
      "startup": false,
      "wait_interval": 0
     }
    },
    "colab_type": "code",
    "id": "HwqVoUFTkoa0",
    "cell_id": "00022-ee225878-6254-4064-9f88-b09bcbfa5771",
    "deepnote_cell_type": "code"
   },
   "source": "# Change all non-negative classes to the positive class\n\ndataset['class'] = dataset['class'].replace('negative', 0)                    \ndataset['class'] = dataset['class'].replace('compensated hypothyroid', 1)     \ndataset['class'] = dataset['class'].replace('primary hypothyroid', 1)         \ndataset['class'] = dataset['class'].replace('secondary hypothyroid', 1)\n\ndataset.head(10)",
   "execution_count": 10,
   "outputs": [
    {
     "data": {
      "text/html": "<div>\n<style scoped>\n    .dataframe tbody tr th:only-of-type {\n        vertical-align: middle;\n    }\n\n    .dataframe tbody tr th {\n        vertical-align: top;\n    }\n\n    .dataframe thead th {\n        text-align: right;\n    }\n</style>\n<table border=\"1\" class=\"dataframe\">\n  <thead>\n    <tr style=\"text-align: right;\">\n      <th></th>\n      <th>Age</th>\n      <th>Sex</th>\n      <th>On thyroxine</th>\n      <th>query on thyroxine</th>\n      <th>on antithyroid medication</th>\n      <th>sick</th>\n      <th>pregnant</th>\n      <th>thyroid surgery</th>\n      <th>I131 treatment</th>\n      <th>query hypothyroid</th>\n      <th>...</th>\n      <th>T3 measured</th>\n      <th>T3</th>\n      <th>TT4 measured</th>\n      <th>TT4</th>\n      <th>T4U measured</th>\n      <th>T4u</th>\n      <th>FTI measured</th>\n      <th>FTI</th>\n      <th>referral source</th>\n      <th>class</th>\n    </tr>\n  </thead>\n  <tbody>\n    <tr>\n      <th>0</th>\n      <td>41.0</td>\n      <td>F</td>\n      <td>f</td>\n      <td>f</td>\n      <td>f</td>\n      <td>f</td>\n      <td>f</td>\n      <td>f</td>\n      <td>f</td>\n      <td>f</td>\n      <td>...</td>\n      <td>t</td>\n      <td>2.5</td>\n      <td>t</td>\n      <td>125.0</td>\n      <td>t</td>\n      <td>1.14</td>\n      <td>t</td>\n      <td>109.0</td>\n      <td>SVHC</td>\n      <td>0</td>\n    </tr>\n    <tr>\n      <th>1</th>\n      <td>23.0</td>\n      <td>F</td>\n      <td>f</td>\n      <td>f</td>\n      <td>f</td>\n      <td>f</td>\n      <td>f</td>\n      <td>f</td>\n      <td>f</td>\n      <td>f</td>\n      <td>...</td>\n      <td>t</td>\n      <td>2.0</td>\n      <td>t</td>\n      <td>102.0</td>\n      <td>f</td>\n      <td>NaN</td>\n      <td>f</td>\n      <td>NaN</td>\n      <td>other</td>\n      <td>0</td>\n    </tr>\n    <tr>\n      <th>2</th>\n      <td>46.0</td>\n      <td>M</td>\n      <td>f</td>\n      <td>f</td>\n      <td>f</td>\n      <td>f</td>\n      <td>f</td>\n      <td>f</td>\n      <td>f</td>\n      <td>f</td>\n      <td>...</td>\n      <td>f</td>\n      <td>NaN</td>\n      <td>t</td>\n      <td>109.0</td>\n      <td>t</td>\n      <td>0.91</td>\n      <td>t</td>\n      <td>120.0</td>\n      <td>other</td>\n      <td>0</td>\n    </tr>\n    <tr>\n      <th>3</th>\n      <td>70.0</td>\n      <td>F</td>\n      <td>t</td>\n      <td>f</td>\n      <td>f</td>\n      <td>f</td>\n      <td>f</td>\n      <td>f</td>\n      <td>f</td>\n      <td>f</td>\n      <td>...</td>\n      <td>t</td>\n      <td>1.9</td>\n      <td>t</td>\n      <td>175.0</td>\n      <td>f</td>\n      <td>NaN</td>\n      <td>f</td>\n      <td>NaN</td>\n      <td>other</td>\n      <td>0</td>\n    </tr>\n    <tr>\n      <th>4</th>\n      <td>70.0</td>\n      <td>F</td>\n      <td>f</td>\n      <td>f</td>\n      <td>f</td>\n      <td>f</td>\n      <td>f</td>\n      <td>f</td>\n      <td>f</td>\n      <td>f</td>\n      <td>...</td>\n      <td>t</td>\n      <td>1.2</td>\n      <td>t</td>\n      <td>61.0</td>\n      <td>t</td>\n      <td>0.87</td>\n      <td>t</td>\n      <td>70.0</td>\n      <td>SVI</td>\n      <td>0</td>\n    </tr>\n    <tr>\n      <th>5</th>\n      <td>18.0</td>\n      <td>F</td>\n      <td>t</td>\n      <td>f</td>\n      <td>f</td>\n      <td>f</td>\n      <td>f</td>\n      <td>f</td>\n      <td>f</td>\n      <td>f</td>\n      <td>...</td>\n      <td>f</td>\n      <td>NaN</td>\n      <td>t</td>\n      <td>183.0</td>\n      <td>t</td>\n      <td>1.30</td>\n      <td>t</td>\n      <td>141.0</td>\n      <td>other</td>\n      <td>0</td>\n    </tr>\n    <tr>\n      <th>6</th>\n      <td>59.0</td>\n      <td>F</td>\n      <td>f</td>\n      <td>f</td>\n      <td>f</td>\n      <td>f</td>\n      <td>f</td>\n      <td>f</td>\n      <td>f</td>\n      <td>f</td>\n      <td>...</td>\n      <td>f</td>\n      <td>NaN</td>\n      <td>t</td>\n      <td>72.0</td>\n      <td>t</td>\n      <td>0.92</td>\n      <td>t</td>\n      <td>78.0</td>\n      <td>other</td>\n      <td>0</td>\n    </tr>\n    <tr>\n      <th>7</th>\n      <td>80.0</td>\n      <td>F</td>\n      <td>f</td>\n      <td>f</td>\n      <td>f</td>\n      <td>f</td>\n      <td>f</td>\n      <td>f</td>\n      <td>f</td>\n      <td>f</td>\n      <td>...</td>\n      <td>t</td>\n      <td>0.6</td>\n      <td>t</td>\n      <td>80.0</td>\n      <td>t</td>\n      <td>0.70</td>\n      <td>t</td>\n      <td>115.0</td>\n      <td>SVI</td>\n      <td>0</td>\n    </tr>\n    <tr>\n      <th>8</th>\n      <td>66.0</td>\n      <td>F</td>\n      <td>f</td>\n      <td>f</td>\n      <td>f</td>\n      <td>f</td>\n      <td>f</td>\n      <td>f</td>\n      <td>f</td>\n      <td>f</td>\n      <td>...</td>\n      <td>t</td>\n      <td>2.2</td>\n      <td>t</td>\n      <td>123.0</td>\n      <td>t</td>\n      <td>0.93</td>\n      <td>t</td>\n      <td>132.0</td>\n      <td>SVI</td>\n      <td>0</td>\n    </tr>\n    <tr>\n      <th>9</th>\n      <td>68.0</td>\n      <td>M</td>\n      <td>f</td>\n      <td>f</td>\n      <td>f</td>\n      <td>f</td>\n      <td>f</td>\n      <td>f</td>\n      <td>f</td>\n      <td>f</td>\n      <td>...</td>\n      <td>t</td>\n      <td>1.6</td>\n      <td>t</td>\n      <td>83.0</td>\n      <td>t</td>\n      <td>0.89</td>\n      <td>t</td>\n      <td>93.0</td>\n      <td>SVI</td>\n      <td>0</td>\n    </tr>\n  </tbody>\n</table>\n<p>10 rows × 27 columns</p>\n</div>",
      "text/plain": "    Age Sex On thyroxine query on thyroxine on antithyroid medication sick  \\\n0  41.0   F            f                  f                         f    f   \n1  23.0   F            f                  f                         f    f   \n2  46.0   M            f                  f                         f    f   \n3  70.0   F            t                  f                         f    f   \n4  70.0   F            f                  f                         f    f   \n5  18.0   F            t                  f                         f    f   \n6  59.0   F            f                  f                         f    f   \n7  80.0   F            f                  f                         f    f   \n8  66.0   F            f                  f                         f    f   \n9  68.0   M            f                  f                         f    f   \n\n  pregnant thyroid surgery I131 treatment query hypothyroid  ...  T3 measured  \\\n0        f               f              f                 f  ...            t   \n1        f               f              f                 f  ...            t   \n2        f               f              f                 f  ...            f   \n3        f               f              f                 f  ...            t   \n4        f               f              f                 f  ...            t   \n5        f               f              f                 f  ...            f   \n6        f               f              f                 f  ...            f   \n7        f               f              f                 f  ...            t   \n8        f               f              f                 f  ...            t   \n9        f               f              f                 f  ...            t   \n\n    T3 TT4 measured    TT4 T4U measured   T4u  FTI measured    FTI  \\\n0  2.5            t  125.0            t  1.14             t  109.0   \n1  2.0            t  102.0            f   NaN             f    NaN   \n2  NaN            t  109.0            t  0.91             t  120.0   \n3  1.9            t  175.0            f   NaN             f    NaN   \n4  1.2            t   61.0            t  0.87             t   70.0   \n5  NaN            t  183.0            t  1.30             t  141.0   \n6  NaN            t   72.0            t  0.92             t   78.0   \n7  0.6            t   80.0            t  0.70             t  115.0   \n8  2.2            t  123.0            t  0.93             t  132.0   \n9  1.6            t   83.0            t  0.89             t   93.0   \n\n   referral source class  \n0             SVHC     0  \n1            other     0  \n2            other     0  \n3            other     0  \n4              SVI     0  \n5            other     0  \n6            other     0  \n7              SVI     0  \n8              SVI     0  \n9              SVI     0  \n\n[10 rows x 27 columns]"
     },
     "execution_count": 10,
     "metadata": {},
     "output_type": "execute_result"
    }
   ]
  },
  {
   "cell_type": "markdown",
   "source": "Great! Let's see if there's any other records we have to address. count() is a nice way to check if we have any other missing values.",
   "metadata": {
    "colab_type": "text",
    "id": "Jo9aRzltCOK8",
    "cell_id": "00023-fa38ba71-37cd-43fa-857f-45f91f72a1fa",
    "deepnote_cell_type": "markdown"
   }
  },
  {
   "cell_type": "code",
   "metadata": {
    "colab": {
     "autoexec": {
      "startup": false,
      "wait_interval": 0
     }
    },
    "colab_type": "code",
    "id": "Q1yGe8nrzozW",
    "cell_id": "00024-82603a45-49e9-4f9c-97ee-58ca9efe1fe8",
    "deepnote_cell_type": "code"
   },
   "source": "dataset.count()",
   "execution_count": 11,
   "outputs": [
    {
     "data": {
      "text/plain": "Age                          2799\nSex                          2690\nOn thyroxine                 2800\nquery on thyroxine           2800\non antithyroid medication    2800\nsick                         2800\npregnant                     2800\nthyroid surgery              2800\nI131 treatment               2800\nquery hypothyroid            2800\nquery hyperthyroid           2800\nlithium                      2800\ngoitre                       2800\ntumor                        2800\npsych                        2800\nTSH measured                 2800\nTSH                          2516\nT3 measured                  2800\nT3                           2215\nTT4 measured                 2800\nTT4                          2616\nT4U measured                 2800\nT4u                          2503\nFTI measured                 2800\nFTI                          2505\nreferral source              2800\nclass                        2800\ndtype: int64"
     },
     "execution_count": 11,
     "metadata": {},
     "output_type": "execute_result"
    }
   ]
  },
  {
   "cell_type": "markdown",
   "source": "There seems to be quite a few rows with missing data.  There are techniques you can use to try to handle this situation (and some models in sklearn can handle NaN values without problem).  But let's just remove those rows for now.",
   "metadata": {
    "colab_type": "text",
    "id": "-Y9DDq8qCeL8",
    "cell_id": "00025-f153e06d-ef82-43a8-aacc-38252c2e88f3",
    "deepnote_cell_type": "markdown"
   }
  },
  {
   "cell_type": "code",
   "metadata": {
    "colab": {
     "autoexec": {
      "startup": false,
      "wait_interval": 0
     }
    },
    "colab_type": "code",
    "id": "1E6qS7F5zyt3",
    "cell_id": "00026-1b2b4421-7846-4e58-8d73-f559fba06e54",
    "deepnote_cell_type": "code"
   },
   "source": "dataset = dataset.dropna(axis='rows')\ndataset.count()",
   "execution_count": 12,
   "outputs": [
    {
     "data": {
      "text/plain": "Age                          1947\nSex                          1947\nOn thyroxine                 1947\nquery on thyroxine           1947\non antithyroid medication    1947\nsick                         1947\npregnant                     1947\nthyroid surgery              1947\nI131 treatment               1947\nquery hypothyroid            1947\nquery hyperthyroid           1947\nlithium                      1947\ngoitre                       1947\ntumor                        1947\npsych                        1947\nTSH measured                 1947\nTSH                          1947\nT3 measured                  1947\nT3                           1947\nTT4 measured                 1947\nTT4                          1947\nT4U measured                 1947\nT4u                          1947\nFTI measured                 1947\nFTI                          1947\nreferral source              1947\nclass                        1947\ndtype: int64"
     },
     "execution_count": 12,
     "metadata": {},
     "output_type": "execute_result"
    }
   ]
  },
  {
   "cell_type": "markdown",
   "source": "Ooof!  We just cut out about 30% of our data set!  You probably won't want to throw out this data for your project, but let's keep going now that we have a clean dataset and do some further data analysis and visualization to better understand what we're working with.",
   "metadata": {
    "colab_type": "text",
    "id": "eTcS25EHF4vL",
    "cell_id": "00027-104be215-c02f-4133-a853-f780468ce6e1",
    "deepnote_cell_type": "markdown"
   }
  },
  {
   "cell_type": "markdown",
   "source": "## Data analysis and visualization",
   "metadata": {
    "colab_type": "text",
    "id": "SsiaTCjQql3S",
    "cell_id": "00028-73aa022e-e41c-4584-88a3-f1750095a32c",
    "deepnote_cell_type": "markdown"
   }
  },
  {
   "cell_type": "markdown",
   "source": "As the name suggests, [pandas.corr()](https://pandas.pydata.org/pandas-docs/stable/generated/pandas.DataFrame.corr.html) will compute pairwise correlation of (numerical) columns, excluding NA/null values. Notice that in this case, since we've converted 'class' to a number (0 or 1) we can see how correlated different features are with the class label!",
   "metadata": {
    "colab_type": "text",
    "id": "huFOG2Mw3OqJ",
    "cell_id": "00029-c4aafa8f-989c-4251-8f77-825250abf5b0",
    "deepnote_cell_type": "markdown"
   }
  },
  {
   "cell_type": "code",
   "metadata": {
    "colab": {
     "autoexec": {
      "startup": false,
      "wait_interval": 0
     }
    },
    "colab_type": "code",
    "id": "fXrXSMW_GSeT",
    "cell_id": "00030-09550728-1ce7-4558-8dd9-26272792bdd8",
    "deepnote_cell_type": "code"
   },
   "source": "dataset.corr()",
   "execution_count": 13,
   "outputs": [
    {
     "data": {
      "text/html": "<div>\n<style scoped>\n    .dataframe tbody tr th:only-of-type {\n        vertical-align: middle;\n    }\n\n    .dataframe tbody tr th {\n        vertical-align: top;\n    }\n\n    .dataframe thead th {\n        text-align: right;\n    }\n</style>\n<table border=\"1\" class=\"dataframe\">\n  <thead>\n    <tr style=\"text-align: right;\">\n      <th></th>\n      <th>Age</th>\n      <th>TSH</th>\n      <th>T3</th>\n      <th>TT4</th>\n      <th>T4u</th>\n      <th>FTI</th>\n      <th>class</th>\n    </tr>\n  </thead>\n  <tbody>\n    <tr>\n      <th>Age</th>\n      <td>1.000000</td>\n      <td>-0.030174</td>\n      <td>-0.255721</td>\n      <td>-0.074538</td>\n      <td>-0.169724</td>\n      <td>0.030368</td>\n      <td>-0.002796</td>\n    </tr>\n    <tr>\n      <th>TSH</th>\n      <td>-0.030174</td>\n      <td>1.000000</td>\n      <td>-0.180425</td>\n      <td>-0.288273</td>\n      <td>0.055912</td>\n      <td>-0.331063</td>\n      <td>0.470658</td>\n    </tr>\n    <tr>\n      <th>T3</th>\n      <td>-0.255721</td>\n      <td>-0.180425</td>\n      <td>1.000000</td>\n      <td>0.581830</td>\n      <td>0.465673</td>\n      <td>0.346873</td>\n      <td>-0.183115</td>\n    </tr>\n    <tr>\n      <th>TT4</th>\n      <td>-0.074538</td>\n      <td>-0.288273</td>\n      <td>0.581830</td>\n      <td>1.000000</td>\n      <td>0.450527</td>\n      <td>0.786326</td>\n      <td>-0.288600</td>\n    </tr>\n    <tr>\n      <th>T4u</th>\n      <td>-0.169724</td>\n      <td>0.055912</td>\n      <td>0.465673</td>\n      <td>0.450527</td>\n      <td>1.000000</td>\n      <td>-0.170805</td>\n      <td>0.020149</td>\n    </tr>\n    <tr>\n      <th>FTI</th>\n      <td>0.030368</td>\n      <td>-0.331063</td>\n      <td>0.346873</td>\n      <td>0.786326</td>\n      <td>-0.170805</td>\n      <td>1.000000</td>\n      <td>-0.323631</td>\n    </tr>\n    <tr>\n      <th>class</th>\n      <td>-0.002796</td>\n      <td>0.470658</td>\n      <td>-0.183115</td>\n      <td>-0.288600</td>\n      <td>0.020149</td>\n      <td>-0.323631</td>\n      <td>1.000000</td>\n    </tr>\n  </tbody>\n</table>\n</div>",
      "text/plain": "            Age       TSH        T3       TT4       T4u       FTI     class\nAge    1.000000 -0.030174 -0.255721 -0.074538 -0.169724  0.030368 -0.002796\nTSH   -0.030174  1.000000 -0.180425 -0.288273  0.055912 -0.331063  0.470658\nT3    -0.255721 -0.180425  1.000000  0.581830  0.465673  0.346873 -0.183115\nTT4   -0.074538 -0.288273  0.581830  1.000000  0.450527  0.786326 -0.288600\nT4u   -0.169724  0.055912  0.465673  0.450527  1.000000 -0.170805  0.020149\nFTI    0.030368 -0.331063  0.346873  0.786326 -0.170805  1.000000 -0.323631\nclass -0.002796  0.470658 -0.183115 -0.288600  0.020149 -0.323631  1.000000"
     },
     "execution_count": 13,
     "metadata": {},
     "output_type": "execute_result"
    }
   ]
  },
  {
   "cell_type": "markdown",
   "source": "Let's do some further visual analysis using a new module called seaborn. Explore its incredible versatility and diversity with data visualization here: https://seaborn.pydata.org/",
   "metadata": {
    "colab_type": "text",
    "id": "tp4yO5kUGd3L",
    "cell_id": "00031-cbf093f8-8cb3-4ef8-9116-038515851ada",
    "deepnote_cell_type": "markdown"
   }
  },
  {
   "cell_type": "code",
   "metadata": {
    "colab": {
     "autoexec": {
      "startup": false,
      "wait_interval": 0
     }
    },
    "colab_type": "code",
    "id": "JzkaBa64aXzb",
    "cell_id": "00032-95f46920-3563-4e47-90f1-989ef94aec07",
    "deepnote_cell_type": "code"
   },
   "source": "import seaborn as sns\nsns.pairplot(dataset)",
   "execution_count": 14,
   "outputs": [
    {
     "data": {
      "text/plain": "<seaborn.axisgrid.PairGrid at 0x8015438>"
     },
     "execution_count": 14,
     "metadata": {},
     "output_type": "execute_result"
    }
   ]
  },
  {
   "cell_type": "markdown",
   "source": "OK! I think we're ready to create and select some supervised learning models. To get the ball rolling, select Age and Sex as our explanatory features (and class as the target feature, obviously).",
   "metadata": {
    "colab_type": "text",
    "id": "mvW7_0aWFSEm",
    "cell_id": "00033-9610cdf6-4c62-4243-a124-3139b0d62484",
    "deepnote_cell_type": "markdown"
   }
  },
  {
   "cell_type": "code",
   "metadata": {
    "cell_id": "00034-e5936f41-5555-4381-bc28-c2345801724f",
    "deepnote_cell_type": "code"
   },
   "source": "dataset.describe()",
   "execution_count": 15,
   "outputs": [
    {
     "data": {
      "text/html": "<div>\n<style scoped>\n    .dataframe tbody tr th:only-of-type {\n        vertical-align: middle;\n    }\n\n    .dataframe tbody tr th {\n        vertical-align: top;\n    }\n\n    .dataframe thead th {\n        text-align: right;\n    }\n</style>\n<table border=\"1\" class=\"dataframe\">\n  <thead>\n    <tr style=\"text-align: right;\">\n      <th></th>\n      <th>Age</th>\n      <th>TSH</th>\n      <th>T3</th>\n      <th>TT4</th>\n      <th>T4u</th>\n      <th>FTI</th>\n      <th>class</th>\n    </tr>\n  </thead>\n  <tbody>\n    <tr>\n      <th>count</th>\n      <td>1947.000000</td>\n      <td>1947.000000</td>\n      <td>1947.000000</td>\n      <td>1947.000000</td>\n      <td>1947.000000</td>\n      <td>1947.000000</td>\n      <td>1947.000000</td>\n    </tr>\n    <tr>\n      <th>mean</th>\n      <td>53.216230</td>\n      <td>4.376097</td>\n      <td>2.014895</td>\n      <td>108.760452</td>\n      <td>0.998692</td>\n      <td>110.001695</td>\n      <td>0.080637</td>\n    </tr>\n    <tr>\n      <th>std</th>\n      <td>20.882261</td>\n      <td>18.427724</td>\n      <td>0.824728</td>\n      <td>35.447159</td>\n      <td>0.199024</td>\n      <td>32.386662</td>\n      <td>0.272347</td>\n    </tr>\n    <tr>\n      <th>min</th>\n      <td>1.000000</td>\n      <td>0.005000</td>\n      <td>0.050000</td>\n      <td>2.000000</td>\n      <td>0.310000</td>\n      <td>2.000000</td>\n      <td>0.000000</td>\n    </tr>\n    <tr>\n      <th>25%</th>\n      <td>37.000000</td>\n      <td>0.450000</td>\n      <td>1.600000</td>\n      <td>88.000000</td>\n      <td>0.880000</td>\n      <td>93.000000</td>\n      <td>0.000000</td>\n    </tr>\n    <tr>\n      <th>50%</th>\n      <td>55.000000</td>\n      <td>1.300000</td>\n      <td>2.000000</td>\n      <td>104.000000</td>\n      <td>0.980000</td>\n      <td>107.000000</td>\n      <td>0.000000</td>\n    </tr>\n    <tr>\n      <th>75%</th>\n      <td>69.000000</td>\n      <td>2.500000</td>\n      <td>2.400000</td>\n      <td>124.000000</td>\n      <td>1.090000</td>\n      <td>123.000000</td>\n      <td>0.000000</td>\n    </tr>\n    <tr>\n      <th>max</th>\n      <td>455.000000</td>\n      <td>468.000000</td>\n      <td>10.600000</td>\n      <td>430.000000</td>\n      <td>2.120000</td>\n      <td>395.000000</td>\n      <td>1.000000</td>\n    </tr>\n  </tbody>\n</table>\n</div>",
      "text/plain": "               Age          TSH           T3          TT4          T4u  \\\ncount  1947.000000  1947.000000  1947.000000  1947.000000  1947.000000   \nmean     53.216230     4.376097     2.014895   108.760452     0.998692   \nstd      20.882261    18.427724     0.824728    35.447159     0.199024   \nmin       1.000000     0.005000     0.050000     2.000000     0.310000   \n25%      37.000000     0.450000     1.600000    88.000000     0.880000   \n50%      55.000000     1.300000     2.000000   104.000000     0.980000   \n75%      69.000000     2.500000     2.400000   124.000000     1.090000   \nmax     455.000000   468.000000    10.600000   430.000000     2.120000   \n\n               FTI        class  \ncount  1947.000000  1947.000000  \nmean    110.001695     0.080637  \nstd      32.386662     0.272347  \nmin       2.000000     0.000000  \n25%      93.000000     0.000000  \n50%     107.000000     0.000000  \n75%     123.000000     0.000000  \nmax     395.000000     1.000000  "
     },
     "execution_count": 15,
     "metadata": {},
     "output_type": "execute_result"
    }
   ]
  },
  {
   "cell_type": "markdown",
   "source": "Now let's take a look at our categorical columns!",
   "metadata": {
    "cell_id": "00035-fa1eebf3-1876-4423-a3e6-4f374c54e606",
    "deepnote_cell_type": "markdown"
   }
  },
  {
   "cell_type": "code",
   "metadata": {
    "cell_id": "00036-97dc92c5-15df-4766-a679-c75d665e1c97",
    "deepnote_cell_type": "code"
   },
   "source": "for col in categorical_columns:\n    print(col,dataset[col].unique())\n    \n",
   "execution_count": 16,
   "outputs": [
    {
     "name": "stdout",
     "output_type": "stream",
     "text": "lithium ['f' 't']\nTT4 measured ['t']\npsych ['f' 't']\nquery hypothyroid ['f' 't']\nthyroid surgery ['f' 't']\nOn thyroxine ['f' 't']\non antithyroid medication ['f' 't']\ntumor ['f' 't']\nTSH measured ['t']\ngoitre ['f' 't']\nquery on thyroxine ['f' 't']\nI131 treatment ['f' 't']\nT3 measured ['t']\nT4U measured ['t']\nFTI measured ['t']\nquery hyperthyroid ['f' 't']\nsick ['f' 't']\npregnant ['f' 't']\nreferral source ['SVHC' 'SVI' 'other' 'SVHD' 'STMW']\nSex ['F' 'M']\n"
    }
   ]
  },
  {
   "cell_type": "markdown",
   "source": "Uh oh... we have several features that are non-informative (they only have a single value).  We probably didn't notice this before because there were still '?' values in there, or perhaps when we threw out that 30% of our data we got rid of some variation in these features.  Let's just drop those columns.",
   "metadata": {
    "cell_id": "00037-d91b6d5b-1b7b-4f08-8cec-3b1575c9bd4d",
    "deepnote_cell_type": "markdown"
   }
  },
  {
   "cell_type": "code",
   "metadata": {
    "cell_id": "00038-4294704b-5987-4245-a5a4-26f925defd3d",
    "deepnote_cell_type": "code"
   },
   "source": "# drop columns that do not contain useful information (all 2800 data points have the same value)\ndrop_columns = [\"T4U measured\",\"FTI measured\",\"T3 measured\",\"TSH measured\",\"TT4 measured\"]\ntry:\n    dataset=dataset.drop(drop_columns,axis=1)\nexcept:\n    print(\"Can't drop columns {}, they may not exist\".format(drop_columns))\n        \n",
   "execution_count": 17,
   "outputs": []
  },
  {
   "cell_type": "markdown",
   "source": "We can convert categorical columns (i.e., True/False or Male/Female) into indicator values (0,1) using a pretty nifty feature: [pandas.get_dummies()](https://pandas.pydata.org/pandas-docs/version/0.22/generated/pandas.get_dummies.html).  ",
   "metadata": {
    "cell_id": "00039-7d85c928-6f6d-4268-b402-8e9ffa0aeca8",
    "deepnote_cell_type": "markdown"
   }
  },
  {
   "cell_type": "code",
   "metadata": {
    "cell_id": "00040-70f09f6c-6c1a-40cc-ac88-56dc6ddba951",
    "deepnote_cell_type": "code"
   },
   "source": "categorical_columns = list(set(categorical_columns)-set(drop_columns))\n\n# convert categorical columns to indicator (0,1) variables\nfor col in categorical_columns:\n    dataset[col] = po.get_dummies(dataset[col],drop_first=True)\n    \ndataset.head(10)",
   "execution_count": 18,
   "outputs": [
    {
     "data": {
      "text/html": "<div>\n<style scoped>\n    .dataframe tbody tr th:only-of-type {\n        vertical-align: middle;\n    }\n\n    .dataframe tbody tr th {\n        vertical-align: top;\n    }\n\n    .dataframe thead th {\n        text-align: right;\n    }\n</style>\n<table border=\"1\" class=\"dataframe\">\n  <thead>\n    <tr style=\"text-align: right;\">\n      <th></th>\n      <th>Age</th>\n      <th>Sex</th>\n      <th>On thyroxine</th>\n      <th>query on thyroxine</th>\n      <th>on antithyroid medication</th>\n      <th>sick</th>\n      <th>pregnant</th>\n      <th>thyroid surgery</th>\n      <th>I131 treatment</th>\n      <th>query hypothyroid</th>\n      <th>...</th>\n      <th>goitre</th>\n      <th>tumor</th>\n      <th>psych</th>\n      <th>TSH</th>\n      <th>T3</th>\n      <th>TT4</th>\n      <th>T4u</th>\n      <th>FTI</th>\n      <th>referral source</th>\n      <th>class</th>\n    </tr>\n  </thead>\n  <tbody>\n    <tr>\n      <th>0</th>\n      <td>41.0</td>\n      <td>0</td>\n      <td>0</td>\n      <td>0</td>\n      <td>0</td>\n      <td>0</td>\n      <td>0</td>\n      <td>0</td>\n      <td>0</td>\n      <td>0</td>\n      <td>...</td>\n      <td>0</td>\n      <td>0</td>\n      <td>0</td>\n      <td>1.30</td>\n      <td>2.5</td>\n      <td>125.0</td>\n      <td>1.14</td>\n      <td>109.0</td>\n      <td>1</td>\n      <td>0</td>\n    </tr>\n    <tr>\n      <th>4</th>\n      <td>70.0</td>\n      <td>0</td>\n      <td>0</td>\n      <td>0</td>\n      <td>0</td>\n      <td>0</td>\n      <td>0</td>\n      <td>0</td>\n      <td>0</td>\n      <td>0</td>\n      <td>...</td>\n      <td>0</td>\n      <td>0</td>\n      <td>0</td>\n      <td>0.72</td>\n      <td>1.2</td>\n      <td>61.0</td>\n      <td>0.87</td>\n      <td>70.0</td>\n      <td>0</td>\n      <td>0</td>\n    </tr>\n    <tr>\n      <th>7</th>\n      <td>80.0</td>\n      <td>0</td>\n      <td>0</td>\n      <td>0</td>\n      <td>0</td>\n      <td>0</td>\n      <td>0</td>\n      <td>0</td>\n      <td>0</td>\n      <td>0</td>\n      <td>...</td>\n      <td>0</td>\n      <td>0</td>\n      <td>0</td>\n      <td>2.20</td>\n      <td>0.6</td>\n      <td>80.0</td>\n      <td>0.70</td>\n      <td>115.0</td>\n      <td>0</td>\n      <td>0</td>\n    </tr>\n    <tr>\n      <th>8</th>\n      <td>66.0</td>\n      <td>0</td>\n      <td>0</td>\n      <td>0</td>\n      <td>0</td>\n      <td>0</td>\n      <td>0</td>\n      <td>0</td>\n      <td>0</td>\n      <td>0</td>\n      <td>...</td>\n      <td>0</td>\n      <td>1</td>\n      <td>0</td>\n      <td>0.60</td>\n      <td>2.2</td>\n      <td>123.0</td>\n      <td>0.93</td>\n      <td>132.0</td>\n      <td>0</td>\n      <td>0</td>\n    </tr>\n    <tr>\n      <th>9</th>\n      <td>68.0</td>\n      <td>1</td>\n      <td>0</td>\n      <td>0</td>\n      <td>0</td>\n      <td>0</td>\n      <td>0</td>\n      <td>0</td>\n      <td>0</td>\n      <td>0</td>\n      <td>...</td>\n      <td>0</td>\n      <td>0</td>\n      <td>0</td>\n      <td>2.40</td>\n      <td>1.6</td>\n      <td>83.0</td>\n      <td>0.89</td>\n      <td>93.0</td>\n      <td>0</td>\n      <td>0</td>\n    </tr>\n    <tr>\n      <th>10</th>\n      <td>84.0</td>\n      <td>0</td>\n      <td>0</td>\n      <td>0</td>\n      <td>0</td>\n      <td>0</td>\n      <td>0</td>\n      <td>0</td>\n      <td>0</td>\n      <td>0</td>\n      <td>...</td>\n      <td>0</td>\n      <td>1</td>\n      <td>0</td>\n      <td>1.10</td>\n      <td>2.2</td>\n      <td>115.0</td>\n      <td>0.95</td>\n      <td>121.0</td>\n      <td>0</td>\n      <td>0</td>\n    </tr>\n    <tr>\n      <th>12</th>\n      <td>71.0</td>\n      <td>0</td>\n      <td>0</td>\n      <td>0</td>\n      <td>0</td>\n      <td>1</td>\n      <td>0</td>\n      <td>0</td>\n      <td>0</td>\n      <td>0</td>\n      <td>...</td>\n      <td>0</td>\n      <td>0</td>\n      <td>0</td>\n      <td>0.03</td>\n      <td>3.8</td>\n      <td>171.0</td>\n      <td>1.13</td>\n      <td>151.0</td>\n      <td>0</td>\n      <td>0</td>\n    </tr>\n    <tr>\n      <th>13</th>\n      <td>59.0</td>\n      <td>0</td>\n      <td>0</td>\n      <td>0</td>\n      <td>0</td>\n      <td>0</td>\n      <td>0</td>\n      <td>0</td>\n      <td>0</td>\n      <td>0</td>\n      <td>...</td>\n      <td>0</td>\n      <td>0</td>\n      <td>0</td>\n      <td>2.80</td>\n      <td>1.7</td>\n      <td>97.0</td>\n      <td>0.91</td>\n      <td>107.0</td>\n      <td>0</td>\n      <td>0</td>\n    </tr>\n    <tr>\n      <th>14</th>\n      <td>28.0</td>\n      <td>1</td>\n      <td>0</td>\n      <td>0</td>\n      <td>0</td>\n      <td>0</td>\n      <td>0</td>\n      <td>0</td>\n      <td>0</td>\n      <td>0</td>\n      <td>...</td>\n      <td>0</td>\n      <td>0</td>\n      <td>0</td>\n      <td>3.30</td>\n      <td>1.8</td>\n      <td>109.0</td>\n      <td>0.91</td>\n      <td>119.0</td>\n      <td>1</td>\n      <td>0</td>\n    </tr>\n    <tr>\n      <th>17</th>\n      <td>63.0</td>\n      <td>0</td>\n      <td>0</td>\n      <td>0</td>\n      <td>0</td>\n      <td>0</td>\n      <td>0</td>\n      <td>0</td>\n      <td>0</td>\n      <td>0</td>\n      <td>...</td>\n      <td>0</td>\n      <td>0</td>\n      <td>0</td>\n      <td>1.50</td>\n      <td>1.2</td>\n      <td>117.0</td>\n      <td>0.96</td>\n      <td>121.0</td>\n      <td>0</td>\n      <td>0</td>\n    </tr>\n  </tbody>\n</table>\n<p>10 rows × 22 columns</p>\n</div>",
      "text/plain": "     Age  Sex  On thyroxine  query on thyroxine  on antithyroid medication  \\\n0   41.0    0             0                   0                          0   \n4   70.0    0             0                   0                          0   \n7   80.0    0             0                   0                          0   \n8   66.0    0             0                   0                          0   \n9   68.0    1             0                   0                          0   \n10  84.0    0             0                   0                          0   \n12  71.0    0             0                   0                          0   \n13  59.0    0             0                   0                          0   \n14  28.0    1             0                   0                          0   \n17  63.0    0             0                   0                          0   \n\n    sick  pregnant  thyroid surgery  I131 treatment  query hypothyroid  ...    \\\n0      0         0                0               0                  0  ...     \n4      0         0                0               0                  0  ...     \n7      0         0                0               0                  0  ...     \n8      0         0                0               0                  0  ...     \n9      0         0                0               0                  0  ...     \n10     0         0                0               0                  0  ...     \n12     1         0                0               0                  0  ...     \n13     0         0                0               0                  0  ...     \n14     0         0                0               0                  0  ...     \n17     0         0                0               0                  0  ...     \n\n    goitre  tumor  psych   TSH   T3    TT4   T4u    FTI  referral source  \\\n0        0      0      0  1.30  2.5  125.0  1.14  109.0                1   \n4        0      0      0  0.72  1.2   61.0  0.87   70.0                0   \n7        0      0      0  2.20  0.6   80.0  0.70  115.0                0   \n8        0      1      0  0.60  2.2  123.0  0.93  132.0                0   \n9        0      0      0  2.40  1.6   83.0  0.89   93.0                0   \n10       0      1      0  1.10  2.2  115.0  0.95  121.0                0   \n12       0      0      0  0.03  3.8  171.0  1.13  151.0                0   \n13       0      0      0  2.80  1.7   97.0  0.91  107.0                0   \n14       0      0      0  3.30  1.8  109.0  0.91  119.0                1   \n17       0      0      0  1.50  1.2  117.0  0.96  121.0                0   \n\n    class  \n0       0  \n4       0  \n7       0  \n8       0  \n9       0  \n10      0  \n12      0  \n13      0  \n14      0  \n17      0  \n\n[10 rows x 22 columns]"
     },
     "execution_count": 18,
     "metadata": {},
     "output_type": "execute_result"
    }
   ]
  },
  {
   "cell_type": "markdown",
   "source": "## Model training and selection",
   "metadata": {
    "colab_type": "text",
    "id": "JXMQ9UaKqyha",
    "cell_id": "00041-e581858a-d363-404e-a871-e9ed7ee2bdc4",
    "deepnote_cell_type": "markdown"
   }
  },
  {
   "cell_type": "markdown",
   "source": "All right, let's now split our data into training and testing in an 80-20 split, stratified by class distribution (this tries to keep the class distribution approximately equal for the training and test set). For consistency, let's use a random seed 0.",
   "metadata": {
    "colab_type": "text",
    "id": "4yEeqjv19hCX",
    "cell_id": "00042-84217f49-679f-4507-93b9-f21ca519cb1a",
    "deepnote_cell_type": "markdown"
   }
  },
  {
   "cell_type": "code",
   "metadata": {
    "colab": {
     "autoexec": {
      "startup": false,
      "wait_interval": 0
     },
     "base_uri": "https://localhost:8080/",
     "height": 36
    },
    "colab_type": "code",
    "executionInfo": {
     "elapsed": 452,
     "status": "ok",
     "timestamp": 1531117461829,
     "user": {
      "displayName": "Lyle Lalunio",
      "photoUrl": "https://lh3.googleusercontent.com/a/default-user=s128",
      "userId": "108954789805627648380"
     },
     "user_tz": 240
    },
    "id": "GQqlCTGntXCX",
    "outputId": "17fb180a-5a12-4890-8de2-2b2d73bfe9df",
    "cell_id": "00043-8fbce437-13c4-4a77-aaa6-0f5355390787",
    "deepnote_cell_type": "code"
   },
   "source": "from sklearn.model_selection import train_test_split\n\ndata_train, data_val = train_test_split(dataset, test_size=0.20, random_state=0, stratify=dataset['class'])\n\nX_train = data_train[[\"Age\",\"Sex\"]]\nX_val = data_val[[\"Age\",\"Sex\"]]\n\ny_train = data_train['class']\ny_val = data_val['class']\n\nX_train.head()",
   "execution_count": 19,
   "outputs": [
    {
     "data": {
      "text/html": "<div>\n<style scoped>\n    .dataframe tbody tr th:only-of-type {\n        vertical-align: middle;\n    }\n\n    .dataframe tbody tr th {\n        vertical-align: top;\n    }\n\n    .dataframe thead th {\n        text-align: right;\n    }\n</style>\n<table border=\"1\" class=\"dataframe\">\n  <thead>\n    <tr style=\"text-align: right;\">\n      <th></th>\n      <th>Age</th>\n      <th>Sex</th>\n    </tr>\n  </thead>\n  <tbody>\n    <tr>\n      <th>263</th>\n      <td>78.0</td>\n      <td>1</td>\n    </tr>\n    <tr>\n      <th>401</th>\n      <td>36.0</td>\n      <td>0</td>\n    </tr>\n    <tr>\n      <th>2501</th>\n      <td>85.0</td>\n      <td>0</td>\n    </tr>\n    <tr>\n      <th>1862</th>\n      <td>56.0</td>\n      <td>0</td>\n    </tr>\n    <tr>\n      <th>1915</th>\n      <td>30.0</td>\n      <td>0</td>\n    </tr>\n  </tbody>\n</table>\n</div>",
      "text/plain": "       Age  Sex\n263   78.0    1\n401   36.0    0\n2501  85.0    0\n1862  56.0    0\n1915  30.0    0"
     },
     "execution_count": 19,
     "metadata": {},
     "output_type": "execute_result"
    }
   ]
  },
  {
   "cell_type": "markdown",
   "source": "Let's train a decision tree model on our training data!",
   "metadata": {
    "colab_type": "text",
    "id": "6KGUCXBE-OFy",
    "cell_id": "00044-dec51990-c075-42c6-b219-0dc9ee4bbd35",
    "deepnote_cell_type": "markdown"
   }
  },
  {
   "cell_type": "code",
   "metadata": {
    "colab": {
     "autoexec": {
      "startup": false,
      "wait_interval": 0
     }
    },
    "colab_type": "code",
    "id": "DawvoHd7lnG9",
    "cell_id": "00045-e8f7e1fb-076f-4e75-85a7-f3ca64f39d97",
    "deepnote_cell_type": "code"
   },
   "source": "from sklearn.tree import DecisionTreeClassifier\nfrom sklearn.metrics import auc\n\n# define the model\ndt_model = DecisionTreeClassifier(random_state = 0)\n\n# fit the model to training data \ndt_model.fit(X_train, y_train)\n\n# apply the model to test data\ny_val_predict = dt_model.predict(X_val)\ny_val_proba = dt_model.predict_proba(X_val)\n\nprint(y_val[:5],y_val_predict[:5])",
   "execution_count": 20,
   "outputs": [
    {
     "name": "stdout",
     "output_type": "stream",
     "text": "266     1\n1352    0\n2708    0\n1517    0\n665     0\nName: class, dtype: int64 [0 0 0 0 0]\n"
    }
   ]
  },
  {
   "cell_type": "markdown",
   "source": "Fantastic, we have just built a decision tree model! Let's go see how well it performs.",
   "metadata": {
    "colab_type": "text",
    "id": "JR8xu_VVsygN",
    "cell_id": "00046-9705ba92-b04e-4b40-ac1f-7a689354d05f",
    "deepnote_cell_type": "markdown"
   }
  },
  {
   "cell_type": "markdown",
   "source": "# Scoring Metrics",
   "metadata": {
    "colab_type": "text",
    "id": "gAz096POwSRJ",
    "cell_id": "00047-b0ba1a25-5720-46f3-aa22-3ff549df9fe8",
    "deepnote_cell_type": "markdown"
   }
  },
  {
   "cell_type": "markdown",
   "source": "## 1. Confusion Matrix Metric\nYou will receive a certain number of points for each correct classification and a certain point penalty for each incorrect classification. The points are weighted, and are designed to equate to -1 in a Zero Rule baseline model. This point scheme is even more pessimistic than the F1 score, designed to punish you heavily for predicting false positives (FP) and false negatives (FN)--FN cases especially. In doing so, we hope you see the importance of clinical considerations and treat your models from a more human perspective, rather than detached from it.\n\n",
   "metadata": {
    "cell_id": "00048-fac5e424-89af-4457-9bb2-104cda8c2d47",
    "deepnote_cell_type": "markdown"
   }
  },
  {
   "cell_type": "code",
   "metadata": {
    "cell_id": "00049-807010e6-2591-45e0-8d3a-a8ee206e8509",
    "deepnote_cell_type": "code"
   },
   "source": "from sklearn.metrics import confusion_matrix\n\n# This is exctly the first metric you'll be evaluated on!\n# Note: this will only work on the binary case -- let us know if you get to the multi-class case\ndef cm_metric(y_true,y_prob):\n    \n    # predict the class with the greatest probability\n    y_val_predict = [np.argmax(y) for y in y_prob]\n\n    # calculate the confusion matrix\n    cm = confusion_matrix(y_true, y_val_predict)\n\n    cm_norm = cm.astype('float') / cm.sum(axis=1)[:, np.newaxis]\n    return sum(sum(np.multiply(cm_norm,np.array([[1, -2], [-2, 1]]))))\n\ncm_metric(y_val,y_val_proba)",
   "execution_count": 21,
   "outputs": [
    {
     "data": {
      "text/plain": "-1.0"
     },
     "execution_count": 21,
     "metadata": {},
     "output_type": "execute_result"
    }
   ]
  },
  {
   "cell_type": "markdown",
   "source": "As we can see, the decision tree is just classifying everything as class 0...  Pretty terrible.   =(  Well maybe there's a threshold where this doesn't happen.  Let's look at the AUC",
   "metadata": {
    "cell_id": "00050-409b4769-61b8-4cc8-a0d3-54b8923e8cac",
    "deepnote_cell_type": "markdown"
   }
  },
  {
   "cell_type": "markdown",
   "source": "## 2. Area Under ROC Curve\nA receiver operating characteristic (ROC) curve plots the true positive rate (y) against the false positive rate (x) at many decision threshold settings (output < threshold = 0, output > threshold = 1). The area under this curve represents the probability that a classifier will rank a randomly chosen positive instance higher than a randomly chosen negative one.",
   "metadata": {
    "cell_id": "00051-ca2ce22f-6517-493a-9cbf-0bfb7db53924",
    "deepnote_cell_type": "markdown"
   }
  },
  {
   "cell_type": "code",
   "metadata": {
    "cell_id": "00052-dfd64e84-483f-4bcd-8db4-e91f35b2e8fd",
    "deepnote_cell_type": "code"
   },
   "source": "from sklearn import metrics\n\nfpr, tpr, threshold = metrics.roc_curve(y_val, y_val_proba[:,1])\nroc_auc = metrics.auc(fpr, tpr)\nprint('AUC: ',roc_auc)",
   "execution_count": 22,
   "outputs": [
    {
     "name": "stdout",
     "output_type": "stream",
     "text": "AUC:  0.6049061011771049\n"
    }
   ]
  },
  {
   "cell_type": "markdown",
   "source": "Yikes... that's still pretty bad.  Not unexpected, though, since we're only using 2 features!  Let's take a look at the ROC.",
   "metadata": {
    "cell_id": "00053-af6a937f-2975-41c7-a490-e12bf7f3a12f",
    "deepnote_cell_type": "markdown"
   }
  },
  {
   "cell_type": "code",
   "metadata": {
    "cell_id": "00054-91ac2fb6-9af3-45b7-9c1d-2600f535f53a",
    "deepnote_cell_type": "code"
   },
   "source": "import matplotlib.pyplot as plt\nplt.title('Receiver Operating Characteristic')\nplt.plot(fpr, tpr, 'b', label = 'AUC = %0.3f' % roc_auc)\nplt.legend(loc = 'lower right')\nplt.plot([0, 1], [0, 1],'r--')\nplt.xlim([0, 1])\nplt.ylim([0, 1])\nplt.ylabel('True Positive Rate')\nplt.xlabel('False Positive Rate')\nplt.show()",
   "execution_count": 23,
   "outputs": [
    {
     "data": {
      "image/png": "[encoded data removed]",
      "text/plain": "<Figure size 432x288 with 1 Axes>"
     },
     "metadata": {
      "image/png": {
       "width": 394,
       "height": 278
      }
     },
     "output_type": "display_data"
    }
   ]
  },
  {
   "cell_type": "markdown",
   "source": "Well, look on the bright side... at least there's lots of room for improvement!  Try using more features, different models, and see if you can do anything about that 30% of the data we threw out earlier.",
   "metadata": {
    "cell_id": "00055-476439ae-070f-43e9-af20-37f4f4bdf333",
    "deepnote_cell_type": "markdown"
   }
  },
  {
   "cell_type": "markdown",
   "source": "## 3. Economic Cost\nSimilar to the confusion matrix, we want you to keep in mind the other aspects of healthcare analytics--in this case, economic feasibility. In essence, we want you to minimize the amount of time and money spent on data collection by **reducing the number of features** collected. Each record certainly required a lot of time and money from several individuals and businesses to reliably create, and we hope you gain a better understanding of conducting a useful cost-benefit analysis with this scoring method.  This won't be evaluated quantitatively, but please consider discussing it for your presentation.",
   "metadata": {
    "cell_id": "00056-69bf1ea4-6f75-42cb-9b5e-849b21d5e2b5",
    "deepnote_cell_type": "markdown"
   }
  },
  {
   "cell_type": "markdown",
   "source": "In conclusion, it looks like this model performed pretty bad. It's probably best to try out different columns or perhaps use a different model before we submit our model for scoring.",
   "metadata": {
    "colab_type": "text",
    "id": "5D4BtDZV6fxV",
    "cell_id": "00057-b17f5eee-885f-4669-a662-b6f5c97cc5f4",
    "deepnote_cell_type": "markdown"
   }
  },
  {
   "cell_type": "markdown",
   "source": "# Submitting your Model",
   "metadata": {
    "colab_type": "text",
    "id": "5JW3myd8LHJy",
    "cell_id": "00058-8aa91789-199b-4d99-ae93-03f9912a1ae5",
    "deepnote_cell_type": "markdown"
   }
  },
  {
   "cell_type": "markdown",
   "source": "Once you believe to have found the best classifier, run your classifier on the test data and make a pickle file containing your predictions contained a pandas dataframe.  This pandas dataframe will contain 2 columns for your binary classifier (or 4 columns for the multiclass classifier) that looks like this (*pay attention to the column names!*):\n\n|   | 0 | 1   |\n|---|---|------|\n| 0 | $p_{0,0}$ | $p_{0,1}$|\n| 1 | $p_{1,0}$ | $p_{1,1}$|\n| 2 | $p_{2,0}$ | $p_{2,1}$|\n| ... | ... | ...|\n| N | $p_{N,0}$ | $p_{N,1}$|\n\nwhere $p_{i,j}$ corresponds to the probability of data point $i$ belonging to class $j$.",
   "metadata": {
    "colab_type": "text",
    "id": "Wuexs1daLNBY",
    "cell_id": "00059-5dbfd7fe-3b3e-4a17-aeda-d388a95f92f4",
    "deepnote_cell_type": "markdown"
   }
  },
  {
   "cell_type": "code",
   "metadata": {
    "cell_id": "00060-445d1f58-2ed2-480c-bf5f-1b2da9d43191",
    "deepnote_cell_type": "code"
   },
   "source": "# NOTE!!! For the actual challenge, you will use your TEST predictions.  Here we are just using the validation predictions.\nprint(po.DataFrame(y_val_proba))",
   "execution_count": 24,
   "outputs": [
    {
     "name": "stdout",
     "output_type": "stream",
     "text": "            0         1\n0    0.952381  0.047619\n1    1.000000  0.000000\n2    1.000000  0.000000\n3    1.000000  0.000000\n4    0.945946  0.054054\n5    1.000000  0.000000\n6    0.944444  0.055556\n7    0.913043  0.086957\n8    0.909091  0.090909\n9    0.904762  0.095238\n10   0.800000  0.200000\n11   0.687500  0.312500\n12   0.785714  0.214286\n13   1.000000  0.000000\n14   1.000000  0.000000\n15   0.846154  0.153846\n16   0.823529  0.176471\n17   1.000000  0.000000\n18   0.842105  0.157895\n19   1.000000  0.000000\n20   0.904762  0.095238\n21   0.945946  0.054054\n22   0.769231  0.230769\n23   1.000000  0.000000\n24   0.894737  0.105263\n25   0.769231  0.230769\n26   0.857143  0.142857\n27   1.000000  0.000000\n28   1.000000  0.000000\n29   1.000000  0.000000\n..        ...       ...\n360  0.945946  0.054054\n361  1.000000  0.000000\n362  1.000000  0.000000\n363  0.888889  0.111111\n364  1.000000  0.000000\n365  1.000000  0.000000\n366  0.931034  0.068966\n367  1.000000  0.000000\n368  1.000000  0.000000\n369  0.933333  0.066667\n370  0.857143  0.142857\n371  1.000000  0.000000\n372  0.944444  0.055556\n373  0.909091  0.090909\n374  0.833333  0.166667\n375  0.700000  0.300000\n376  0.846154  0.153846\n377  0.888889  0.111111\n378  0.842105  0.157895\n379  0.714286  0.285714\n380  1.000000  0.000000\n381  0.857143  0.142857\n382  0.944444  0.055556\n383  1.000000  0.000000\n384  0.857143  0.142857\n385  0.631579  0.368421\n386  0.631579  0.368421\n387  0.800000  0.200000\n388  0.931034  0.068966\n389  1.000000  0.000000\n\n[390 rows x 2 columns]\n"
    }
   ]
  },
  {
   "cell_type": "code",
   "metadata": {
    "colab": {
     "autoexec": {
      "startup": false,
      "wait_interval": 0
     }
    },
    "colab_type": "code",
    "id": "GkZOEgg3m3g1",
    "cell_id": "00061-7ef43ac4-bb89-4a0e-9895-d1bad76c33dc",
    "deepnote_cell_type": "code"
   },
   "source": "from google.colab import files\nimport pickle\n\n# create a pickle file (this will save to the Google cloud)\nprediction_pickle_path = 'teamname_week1_attempt1.pkl'\nprediction_pickle = open(prediction_pickle_path, 'wb')\npickle.dump(y_val_proba, prediction_pickle)\n\n# download the pickle file and save it somewhere to your computer, and email it to medlytics-21@mit.edu\nfiles.download(prediction_pickle_path)\nprediction_pickle.close()",
   "execution_count": null,
   "outputs": []
  },
  {
   "cell_type": "markdown",
   "source": "# Presenting Your Model",
   "metadata": {
    "colab_type": "text",
    "id": "w66lpbB6Qv_M",
    "cell_id": "00062-18b5fefa-70f3-4b5a-9074-5d750e6cb5ae",
    "deepnote_cell_type": "markdown"
   }
  },
  {
   "cell_type": "markdown",
   "source": "Finally, we would like you to be able to present your model to the class. This will be done on the Friday of each week. The format in which you present is completely up to your group, but a good way to go about it is to take the rest of the class through the notebook where your model's code is stored. You should also specifically talk about the following components of your project:\n\n* Features Chosen: a list of the features used in your model, and an explanation of how you chose them.\n* Type of Model: an explanation of the model type, parameters used, and why.\n* Evaluation: at least one plot showing an evaluation of your model against a validation set. You can use a confusion matrix, AUROC, or another metric of your choice.\n\nFeel free to include one or two additional plots that describe your process and/or model if you think that would be helpful.",
   "metadata": {
    "colab_type": "text",
    "id": "X-HZ12lht_so",
    "cell_id": "00063-652fb34f-0638-447b-9d32-78d17363990e",
    "deepnote_cell_type": "markdown"
   }
  },
  {
   "cell_type": "markdown",
   "source": "# Moving to the Next Level",
   "metadata": {
    "colab_type": "text",
    "id": "w66lpbB6Qv_M",
    "cell_id": "00063-18eab2af-7862-4995-9502-942f6c12ac6b",
    "deepnote_cell_type": "markdown"
   }
  },
  {
   "cell_type": "markdown",
   "source": "For those that finish early, remember how I converted the class values into simply \"negative\" and \"positive\"? Now try tackling the multiclass classifier (predicting the different types of positive hypothyroid cases instead of simply negative or positive)! \n\nThe same rules apply!  (Note: for the multiclass problem, the AUC calculation will be the micro-average over your classes.)",
   "metadata": {
    "colab_type": "text",
    "id": "X-HZ12lht_so",
    "cell_id": "00065-61d3075a-6c65-43fb-a9df-5909eac7b316",
    "deepnote_cell_type": "markdown"
   }
  },
  {
   "cell_type": "markdown",
   "source": "<a style='text-decoration:none;line-height:16px;display:flex;color:#5B5B62;padding:10px;justify-content:end;' href='https://deepnote.com?utm_source=created-in-deepnote-cell&projectId=522ac259-8f9e-475b-b80e-d394d71de864' target=\"_blank\">\n<img alt='Created in deepnote.com' style='display:inline;max-height:16px;margin:0px;margin-right:7.5px;' src='data:image/svg+xml;base64,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' > </img>\nCreated in <span style='font-weight:600;margin-left:4px;'>Deepnote</span></a>",
   "metadata": {
    "tags": [],
    "created_in_deepnote_cell": true,
    "deepnote_cell_type": "markdown"
   }
  }
 ],
 "nbformat": 4,
 "nbformat_minor": 1,
 "metadata": {
  "colab": {
   "collapsed_sections": [],
   "default_view": {},
   "name": "Challenge_Project_STUDENT.ipynb",
   "provenance": [],
   "version": "0.3.2",
   "views": {}
  },
  "kernelspec": {
   "display_name": "Python 3",
   "language": "python",
   "name": "python3"
  },
  "language_info": {
   "codemirror_mode": {
    "name": "ipython",
    "version": 3
   },
   "file_extension": ".py",
   "mimetype": "text/x-python",
   "name": "python",
   "nbconvert_exporter": "python",
   "pygments_lexer": "ipython3",
   "version": "3.7.3"
  },
  "deepnote_notebook_id": "c4a6b5c1-1b01-44e9-b208-88985eb7c141",
  "deepnote": {},
  "deepnote_execution_queue": []
 }
}
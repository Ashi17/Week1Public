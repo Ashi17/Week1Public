{
  "nbformat": 4,
  "nbformat_minor": 0,
  "metadata": {
    "colab": {
      "name": "SVM_Exercises",
      "provenance": [],
      "collapsed_sections": []
    },
    "kernelspec": {
      "display_name": "Python 3",
      "language": "python",
      "name": "python3"
    },
    "language_info": {
      "codemirror_mode": {
        "name": "ipython",
        "version": 3
      },
      "file_extension": ".py",
      "mimetype": "text/x-python",
      "name": "python",
      "nbconvert_exporter": "python",
      "pygments_lexer": "ipython3",
      "version": "3.7.3"
    }
  },
  "cells": [
    {
      "cell_type": "markdown",
      "metadata": {
        "colab_type": "text",
        "id": "-UimMCmGe19F"
      },
      "source": [
        "# SVM Exercises"
      ]
    },
    {
      "cell_type": "code",
      "metadata": {
        "colab_type": "code",
        "id": "kedW02LgKjVL",
        "colab": {}
      },
      "source": [
        "import numpy as np\n",
        "import pandas as pd\n",
        "from sklearn.model_selection import train_test_split\n",
        "import matplotlib.pyplot as plt\n",
        "\n",
        "from sklearn import svm\n",
        "from sklearn.metrics import accuracy_score\n",
        "from sklearn.svm import SVC\n",
        "from sklearn import metrics"
      ],
      "execution_count": null,
      "outputs": []
    },
    {
      "cell_type": "markdown",
      "metadata": {
        "id": "RxeCyhoaTAQC",
        "colab_type": "text"
      },
      "source": [
        "Load Pima diabetes dataset"
      ]
    },
    {
      "cell_type": "code",
      "metadata": {
        "colab_type": "code",
        "id": "Ydh9gmDkMGmu",
        "colab": {}
      },
      "source": [
        "url = \"https://raw.githubusercontent.com/BeaverWorksMedlytics2020/Data_Public/master/NotebookExampleData/Week1/diabetes.csv\"\n",
        "names = ['preg', 'plas', 'pres', 'skin', 'test', 'mass', 'pedi', 'age', 'class']\n",
        "\n",
        "# YOUR CODE HERE"
      ],
      "execution_count": null,
      "outputs": []
    },
    {
      "cell_type": "markdown",
      "metadata": {
        "id": "1O5s3G_ncGmw",
        "colab_type": "text"
      },
      "source": [
        "Split data into training, colidation, and test sets with a test size of 25%"
      ]
    },
    {
      "cell_type": "code",
      "metadata": {
        "id": "LfmYBpMicLdi",
        "colab_type": "code",
        "colab": {}
      },
      "source": [
        "# YOUR CODE HERE"
      ],
      "execution_count": null,
      "outputs": []
    },
    {
      "cell_type": "markdown",
      "metadata": {
        "id": "uluFKd1hTAQK",
        "colab_type": "text"
      },
      "source": [
        "Create a model with sklearn's SVC and a high gamma value (perhaps 1.0)"
      ]
    },
    {
      "cell_type": "code",
      "metadata": {
        "colab_type": "code",
        "id": "9rYQecrQ8yjn",
        "colab": {}
      },
      "source": [
        "# YOUR CODE HERE"
      ],
      "execution_count": null,
      "outputs": []
    },
    {
      "cell_type": "markdown",
      "metadata": {
        "colab_type": "text",
        "id": "qdiqjUje4ll-"
      },
      "source": [
        "Print accuracy of training and validation data"
      ]
    },
    {
      "cell_type": "code",
      "metadata": {
        "colab_type": "code",
        "id": "O5LqepHk9S0M",
        "colab": {}
      },
      "source": [
        "# YOUR CODE HERE"
      ],
      "execution_count": null,
      "outputs": []
    },
    {
      "cell_type": "markdown",
      "metadata": {
        "colab_type": "text",
        "id": "fC7VlLtI3ZjQ"
      },
      "source": [
        "Create a model with sklearn's SVC and a low gamma value (perhaps .001)"
      ]
    },
    {
      "cell_type": "code",
      "metadata": {
        "colab_type": "code",
        "id": "3vVHnWuY9pFN",
        "colab": {}
      },
      "source": [
        "# YOUR CODE HERE"
      ],
      "execution_count": null,
      "outputs": []
    },
    {
      "cell_type": "markdown",
      "metadata": {
        "colab_type": "text",
        "id": "JQB-U50H4mIx"
      },
      "source": [
        "Print accuracy of training and validation data"
      ]
    },
    {
      "cell_type": "code",
      "metadata": {
        "colab_type": "code",
        "id": "tr4DGB309s9a",
        "colab": {}
      },
      "source": [
        "# YOUR CODE HERE"
      ],
      "execution_count": null,
      "outputs": []
    },
    {
      "cell_type": "markdown",
      "metadata": {
        "colab_type": "text",
        "id": "TA9xLHAEIKXY"
      },
      "source": [
        "Explain the accuracy results below. "
      ]
    },
    {
      "cell_type": "markdown",
      "metadata": {
        "id": "0IKjiKigeeKp",
        "colab_type": "text"
      },
      "source": [
        "(YOUR ANSWER HERE)"
      ]
    },
    {
      "cell_type": "markdown",
      "metadata": {
        "id": "DxF6fUTvTAQk",
        "colab_type": "text"
      },
      "source": [
        "Print the confusion matrices for your high and low gamma models (both numeric and visualized)"
      ]
    },
    {
      "cell_type": "code",
      "metadata": {
        "id": "zxZeR4haTAQk",
        "colab_type": "code",
        "colab": {}
      },
      "source": [
        "# YOUR CODE HERE"
      ],
      "execution_count": null,
      "outputs": []
    }
  ]
}

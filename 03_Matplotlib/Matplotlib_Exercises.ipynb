{
  "nbformat": 4,
  "nbformat_minor": 0,
  "metadata": {
    "colab": {
      "name": "Matplotlib_Exercises",
      "provenance": [],
      "collapsed_sections": []
    },
    "kernelspec": {
      "display_name": "Python 3",
      "language": "python",
      "name": "python3"
    },
    "language_info": {
      "codemirror_mode": {
        "name": "ipython",
        "version": 3
      },
      "file_extension": ".py",
      "mimetype": "text/x-python",
      "name": "python",
      "nbconvert_exporter": "python",
      "pygments_lexer": "ipython3",
      "version": "3.7.3"
    }
  },
  "cells": [
    {
      "cell_type": "markdown",
      "metadata": {
        "colab_type": "text",
        "id": "62aBklHO062y"
      },
      "source": [
        "# Matplotlib Exercises"
      ]
    },
    {
      "cell_type": "code",
      "metadata": {
        "colab_type": "code",
        "id": "5BPzhruU08-J",
        "colab": {}
      },
      "source": [
        "import matplotlib.pyplot as plt\n",
        "import numpy as np\n",
        "import seaborn as sns\n",
        "import pandas as pd"
      ],
      "execution_count": null,
      "outputs": []
    },
    {
      "cell_type": "markdown",
      "metadata": {
        "colab_type": "text",
        "id": "5RSW40kR1Vzz"
      },
      "source": [
        "Below are the temperatures in degrees Celsius for this day (July 10) in Boston each year from 1961 to 2010. Plot the dates on the x-axis and temperatures on the y-axis."
      ]
    },
    {
      "cell_type": "code",
      "metadata": {
        "colab_type": "code",
        "id": "4rqalSZf1Yjq",
        "colab": {}
      },
      "source": [
        "temp_boston = [17.8, 22.8, 17.5, 16.4, 23.35, 25.3, 27.25, 24.45, 22.5, 23.6, 26.7, 22.75, 21.95, 26.4,\n",
        "23.05, 22.5, 21.1, 26.1, 23.9, 20.25, 27.8, 23.9, 21.7, 19.7, 25.0, 21.4, 21.1, 27.8, 22.25, 27.25, \n",
        "23.35, 25.0, 30.0, 25.8, 23.6, 22.5,19.15, 22.8, 23.6, 25.0, 20.8, 21.4, 18.6, 23.05, 25.0, 25.0,\n",
        "18.35, 25.3, 18.6]"
      ],
      "execution_count": null,
      "outputs": []
    },
    {
      "cell_type": "code",
      "metadata": {
        "colab_type": "code",
        "id": "7FwkcZzK1b-s",
        "colab": {}
      },
      "source": [
        "# YOUR CODE HERE"
      ],
      "execution_count": null,
      "outputs": []
    },
    {
      "cell_type": "markdown",
      "metadata": {
        "colab_type": "text",
        "id": "IqPLuWxZ10ZB"
      },
      "source": [
        "Now below is the temperature in degrees Celsius for this day (July 10) each year in New York from 1961 to 2010. Plot the temperatures of New York and Boston on the same graph in different colors."
      ]
    },
    {
      "cell_type": "code",
      "metadata": {
        "colab_type": "code",
        "id": "LDu1bMEy1gM6",
        "colab": {}
      },
      "source": [
        "temp_new_york =[23.35, 25.25, 20.25, 22.25, 25.85, 25.85, 25.55, 24.2, 22.5, 23.9, 28.3, 22.8, 26.7,\n",
        "29.7, 23.6, 22.8, 23.05, 26.7, 20.3, 23.65, 28.05, 25.0, 21.4, 21.35, 26.1, 25.25, 28.35, 25.85, 27.5,\n",
        "26.4, 21.7, 27.2, 32.25, 28.3, 22.5, 23.05, 22.8, 25.0, 24.7, 27.5, 25.85, 24.45, 20.0, 24.15, 26.95,\n",
        "22.5, 25.85, 27.25, 19.4]"
      ],
      "execution_count": null,
      "outputs": []
    },
    {
      "cell_type": "code",
      "metadata": {
        "colab_type": "code",
        "id": "PF0sY5F013tJ",
        "colab": {}
      },
      "source": [
        "# YOUR CODE HERE"
      ],
      "execution_count": null,
      "outputs": []
    },
    {
      "cell_type": "markdown",
      "metadata": {
        "colab_type": "text",
        "id": "sNTQP1WC17TT"
      },
      "source": [
        "Plot the temperatures of New York and Boston on different graphs in the same figure¶"
      ]
    },
    {
      "cell_type": "code",
      "metadata": {
        "colab_type": "code",
        "id": "vMLUmGgX18ZM",
        "colab": {}
      },
      "source": [
        "# YOUR CODE HERE"
      ],
      "execution_count": null,
      "outputs": []
    },
    {
      "cell_type": "markdown",
      "metadata": {
        "colab_type": "text",
        "id": "GcAKU8n-lLFc"
      },
      "source": [
        "Univariate Analysis\n",
        "\n",
        "---\n"
      ]
    },
    {
      "cell_type": "markdown",
      "metadata": {
        "id": "dfGrcCTRt3-Q",
        "colab_type": "text"
      },
      "source": [
        "Read the csv file into a dataframe and print the first 7 rows"
      ]
    },
    {
      "cell_type": "code",
      "metadata": {
        "colab_type": "code",
        "id": "KBp3-kGns6LM",
        "colab": {}
      },
      "source": [
        "url = \"https://raw.githubusercontent.com/BeaverWorksMedlytics2020/Data_Public/master/NotebookExampleData/Week1/BWSI_Dataset1.csv\"\n",
        "\n",
        "# YOUR CODE HERE"
      ],
      "execution_count": null,
      "outputs": []
    },
    {
      "cell_type": "markdown",
      "metadata": {
        "id": "wtOdaXyhuO8_",
        "colab_type": "text"
      },
      "source": [
        "Conduct a Univariate Analysis of the participants' Cholesterol. What is noticeable about it? Create a function that normalizes the participants' Cholesterol and create two visualizations, one before the `\"Chol\"` data is modified, and one after normalizing the `\"Chol\"` data."
      ]
    },
    {
      "cell_type": "code",
      "metadata": {
        "colab_type": "code",
        "id": "ub7tLlnjtxCA",
        "colab": {}
      },
      "source": [
        "# YOUR CODE HERE"
      ],
      "execution_count": null,
      "outputs": []
    },
    {
      "cell_type": "markdown",
      "metadata": {
        "id": "QaB2YCMIuTNH",
        "colab_type": "text"
      },
      "source": [
        "Bivariate Analysis\n",
        "\n",
        "---"
      ]
    },
    {
      "cell_type": "markdown",
      "metadata": {
        "id": "E5FzaWsyufXy",
        "colab_type": "text"
      },
      "source": [
        "Conduct a Bivariate Analysis for `\"Protein\"` and `\"Chol\"`. What is familar about this compared to the tutorial? What is another way to deal with overplotting other than the Hex plot? Create two data visualizations, one that shows the overplotting, another that resolves this issue. After you are done, play around with the sns.kdeplot function or try to create a 3D graph to reduce the effects of overplotting."
      ]
    },
    {
      "cell_type": "code",
      "metadata": {
        "colab_type": "code",
        "id": "w5tGZu0zP4jE",
        "colab": {}
      },
      "source": [
        "# YOUR CODE HERE"
      ],
      "execution_count": null,
      "outputs": []
    },
    {
      "cell_type": "markdown",
      "metadata": {
        "colab_type": "text",
        "id": "sv_3v0gL3I7V"
      },
      "source": [
        "If you have time here are some challenge python problems\n",
        "\n",
        "---"
      ]
    },
    {
      "cell_type": "markdown",
      "metadata": {
        "colab_type": "text",
        "id": "QNEH7fO23PCK"
      },
      "source": [
        "As depicted below, create a numpy array of zeros (a) and an array of ones (b). Using slicing and assignment, update a using b, so that a is the array on the right side of the arrow. <br>\n",
        "hint: use np.zeros and np.ones\n"
      ]
    },
    {
      "cell_type": "code",
      "metadata": {
        "colab_type": "code",
        "id": "OZfpY4943Pki",
        "colab": {}
      },
      "source": [
        "# 0 0 0 0 0 0                  0 0 0 0 0 0\n",
        "# 0 0 0 0 0 0    1 1 1  --->   0 0 0 0 0 0\n",
        "# 0 0 0 0 0 0    1 1 1         0 0 1 1 1 0\n",
        "# 0 0 0 0 0 0                  0 0 1 1 1 0"
      ],
      "execution_count": null,
      "outputs": []
    },
    {
      "cell_type": "code",
      "metadata": {
        "colab_type": "code",
        "id": "NOHGOiQX3Po6",
        "colab": {}
      },
      "source": [
        "# YOUR CODE HERE\n"
      ],
      "execution_count": null,
      "outputs": []
    },
    {
      "cell_type": "markdown",
      "metadata": {
        "colab_type": "text",
        "id": "uOImCP-Z3QAy"
      },
      "source": [
        "Fill in the function below. The function recieves a non-empty string and an int n, and returns a new string where the character at index n has been removed.¶\n"
      ]
    },
    {
      "cell_type": "code",
      "metadata": {
        "colab_type": "code",
        "id": "tqaqr_wl3QSb",
        "colab": {}
      },
      "source": [
        "def remove_char(old_string, n):\n",
        "    # YOUR CODE HERE\n",
        "    return new_string\n",
        "\n",
        "remove_char(\"words\", \"o\")\n",
        "\"words\"[len(\"words\")-1:]"
      ],
      "execution_count": null,
      "outputs": []
    },
    {
      "cell_type": "markdown",
      "metadata": {
        "colab_type": "text",
        "id": "2xl10TMi3R3T"
      },
      "source": [
        "Given a string, return a new string where the first and last characters have been exchanged."
      ]
    },
    {
      "cell_type": "code",
      "metadata": {
        "colab_type": "code",
        "id": "G3aMdeSv3R_B",
        "colab": {}
      },
      "source": [
        "def swap_chars(old_string):\n",
        "  # YOUR CODE HERE\n"
      ],
      "execution_count": null,
      "outputs": []
    },
    {
      "cell_type": "markdown",
      "metadata": {
        "colab_type": "text",
        "id": "ijou0sJ33SDp"
      },
      "source": [
        "Test the function with three different parameters\n"
      ]
    },
    {
      "cell_type": "code",
      "metadata": {
        "colab_type": "code",
        "id": "oBzMdJLZ3NvL",
        "colab": {}
      },
      "source": [
        "# YOUR CODE HERE"
      ],
      "execution_count": null,
      "outputs": []
    }
  ]
}

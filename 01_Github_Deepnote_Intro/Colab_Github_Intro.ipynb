{
 "cells": [
  {
   "cell_type": "markdown",
   "source": "# Getting Comfortable with Colaboratory\n---\n\nGoogle Colaboratory (Colab) is an free online Python notebook that runs on a CPU or GPU in the cloud (i.e. some server at Google). If you have a Google account, you can code with Colab without downloading any IDE (Integrated Development Environment) or installing any packages onto your local machine.",
   "metadata": {
    "colab_type": "text",
    "id": "3LqQndJfqd2X",
    "cell_id": "00000-7c8c8923-3179-4d2b-b324-9831f5b193b7",
    "deepnote_cell_type": "markdown"
   }
  },
  {
   "cell_type": "markdown",
   "source": "Colab Notebooks are functionally very similar to Jupyter Notebooks (with a few exceptions for uploading/downloading to/from local files) while also having similar funcitonalities to Google Docs where you can share notebooks to collaborate with group members in real time and comment on blocks of code/text.\n<br></br>\n\nHere are some basics for working in Colab:\n\n* Hit Ctrl/⌘ + M + H to show Colab's keyboard shortcuts. You can even **customize shortcuts** to your own liking. Here are some examples of default shortcuts in Colab:\n  * edit cell: enter\n  * run current cell: shift + enter\n  * insert code cell above: Ctrl/⌘ + M + A\n  * insert code cell below: Ctrl/⌘ + M + B\n  * delete cell/selection: Ctrl/⌘ + M + D\n  * interupt execution: Ctrl/⌘ + M + I\n  * convert to code cell: Ctrl/⌘ + M + Y\n  * convert to text cell: Ctrl/⌘ + M + M\n* To run all cells in a notebook use Runtime > Run All.\n* Move the cell you are currently editing up or down in the notebook's cell order by clicking the up/down arrows in the top right corner. \n* Download your current notebook to your local drive using File > Download .ipynb \n* To clear a code cell's output click on the 3 dots in the top right corner and select \"clear output\".",
   "metadata": {
    "id": "M_QiCa_XYu2o",
    "colab_type": "text",
    "cell_id": "00001-5c933391-bb6f-4bd7-a480-c5cf7c1bda1a",
    "deepnote_cell_type": "markdown"
   }
  },
  {
   "cell_type": "markdown",
   "source": "# Packages\n---\n\nColab already has most common packages installed and ready for import, but if it doesn't have the particular package you need, you can install it using `!pip install mypackage` from inside a notebook cell.",
   "metadata": {
    "colab_type": "text",
    "id": "PEKoaiRXqd4f",
    "cell_id": "00002-2a31a534-43e2-4714-9b9f-72093524759d",
    "deepnote_cell_type": "markdown"
   }
  },
  {
   "cell_type": "markdown",
   "source": "## EXERCISE\n\nTry installing tensorflow in the cell below. It should output \"Requirement already satisfied\", meaning that the package is already installed on the remote cpu you are using. ",
   "metadata": {
    "id": "J9dtrPy1ZIKL",
    "colab_type": "text",
    "cell_id": "00003-5e565e4b-a220-407a-af5f-4ac54cfe91c8",
    "deepnote_cell_type": "markdown"
   }
  },
  {
   "cell_type": "code",
   "metadata": {
    "colab_type": "code",
    "id": "tKhUUZ81qjN7",
    "colab": {},
    "cell_id": "00004-31f87a88-d318-4be1-875d-507fe2b433a1",
    "deepnote_cell_type": "code"
   },
   "source": "# YOUR CODE HERE edit made",
   "execution_count": null,
   "outputs": []
  },
  {
   "cell_type": "markdown",
   "source": "# Downloading/Uploading Locally in Colab\n---\n\nAlthough you are running your code on a remote CPU/GPU, you can still download/upload files to/from your local drive. There are 2 special Colab commands to do so. For both you will need to import \"files\" from \"google.colab\". Note that these commands do not work on IDEs, and your regular download/upload functions will not work in Colab. \n\n*Note: if you are uploading files from a url to a local variable, you can do so the same way you would outside of Colab (ex. pd.read_csv(url)).*",
   "metadata": {
    "colab_type": "text",
    "id": "8CRkibIdqd8d",
    "cell_id": "00005-aa21188d-f284-4a80-a3d7-059f5f67f2b2",
    "deepnote_cell_type": "markdown"
   }
  },
  {
   "cell_type": "markdown",
   "source": "## Uploading File(s)\n\nThere are 3 different ways you can upload files to work with from Colab.\n\n1.\n\n\n```python\nfrom google.colab import files\n\nuploaded = files.upload()\n```\n\nWhenever `files.upload()` is run, a GUI popup will appear in the output. Select \"Choose Files\" and select the file(s) from your machine.\n<br></br>\n\n2.\n\nYou can also upload file(s) to your Colab notebook through its UI.\n1. Click on the files icon on the left side of your screen (it should be the third one down). That should open up a side bar and after a few seconds, 3 icons should appear lined up horizontally below \"Files\".\n2. Select the leftmost icon to upload your files.\n\n![](https://raw.githubusercontent.com/BeaverWorksMedlytics2020/Data_Public/master/Images/Week1/colab00.png)\n<br></br>\n\n3.\n\nYou can allow your Colab notebook to access files from your Google Drive, in other words mount your drive. \n1. Instead of selecting the file upload icon you should select the right most one labeled \"Mount Drive\" when you hover over it.\n2. In your first time mounting your drive for a notebook, clicking the icon should make a Code Cell appear. Running this cell will provide a link in its output that you should click and be redirected to another tab that will ask for permission to access your files. Once you've done that copy/paste the code back into the box in the output of the Code Cell and hit enter.\n\n![](https://raw.githubusercontent.com/BeaverWorksMedlytics2020/Data_Public/master/Images/Week1/colab01.png)\n![](https://raw.githubusercontent.com/BeaverWorksMedlytics2020/Data_Public/master/Images/Week1/colab02.jpg)",
   "metadata": {
    "id": "nQeVXdYtuLiW",
    "colab_type": "text",
    "cell_id": "00006-aa5b42a8-c517-4697-bf96-01568d658243",
    "deepnote_cell_type": "markdown"
   }
  },
  {
   "cell_type": "markdown",
   "source": "## Downloading File(s)\n\nWhen downloading files, use the `files.download('filename.ext')` function and the file will be saved into your Downloads folder. This requires the filename you input to be a file already in existence in the CPU of the remote server you are using.\n\n```python\nfrom google.colab import files\n\nfiles.download('filename.ext')\n```",
   "metadata": {
    "id": "t-SzIdjWuPVv",
    "colab_type": "text",
    "cell_id": "00007-efcf55b5-1216-425e-9afd-c402c7d404c3",
    "deepnote_cell_type": "markdown"
   }
  },
  {
   "cell_type": "markdown",
   "source": "## EXERCISE\nCreate a .txt file somewhere in your local drive and upload it to colab. Remember to save it as a variable. Then download the same file you just uploaded.",
   "metadata": {
    "id": "dIVU8pNqY4cY",
    "colab_type": "text",
    "cell_id": "00008-a6ebbc71-033c-4f57-99a8-27b4501bc8e7",
    "deepnote_cell_type": "markdown"
   }
  },
  {
   "cell_type": "code",
   "metadata": {
    "colab_type": "code",
    "id": "odsb4Kabqy_p",
    "colab": {},
    "cell_id": "00009-7eb40394-6ce2-41d9-ac0c-9d19c89b50b8",
    "deepnote_cell_type": "code"
   },
   "source": "# Upload file\n# YOUR CODE HERE",
   "execution_count": null,
   "outputs": []
  },
  {
   "cell_type": "code",
   "metadata": {
    "colab_type": "code",
    "id": "fAiZoB3Rq3bm",
    "colab": {},
    "cell_id": "00010-9bf62a73-df2f-4135-a2de-a9a88bbb72bd",
    "deepnote_cell_type": "code"
   },
   "source": "# Download file\n# YOUR CODE HERE",
   "execution_count": null,
   "outputs": []
  },
  {
   "cell_type": "markdown",
   "source": "# GPU Use\n---\n\nColab has (limited) free GPU support. \n> To enable GPU support use Edit > Notebook Settings > Hardware Accelerator > GPU.",
   "metadata": {
    "id": "LxEpXl18ap-g",
    "colab_type": "text",
    "cell_id": "00011-bd774cb4-7fc5-49cf-93e4-2c70f1ef3ce1",
    "deepnote_cell_type": "markdown"
   }
  },
  {
   "cell_type": "markdown",
   "source": "When switching between CPU and GPU, all your local variables will be cleared, so **don't switch in the middle of running something unless you are prepared to reload all your local variables**. \n\nBecause the GPU is free and public, sometimes many people try to use it at the same time. This can result in you getting less GPU resources to work with. If you get a \"ResourcesExhausted\" error while using GPU, this means you have used all the GPU resources dedicated to your session and you will have to restart your runtime (Runtime > Restart Runtime). After restarting your runtime, your local variables will be wiped.\n> **You do not need GPU power unless you're doing something computationally intensive, like training a large neural network**. My advice would be to not use the GPU unless you notice your runtime slowing down significantly or you know you will need it during your session. ",
   "metadata": {
    "id": "LdqnrmEhn70y",
    "colab_type": "text",
    "cell_id": "00012-eb6946cc-d079-411a-ac21-d562296cae8c",
    "deepnote_cell_type": "markdown"
   }
  },
  {
   "cell_type": "markdown",
   "source": "# Troubleshooting Colab\n---\n\n* If you get a \"ResourcesExhausted\" error, this means you have used all the GPU resources dedicated to your session and you will need to restart your runtime (Runtime > Restart Runtime). After restarting your runtime your local environment will be wiped.\n* If you get a warning window that says you are close to reaching the session's memory limit, this means you are nearing a ResourcesExhausted error. You can still run code until the error occurs, but note that you will likely need to restart your runtime soon.\n* Colab will automatically end your runtime after 12 hours. Simply restart it if this happens\n* If things are running really slow, double check that you are using GPU\n* If you run into trouble and a cell is taking too long to run, use Runtime > Interrupt execution. You may have to wait a minute for the interruption to take effect.\n* If all else fails, try Runtime > Restart Runtime. This will wipe your local variables. \n* Google is your best friend! Learning how to effectively and efficiently use google for coding queries is a vital skill.\n* You can always ask an instructor for help",
   "metadata": {
    "colab_type": "text",
    "id": "mYq_DUYRq5Kn",
    "cell_id": "00013-b354d4f7-9f46-44b4-81ba-1a3e6e333937",
    "deepnote_cell_type": "markdown"
   }
  },
  {
   "cell_type": "markdown",
   "source": "# Saving Your Progress\n---\n\nSince we'll be pushing out notebooks and other material in public class repositories on **Github**, you will have to make your own **fork** of them each week. This way you'll be able to fetch any changes we make to the class repo while still being able to push edits to your own workspace. The catch is, Colab allows you to directly push your Notebook edits/commits to Github as well! Feel free to reference back to this notebook any time throughout the course.",
   "metadata": {
    "id": "UVQHrYeRap-i",
    "colab_type": "text",
    "cell_id": "00014-d653a379-d318-4545-89a8-de19189c6b4c",
    "deepnote_cell_type": "markdown"
   }
  },
  {
   "cell_type": "markdown",
   "source": "# Medlytics Github 101\n---",
   "metadata": {
    "id": "psHPVWnTap-j",
    "colab_type": "text",
    "cell_id": "00015-5546d013-b84b-4ff0-a30a-3266cafba323",
    "deepnote_cell_type": "markdown"
   }
  },
  {
   "cell_type": "markdown",
   "source": "## 1. Setting up your fork 🍴\n\n*You only have to complete this first section once (in the beginning of the week)*\n\n### 1a. Making the fork \nJust head over to the **public class'** GitHub repository and click the \"Fork\" button in the upper right corner. \n\n![](https://raw.githubusercontent.com/BeaverWorksMedlytics2020/Data_public/master/Images/Week1/colab2.png)\n\nAfter a few seconds you should be redirected to your fork, the top of your page should look something like this:\n\n![](https://raw.githubusercontent.com/BeaverWorksMedlytics2020/Data_public/master/Images/Week1/colab3.JPG)\n\n### 1b. Making a local clone of *your fork*\nFirst, click on the green \"Clone\" button and copy the link that drops down. *Again, make sure you're on the page of **your fork**, not the class repository.* \n\nOnce you have that, open your terminal or Git bash to clone your fork by running the following command:\n\n```shell\ngit clone [INSERT LINK] \n# Your repository link should look something like https://github.com/[YOUR USERNAME]/[WeekNUMBER]_Public\n```\n\n### 1c. Adding an upstream\n\nIn order to keep your fork up to date with the class repository when we push new notebooks and files each day, you'll need to set up the original class repository as your \"upstream\". *Make sure you insert the link of the **class** repository and not your fork.*\n\n```shell\n# First make sure you're in the right directory\ncd Week[NUMBER]_Public\n# Now add the upstream\ngit remote add upstream [INSERT LINK] \n# Class link should look something like https://github.com/BeaverWorksMedlytics2020/[WeekNUMBER]_Public\n```\n\nMake sure your origin and upstream are all set by running\n\n```shell\ngit remote -v\n```\n\nYou should see something like this where your origin is linked to your fork (as seen by your username) and upstream is set to the original class repository (as seen by BeaverWorksMedlytics2020)\n\n```\norigin  https://github.com/emilygtan/Week1_Public.git (fetch)\norigin  https://github.com/emilygtan/Week1_Public.git (push)\nupstream        https://github.com/BeaverWorksMedlytics2020/Week1_Public (fetch)\nupstream        https://github.com/BeaverWorksMedlytics2020/Week1_Public (push)\n```",
   "metadata": {
    "id": "BaQrIHdx07W0",
    "colab_type": "text",
    "cell_id": "00016-793d7620-1599-4868-8093-dd9385b00aed",
    "deepnote_cell_type": "markdown"
   }
  },
  {
   "cell_type": "markdown",
   "source": "## 2. Keeping your fork up to date\n\nOnce you've edited your Colab Exercise notebooks, you'll first need to pull those updates to your local copy. Then you you can fetch the changes from upstream, merge those with your local master branch, and push the updated local branch to your remote repository.\n\n```shell\ngit pull\n\ngit fetch upstream\n\ngit checkout master\n\ngit commit -m \"[YOUR COMMIT MESSAGE HERE]\"\n\ngit merge upstream/master master\n\ngit push origin master\n```",
   "metadata": {
    "id": "oIBzUko3GrqP",
    "colab_type": "text",
    "cell_id": "00017-8c054f9b-4109-401e-a6b4-37262a43d2ed",
    "deepnote_cell_type": "markdown"
   }
  },
  {
   "cell_type": "markdown",
   "source": "## Git Logic Chart\n\n![](https://raw.githubusercontent.com/BeaverWorksMedlytics2020/Data_Public/master/Images/Week1/gitlogic.png)",
   "metadata": {
    "id": "eHOn47CzGmAz",
    "colab_type": "text",
    "cell_id": "00018-55b71fe6-efd3-40e8-bb92-651186881ed4",
    "deepnote_cell_type": "markdown"
   }
  },
  {
   "cell_type": "markdown",
   "source": "# Committing/Pushing to Github with Colab\n---\n\nFirst click on File in the top left corner of your notebook and go down to \"Save a copy in Github\" \n\n*Note: Make sure you've now opened up **your personal fork's notebook** and not the class repository's notebook, since you won't have permissions to push or save changes to the public class repository*\n\n![](https://raw.githubusercontent.com/BeaverWorksMedlytics2020/Data_Public/master/Images/Week1/colab4.jpg)\n\nYou may and should get a pop-up asking for permission to access your Github account through Colab, since this is presumably most people's first time using this feature. Once you sort that out you'll see a new pop-up in the middle of the screen for your commit, where you can choose which branch to push it to or edit your commit message. \n\n![](https://raw.githubusercontent.com/BeaverWorksMedlytics2020/Data_Public/master/Images/Week1/colab5.png)\n\nOnce you click \"Ok\" (aka push your commit) you'll be redirected to the page of the file you edited on Github. To confirm that it worked, you should see the commit message you just made in Colab as the latest commit.\n\n![](https://raw.githubusercontent.com/BeaverWorksMedlytics2020/Data_Public/master/Images/Week1/colab6.jpg)",
   "metadata": {
    "id": "IUGQPJ9Oap-k",
    "colab_type": "text",
    "cell_id": "00019-bdef4234-2485-4468-b638-7439a8976500",
    "deepnote_cell_type": "markdown"
   }
  },
  {
   "cell_type": "markdown",
   "source": "<a style='text-decoration:none;line-height:16px;display:flex;color:#5B5B62;padding:10px;justify-content:end;' href='https://deepnote.com?utm_source=created-in-deepnote-cell&projectId=d235bfc1-2e47-4a5a-86ef-83055dd711b9' target=\"_blank\">\n<img alt='Created in deepnote.com' style='display:inline;max-height:16px;margin:0px;margin-right:7.5px;' src='data:image/svg+xml;base64,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' > </img>\nCreated in <span style='font-weight:600;margin-left:4px;'>Deepnote</span></a>",
   "metadata": {
    "tags": [],
    "created_in_deepnote_cell": true,
    "deepnote_cell_type": "markdown"
   }
  }
 ],
 "nbformat": 4,
 "nbformat_minor": 0,
 "metadata": {
  "colab": {
   "name": "Colab_Github_Intro.ipynb",
   "provenance": [],
   "collapsed_sections": []
  },
  "kernelspec": {
   "display_name": "Python 3",
   "language": "python",
   "name": "python3"
  },
  "language_info": {
   "codemirror_mode": {
    "name": "ipython",
    "version": 3
   },
   "file_extension": ".py",
   "mimetype": "text/x-python",
   "name": "python",
   "nbconvert_exporter": "python",
   "pygments_lexer": "ipython3",
   "version": "3.7.3"
  },
  "deepnote_notebook_id": "89288e5d-0107-4be5-9303-a8c862471a38",
  "deepnote": {},
  "deepnote_execution_queue": []
 }
}
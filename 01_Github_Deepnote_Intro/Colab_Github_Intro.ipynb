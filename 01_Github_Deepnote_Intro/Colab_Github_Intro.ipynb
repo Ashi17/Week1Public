{
  "nbformat": 4,
  "nbformat_minor": 0,
  "metadata": {
    "colab": {
      "name": "Colab_Github_Intro.ipynb",
      "provenance": [],
      "collapsed_sections": []
    },
    "kernelspec": {
      "display_name": "Python 3",
      "language": "python",
      "name": "python3"
    },
    "language_info": {
      "codemirror_mode": {
        "name": "ipython",
        "version": 3
      },
      "file_extension": ".py",
      "mimetype": "text/x-python",
      "name": "python",
      "nbconvert_exporter": "python",
      "pygments_lexer": "ipython3",
      "version": "3.7.3"
    }
  },
  "cells": [
    {
      "cell_type": "markdown",
      "metadata": {
        "colab_type": "text",
        "id": "3LqQndJfqd2X"
      },
      "source": [
        "# Getting Comfortable with Colaboratory\n",
        "---\n",
        "\n",
        "Google Colaboratory (Colab) is an free online Python notebook that runs on a CPU or GPU in the cloud (i.e. some server at Google). If you have a Google account, you can code with Colab without downloading any IDE (Integrated Development Environment) or installing any packages onto your local machine."
      ]
    },
    {
      "cell_type": "markdown",
      "metadata": {
        "id": "M_QiCa_XYu2o",
        "colab_type": "text"
      },
      "source": [
        "Colab Notebooks are functionally very similar to Jupyter Notebooks (with a few exceptions for uploading/downloading to/from local files) while also having similar funcitonalities to Google Docs where you can share notebooks to collaborate with group members in real time and comment on blocks of code/text.\n",
        "<br></br>\n",
        "\n",
        "Here are some basics for working in Colab:\n",
        "\n",
        "* Hit Ctrl/⌘ + M + H to show Colab's keyboard shortcuts. You can even **customize shortcuts** to your own liking. Here are some examples of default shortcuts in Colab:\n",
        "  * edit cell: enter\n",
        "  * run current cell: shift + enter\n",
        "  * insert code cell above: Ctrl/⌘ + M + A\n",
        "  * insert code cell below: Ctrl/⌘ + M + B\n",
        "  * delete cell/selection: Ctrl/⌘ + M + D\n",
        "  * interupt execution: Ctrl/⌘ + M + I\n",
        "  * convert to code cell: Ctrl/⌘ + M + Y\n",
        "  * convert to text cell: Ctrl/⌘ + M + M\n",
        "* To run all cells in a notebook use Runtime > Run All.\n",
        "* Move the cell you are currently editing up or down in the notebook's cell order by clicking the up/down arrows in the top right corner. \n",
        "* Download your current notebook to your local drive using File > Download .ipynb \n",
        "* To clear a code cell's output click on the 3 dots in the top right corner and select \"clear output\"."
      ]
    },
    {
      "cell_type": "markdown",
      "metadata": {
        "colab_type": "text",
        "id": "PEKoaiRXqd4f"
      },
      "source": [
        "# Packages\n",
        "---\n",
        "\n",
        "Colab already has most common packages installed and ready for import, but if it doesn't have the particular package you need, you can install it using `!pip install mypackage` from inside a notebook cell."
      ]
    },
    {
      "cell_type": "markdown",
      "metadata": {
        "id": "J9dtrPy1ZIKL",
        "colab_type": "text"
      },
      "source": [
        "## EXERCISE\n",
        "\n",
        "Try installing tensorflow in the cell below. It should output \"Requirement already satisfied\", meaning that the package is already installed on the remote cpu you are using. "
      ]
    },
    {
      "cell_type": "code",
      "metadata": {
        "colab_type": "code",
        "id": "tKhUUZ81qjN7",
        "colab": {}
      },
      "source": [
        "# YOUR CODE HERE"
      ],
      "execution_count": null,
      "outputs": []
    },
    {
      "cell_type": "markdown",
      "metadata": {
        "colab_type": "text",
        "id": "8CRkibIdqd8d"
      },
      "source": [
        "# Downloading/Uploading Locally in Colab\n",
        "---\n",
        "\n",
        "Although you are running your code on a remote CPU/GPU, you can still download/upload files to/from your local drive. There are 2 special Colab commands to do so. For both you will need to import \"files\" from \"google.colab\". Note that these commands do not work on IDEs, and your regular download/upload functions will not work in Colab. \n",
        "\n",
        "*Note: if you are uploading files from a url to a local variable, you can do so the same way you would outside of Colab (ex. pd.read_csv(url)).*"
      ]
    },
    {
      "cell_type": "markdown",
      "metadata": {
        "id": "nQeVXdYtuLiW",
        "colab_type": "text"
      },
      "source": [
        "## Uploading File(s)\n",
        "\n",
        "There are 3 different ways you can upload files to work with from Colab.\n",
        "\n",
        "1.\n",
        "\n",
        "\n",
        "```python\n",
        "from google.colab import files\n",
        "\n",
        "uploaded = files.upload()\n",
        "```\n",
        "\n",
        "Whenever `files.upload()` is run, a GUI popup will appear in the output. Select \"Choose Files\" and select the file(s) from your machine.\n",
        "<br></br>\n",
        "\n",
        "2.\n",
        "\n",
        "You can also upload file(s) to your Colab notebook through its UI.\n",
        "1. Click on the files icon on the left side of your screen (it should be the third one down). That should open up a side bar and after a few seconds, 3 icons should appear lined up horizontally below \"Files\".\n",
        "2. Select the leftmost icon to upload your files.\n",
        "\n",
        "![](https://raw.githubusercontent.com/BeaverWorksMedlytics2020/Data_Public/master/Images/Week1/colab00.png)\n",
        "<br></br>\n",
        "\n",
        "3.\n",
        "\n",
        "You can allow your Colab notebook to access files from your Google Drive, in other words mount your drive. \n",
        "1. Instead of selecting the file upload icon you should select the right most one labeled \"Mount Drive\" when you hover over it.\n",
        "2. In your first time mounting your drive for a notebook, clicking the icon should make a Code Cell appear. Running this cell will provide a link in its output that you should click and be redirected to another tab that will ask for permission to access your files. Once you've done that copy/paste the code back into the box in the output of the Code Cell and hit enter.\n",
        "\n",
        "![](https://raw.githubusercontent.com/BeaverWorksMedlytics2020/Data_Public/master/Images/Week1/colab01.png)\n",
        "![](https://raw.githubusercontent.com/BeaverWorksMedlytics2020/Data_Public/master/Images/Week1/colab02.jpg)"
      ]
    },
    {
      "cell_type": "markdown",
      "metadata": {
        "id": "t-SzIdjWuPVv",
        "colab_type": "text"
      },
      "source": [
        "## Downloading File(s)\n",
        "\n",
        "When downloading files, use the `files.download('filename.ext')` function and the file will be saved into your Downloads folder. This requires the filename you input to be a file already in existence in the CPU of the remote server you are using.\n",
        "\n",
        "```python\n",
        "from google.colab import files\n",
        "\n",
        "files.download('filename.ext')\n",
        "```"
      ]
    },
    {
      "cell_type": "markdown",
      "metadata": {
        "id": "dIVU8pNqY4cY",
        "colab_type": "text"
      },
      "source": [
        "## EXERCISE\n",
        "Create a .txt file somewhere in your local drive and upload it to colab. Remember to save it as a variable. Then download the same file you just uploaded."
      ]
    },
    {
      "cell_type": "code",
      "metadata": {
        "colab_type": "code",
        "id": "odsb4Kabqy_p",
        "colab": {}
      },
      "source": [
        "# Upload file\n",
        "# YOUR CODE HERE"
      ],
      "execution_count": null,
      "outputs": []
    },
    {
      "cell_type": "code",
      "metadata": {
        "colab_type": "code",
        "id": "fAiZoB3Rq3bm",
        "colab": {}
      },
      "source": [
        "# Download file\n",
        "# YOUR CODE HERE"
      ],
      "execution_count": null,
      "outputs": []
    },
    {
      "cell_type": "markdown",
      "metadata": {
        "id": "LxEpXl18ap-g",
        "colab_type": "text"
      },
      "source": [
        "# GPU Use\n",
        "---\n",
        "\n",
        "Colab has (limited) free GPU support. \n",
        "> To enable GPU support use Edit > Notebook Settings > Hardware Accelerator > GPU."
      ]
    },
    {
      "cell_type": "markdown",
      "metadata": {
        "id": "LdqnrmEhn70y",
        "colab_type": "text"
      },
      "source": [
        "When switching between CPU and GPU, all your local variables will be cleared, so **don't switch in the middle of running something unless you are prepared to reload all your local variables**. \n",
        "\n",
        "Because the GPU is free and public, sometimes many people try to use it at the same time. This can result in you getting less GPU resources to work with. If you get a \"ResourcesExhausted\" error while using GPU, this means you have used all the GPU resources dedicated to your session and you will have to restart your runtime (Runtime > Restart Runtime). After restarting your runtime, your local variables will be wiped.\n",
        "> **You do not need GPU power unless you're doing something computationally intensive, like training a large neural network**. My advice would be to not use the GPU unless you notice your runtime slowing down significantly or you know you will need it during your session. "
      ]
    },
    {
      "cell_type": "markdown",
      "metadata": {
        "colab_type": "text",
        "id": "mYq_DUYRq5Kn"
      },
      "source": [
        "# Troubleshooting Colab\n",
        "---\n",
        "\n",
        "* If you get a \"ResourcesExhausted\" error, this means you have used all the GPU resources dedicated to your session and you will need to restart your runtime (Runtime > Restart Runtime). After restarting your runtime your local environment will be wiped.\n",
        "* If you get a warning window that says you are close to reaching the session's memory limit, this means you are nearing a ResourcesExhausted error. You can still run code until the error occurs, but note that you will likely need to restart your runtime soon.\n",
        "* Colab will automatically end your runtime after 12 hours. Simply restart it if this happens\n",
        "* If things are running really slow, double check that you are using GPU\n",
        "* If you run into trouble and a cell is taking too long to run, use Runtime > Interrupt execution. You may have to wait a minute for the interruption to take effect.\n",
        "* If all else fails, try Runtime > Restart Runtime. This will wipe your local variables. \n",
        "* Google is your best friend! Learning how to effectively and efficiently use google for coding queries is a vital skill.\n",
        "* You can always ask an instructor for help"
      ]
    },
    {
      "cell_type": "markdown",
      "metadata": {
        "id": "UVQHrYeRap-i",
        "colab_type": "text"
      },
      "source": [
        "# Saving Your Progress\n",
        "---\n",
        "\n",
        "Since we'll be pushing out notebooks and other material in public class repositories on **Github**, you will have to make your own **fork** of them each week. This way you'll be able to fetch any changes we make to the class repo while still being able to push edits to your own workspace. The catch is, Colab allows you to directly push your Notebook edits/commits to Github as well! Feel free to reference back to this notebook any time throughout the course."
      ]
    },
    {
      "cell_type": "markdown",
      "metadata": {
        "id": "psHPVWnTap-j",
        "colab_type": "text"
      },
      "source": [
        "# Medlytics Github 101\n",
        "---"
      ]
    },
    {
      "cell_type": "markdown",
      "metadata": {
        "id": "BaQrIHdx07W0",
        "colab_type": "text"
      },
      "source": [
        "## 1. Setting up your fork 🍴\n",
        "\n",
        "*You only have to complete this first section once (in the beginning of the week)*\n",
        "\n",
        "### 1a. Making the fork \n",
        "Just head over to the **public class'** GitHub repository and click the \"Fork\" button in the upper right corner. \n",
        "\n",
        "![](https://raw.githubusercontent.com/BeaverWorksMedlytics2020/Data_public/master/Images/Week1/colab2.png)\n",
        "\n",
        "After a few seconds you should be redirected to your fork, the top of your page should look something like this:\n",
        "\n",
        "![](https://raw.githubusercontent.com/BeaverWorksMedlytics2020/Data_public/master/Images/Week1/colab3.JPG)\n",
        "\n",
        "### 1b. Making a local clone of *your fork*\n",
        "First, click on the green \"Clone\" button and copy the link that drops down. *Again, make sure you're on the page of **your fork**, not the class repository.* \n",
        "\n",
        "Once you have that, open your terminal or Git bash to clone your fork by running the following command:\n",
        "\n",
        "```shell\n",
        "git clone [INSERT LINK] \n",
        "# Your repository link should look something like https://github.com/[YOUR USERNAME]/[WeekNUMBER]_Public\n",
        "```\n",
        "\n",
        "### 1c. Adding an upstream\n",
        "\n",
        "In order to keep your fork up to date with the class repository when we push new notebooks and files each day, you'll need to set up the original class repository as your \"upstream\". *Make sure you insert the link of the **class** repository and not your fork.*\n",
        "\n",
        "```shell\n",
        "# First make sure you're in the right directory\n",
        "cd Week[NUMBER]_Public\n",
        "# Now add the upstream\n",
        "git remote add upstream [INSERT LINK] \n",
        "# Class link should look something like https://github.com/BeaverWorksMedlytics2020/[WeekNUMBER]_Public\n",
        "```\n",
        "\n",
        "Make sure your origin and upstream are all set by running\n",
        "\n",
        "```shell\n",
        "git remote -v\n",
        "```\n",
        "\n",
        "You should see something like this where your origin is linked to your fork (as seen by your username) and upstream is set to the original class repository (as seen by BeaverWorksMedlytics2020)\n",
        "\n",
        "```\n",
        "origin  https://github.com/emilygtan/Week1_Public.git (fetch)\n",
        "origin  https://github.com/emilygtan/Week1_Public.git (push)\n",
        "upstream        https://github.com/BeaverWorksMedlytics2020/Week1_Public (fetch)\n",
        "upstream        https://github.com/BeaverWorksMedlytics2020/Week1_Public (push)\n",
        "```"
      ]
    },
    {
      "cell_type": "markdown",
      "metadata": {
        "id": "oIBzUko3GrqP",
        "colab_type": "text"
      },
      "source": [
        "## 2. Keeping your fork up to date\n",
        "\n",
        "Once you've edited your Colab Exercise notebooks, you'll first need to pull those updates to your local copy. Then you you can fetch the changes from upstream, merge those with your local master branch, and push the updated local branch to your remote repository.\n",
        "\n",
        "```shell\n",
        "git pull\n",
        "\n",
        "git fetch upstream\n",
        "\n",
        "git checkout master\n",
        "\n",
        "git commit -m \"[YOUR COMMIT MESSAGE HERE]\"\n",
        "\n",
        "git merge upstream/master master\n",
        "\n",
        "git push origin master\n",
        "```"
      ]
    },
    {
      "cell_type": "markdown",
      "metadata": {
        "id": "eHOn47CzGmAz",
        "colab_type": "text"
      },
      "source": [
        "## Git Logic Chart\n",
        "\n",
        "![](https://raw.githubusercontent.com/BeaverWorksMedlytics2020/Data_Public/master/Images/Week1/gitlogic.png)"
      ]
    },
    {
      "cell_type": "markdown",
      "metadata": {
        "id": "IUGQPJ9Oap-k",
        "colab_type": "text"
      },
      "source": [
        "# Committing/Pushing to Github with Colab\n",
        "---\n",
        "\n",
        "First click on File in the top left corner of your notebook and go down to \"Save a copy in Github\" \n",
        "\n",
        "*Note: Make sure you've now opened up **your personal fork's notebook** and not the class repository's notebook, since you won't have permissions to push or save changes to the public class repository*\n",
        "\n",
        "![](https://raw.githubusercontent.com/BeaverWorksMedlytics2020/Data_Public/master/Images/Week1/colab4.jpg)\n",
        "\n",
        "You may and should get a pop-up asking for permission to access your Github account through Colab, since this is presumably most people's first time using this feature. Once you sort that out you'll see a new pop-up in the middle of the screen for your commit, where you can choose which branch to push it to or edit your commit message. \n",
        "\n",
        "![](https://raw.githubusercontent.com/BeaverWorksMedlytics2020/Data_Public/master/Images/Week1/colab5.png)\n",
        "\n",
        "Once you click \"Ok\" (aka push your commit) you'll be redirected to the page of the file you edited on Github. To confirm that it worked, you should see the commit message you just made in Colab as the latest commit.\n",
        "\n",
        "![](https://raw.githubusercontent.com/BeaverWorksMedlytics2020/Data_Public/master/Images/Week1/colab6.jpg)"
      ]
    }
  ]
}
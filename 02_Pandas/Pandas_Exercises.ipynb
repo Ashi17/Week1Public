{
 "cells": [
  {
   "cell_type": "markdown",
   "source": "# Pandas Exercises",
   "metadata": {
    "colab_type": "text",
    "id": "bSU6eKZTdMXZ",
    "cell_id": "00000-032fd6e3-e436-470d-a109-da39aed17e2c",
    "deepnote_cell_type": "markdown"
   }
  },
  {
   "cell_type": "code",
   "metadata": {
    "colab_type": "code",
    "id": "c5ewTg7vdQFm",
    "colab": {},
    "cell_id": "00001-a8f7c11b-cea1-426b-982d-13ddd46cb331",
    "deepnote_cell_type": "code"
   },
   "source": "import pandas as pd\n\nurl = \"https://raw.githubusercontent.com/BeaverWorksMedlytics2020/Data_Public/master/NotebookExampleData/Week1/diabetes.csv\"\nnames = ['preg', 'plas', 'pres', 'skin', 'test', 'mass', 'pedi', 'age', 'class']",
   "execution_count": null,
   "outputs": []
  },
  {
   "cell_type": "markdown",
   "source": "Read in csv above to a pandas dataframe",
   "metadata": {
    "colab_type": "text",
    "id": "QOLgFaSKeShR",
    "cell_id": "00002-5b629137-9a21-414c-bfcc-f7bd46656001",
    "deepnote_cell_type": "markdown"
   }
  },
  {
   "cell_type": "code",
   "metadata": {
    "colab_type": "code",
    "id": "Okcb8dnXeX2C",
    "colab": {},
    "cell_id": "00003-f474f841-50aa-4785-accf-05e1e7145046",
    "deepnote_cell_type": "code"
   },
   "source": "# YOUR CODE HERE",
   "execution_count": null,
   "outputs": []
  },
  {
   "cell_type": "markdown",
   "source": "Print out the age and class of the 100th patient",
   "metadata": {
    "colab_type": "text",
    "id": "d4DyOsuoewE2",
    "cell_id": "00004-21f03935-4214-4c47-bcd6-083190b0b08d",
    "deepnote_cell_type": "markdown"
   }
  },
  {
   "cell_type": "code",
   "metadata": {
    "colab_type": "code",
    "id": "xZqBsg39eY8_",
    "colab": {},
    "cell_id": "00005-08d6d710-955c-47b7-8904-3bceae3a5853",
    "deepnote_cell_type": "code"
   },
   "source": "# YOUR CODE HERE",
   "execution_count": null,
   "outputs": []
  },
  {
   "cell_type": "markdown",
   "source": "Write code to figure out how many people are classified as not having diabetes, class is 0",
   "metadata": {
    "colab_type": "text",
    "id": "j8L2EM-5iOWc",
    "cell_id": "00006-6e666054-0900-4a6a-b2d4-87c691c28c66",
    "deepnote_cell_type": "markdown"
   }
  },
  {
   "cell_type": "code",
   "metadata": {
    "colab_type": "code",
    "id": "vohzS51WiWvD",
    "colab": {},
    "cell_id": "00007-3c755a9c-71ae-48be-9810-a1a4e2439267",
    "deepnote_cell_type": "code"
   },
   "source": "# YOUR CODE HERE",
   "execution_count": null,
   "outputs": []
  },
  {
   "cell_type": "markdown",
   "source": "Write code to figure out how many people are classified as having diabetes, class is 1",
   "metadata": {
    "colab_type": "text",
    "id": "ieGRz4iiiX4E",
    "cell_id": "00008-8cd4f3af-17e8-4393-907c-a67963c9d161",
    "deepnote_cell_type": "markdown"
   }
  },
  {
   "cell_type": "code",
   "metadata": {
    "colab_type": "code",
    "id": "-jq2O-vriXRT",
    "colab": {},
    "cell_id": "00009-738d23b9-e7f8-4e68-ad19-d12862578d13",
    "deepnote_cell_type": "code"
   },
   "source": "# YOUR CODE HERE",
   "execution_count": null,
   "outputs": []
  },
  {
   "cell_type": "markdown",
   "source": "What percent of people have diabetes in the study",
   "metadata": {
    "colab_type": "text",
    "id": "oeFT7T9OnuSd",
    "cell_id": "00010-3191bcdd-9489-47d8-a9b1-12d4f43a2e4f",
    "deepnote_cell_type": "markdown"
   }
  },
  {
   "cell_type": "code",
   "metadata": {
    "colab_type": "code",
    "id": "zGGHptFYnwq0",
    "colab": {},
    "cell_id": "00011-a4a268fa-75d5-4d1f-8eb2-2379f8e730d2",
    "deepnote_cell_type": "code"
   },
   "source": "# YOUR CODE HERE",
   "execution_count": null,
   "outputs": []
  },
  {
   "cell_type": "markdown",
   "source": "Print out the `\"pres\"` and `\"class\"` (no other columns) for the first 5 people",
   "metadata": {
    "colab_type": "text",
    "id": "nbrjnRPafs0p",
    "cell_id": "00012-f9499368-f27f-4a58-af2b-38397b0f81af",
    "deepnote_cell_type": "markdown"
   }
  },
  {
   "cell_type": "code",
   "metadata": {
    "colab_type": "code",
    "id": "GiNCJ19KfHJQ",
    "colab": {},
    "cell_id": "00013-93ff7ac5-9d2b-4fec-b1a1-e31077faeab9",
    "deepnote_cell_type": "code"
   },
   "source": "# YOUR CODE HERE",
   "execution_count": null,
   "outputs": []
  },
  {
   "cell_type": "markdown",
   "source": "Run the cell below, it will print out the correlation among the columns",
   "metadata": {
    "colab_type": "text",
    "id": "O-CcsoqlhxUn",
    "cell_id": "00014-0fa5382b-1720-4c4d-bf3a-8b36ea6d5be4",
    "deepnote_cell_type": "markdown"
   }
  },
  {
   "cell_type": "code",
   "metadata": {
    "colab_type": "code",
    "id": "pXpVFt6MffQt",
    "colab": {},
    "cell_id": "00015-b81b8308-596f-4d00-8f74-05e98b694db3",
    "deepnote_cell_type": "code"
   },
   "source": "data.corr()",
   "execution_count": null,
   "outputs": []
  },
  {
   "cell_type": "markdown",
   "source": "What column has the highest correlation with class? Find the mean() value of that column",
   "metadata": {
    "colab_type": "text",
    "id": "P_7xRF11h4Uf",
    "cell_id": "00016-e02783d0-5ee6-4531-a371-168188e7c27f",
    "deepnote_cell_type": "markdown"
   }
  },
  {
   "cell_type": "code",
   "metadata": {
    "colab_type": "code",
    "id": "clb2Gh8Mn9d4",
    "colab": {},
    "cell_id": "00017-e47320c5-7fb1-4968-9478-59d52b17d12e",
    "deepnote_cell_type": "code"
   },
   "source": "# YOUR CODE HERE",
   "execution_count": null,
   "outputs": []
  },
  {
   "cell_type": "markdown",
   "source": "Create a new dataframe with only people that are above the mean found in the above cell.",
   "metadata": {
    "colab_type": "text",
    "id": "64yWhAARoWw-",
    "cell_id": "00018-3f7c9924-b494-477a-9b5f-024e43e99f5e",
    "deepnote_cell_type": "markdown"
   }
  },
  {
   "cell_type": "code",
   "metadata": {
    "colab_type": "code",
    "id": "HRLjs3agkdPY",
    "colab": {},
    "cell_id": "00019-1fd6048f-e68f-4fef-8047-0126b504d41a",
    "deepnote_cell_type": "code"
   },
   "source": "# YOUR CODE HERE",
   "execution_count": null,
   "outputs": []
  },
  {
   "cell_type": "markdown",
   "source": "Create a new dataframe that only includes people who are above the average value for each column in the dataset. In other words, find the average value for each column, and then find which users have values above all of these average column values.",
   "metadata": {
    "colab_type": "text",
    "id": "RxGIQp0JrUnq",
    "cell_id": "00020-2f032643-a957-45f7-a683-25fac0265418",
    "deepnote_cell_type": "markdown"
   }
  },
  {
   "cell_type": "code",
   "metadata": {
    "colab_type": "code",
    "id": "Ylf4p6NNrfME",
    "colab": {},
    "cell_id": "00021-f099f5da-91d1-4222-865d-7c509b982410",
    "deepnote_cell_type": "code"
   },
   "source": "# YOUR CODE HERE",
   "execution_count": null,
   "outputs": []
  },
  {
   "cell_type": "markdown",
   "source": "*Note: the next 3 problems were not explicitly shown in our tutorial—being able to effectively google and look through documentation is a very important coding tool!* ¯\\\\\\_(ツ)_/¯",
   "metadata": {
    "id": "Cy_6ce7_8qAB",
    "colab_type": "text",
    "cell_id": "00022-f7c4f626-a1af-4e5d-b8ee-584ce9314120",
    "deepnote_cell_type": "markdown"
   }
  },
  {
   "cell_type": "markdown",
   "source": "Ignoring the index (resetting the index to 0) and using the dataframe from the cell above, sort the values based on `\"skin\"`, `\"test\"`, and `\"pedi\"` values in ascending order. Please write this in one line.",
   "metadata": {
    "colab_type": "text",
    "id": "24pCgP2xbCwZ",
    "cell_id": "00023-8cb0b93d-a5af-4735-82c3-a4eaa5ce16ba",
    "deepnote_cell_type": "markdown"
   }
  },
  {
   "cell_type": "code",
   "metadata": {
    "colab_type": "code",
    "id": "wXZysbVwa7i5",
    "colab": {},
    "cell_id": "00024-fd582ee9-3496-455b-8174-107ad92b6453",
    "deepnote_cell_type": "code"
   },
   "source": "# YOUR CODE HERE",
   "execution_count": null,
   "outputs": []
  },
  {
   "cell_type": "markdown",
   "source": "Now let's find the 4 largest values for `\"age\"`",
   "metadata": {
    "colab_type": "text",
    "id": "BIJkXsK4ch-u",
    "cell_id": "00025-5b950cb5-184f-4aab-a263-e191c1948a6f",
    "deepnote_cell_type": "markdown"
   }
  },
  {
   "cell_type": "code",
   "metadata": {
    "colab_type": "code",
    "id": "kSl28jLLdAF9",
    "colab": {},
    "cell_id": "00026-0286dd19-0c3f-477c-8df9-557d4c392903",
    "deepnote_cell_type": "code"
   },
   "source": "# YOUR CODE HERE",
   "execution_count": null,
   "outputs": []
  },
  {
   "cell_type": "markdown",
   "source": "Now find the smallest 4 values for `\"pedi\"` and `\"plas\"` in reverse order (smallest to largest).",
   "metadata": {
    "colab_type": "text",
    "id": "fJRwe8UfqvNG",
    "cell_id": "00027-d5ff1a76-53c8-426a-b183-c65697b124ba",
    "deepnote_cell_type": "markdown"
   }
  },
  {
   "cell_type": "code",
   "metadata": {
    "colab_type": "code",
    "id": "icQcbPg1quNI",
    "colab": {},
    "cell_id": "00028-ad30ca41-8fe2-4130-9452-70e34c0f75aa",
    "deepnote_cell_type": "code"
   },
   "source": "# YOUR CODE HERE",
   "execution_count": null,
   "outputs": []
  },
  {
   "cell_type": "markdown",
   "source": "<a style='text-decoration:none;line-height:16px;display:flex;color:#5B5B62;padding:10px;justify-content:end;' href='https://deepnote.com?utm_source=created-in-deepnote-cell&projectId=d235bfc1-2e47-4a5a-86ef-83055dd711b9' target=\"_blank\">\n<img alt='Created in deepnote.com' style='display:inline;max-height:16px;margin:0px;margin-right:7.5px;' src='data:image/svg+xml;base64,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' > </img>\nCreated in <span style='font-weight:600;margin-left:4px;'>Deepnote</span></a>",
   "metadata": {
    "tags": [],
    "created_in_deepnote_cell": true,
    "deepnote_cell_type": "markdown"
   }
  }
 ],
 "nbformat": 4,
 "nbformat_minor": 0,
 "metadata": {
  "colab": {
   "name": "Pandas_Exercises",
   "provenance": [],
   "collapsed_sections": []
  },
  "kernelspec": {
   "display_name": "Python 3",
   "language": "python",
   "name": "python3"
  },
  "language_info": {
   "codemirror_mode": {
    "name": "ipython",
    "version": 3
   },
   "file_extension": ".py",
   "mimetype": "text/x-python",
   "name": "python",
   "nbconvert_exporter": "python",
   "pygments_lexer": "ipython3",
   "version": "3.7.3"
  },
  "deepnote_notebook_id": "5d370fe6-c06c-409c-907a-efdafcb26d05",
  "deepnote": {},
  "deepnote_execution_queue": []
 }
}
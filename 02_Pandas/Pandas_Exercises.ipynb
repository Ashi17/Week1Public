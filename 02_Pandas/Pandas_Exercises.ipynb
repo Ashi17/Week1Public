{
 "cells": [
  {
   "cell_type": "markdown",
   "source": "# Pandas Exercises",
   "metadata": {
    "colab_type": "text",
    "id": "bSU6eKZTdMXZ",
    "cell_id": "00000-eac9ac73-f8ec-4963-9d74-79232f63247c",
    "deepnote_cell_type": "markdown"
   }
  },
  {
   "cell_type": "code",
   "metadata": {
    "colab_type": "code",
    "id": "c5ewTg7vdQFm",
    "colab": {},
    "cell_id": "00001-202d2b1d-589d-408d-b1dd-abe05a100842",
    "deepnote_cell_type": "code"
   },
   "source": "import pandas as pd\n\nurl = \"https://raw.githubusercontent.com/BeaverWorksMedlytics2020/Data_Public/master/NotebookExampleData/Week1/diabetes.csv\"\nnames = ['preg', 'plas', 'pres', 'skin', 'test', 'mass', 'pedi', 'age', 'class']",
   "execution_count": null,
   "outputs": []
  },
  {
   "cell_type": "markdown",
   "source": "Read in csv above to a pandas dataframe",
   "metadata": {
    "colab_type": "text",
    "id": "QOLgFaSKeShR",
    "cell_id": "00002-afbbc7e5-ab7a-4263-8bcc-26ae331881fe",
    "deepnote_cell_type": "markdown"
   }
  },
  {
   "cell_type": "code",
   "metadata": {
    "colab_type": "code",
    "id": "Okcb8dnXeX2C",
    "colab": {},
    "cell_id": "00003-77b97c7a-0fe9-43fa-b30a-2194487d8662",
    "deepnote_cell_type": "code"
   },
   "source": "# YOUR CODE HERE",
   "execution_count": null,
   "outputs": []
  },
  {
   "cell_type": "markdown",
   "source": "Print out the age and class of the 100th patient",
   "metadata": {
    "colab_type": "text",
    "id": "d4DyOsuoewE2",
    "cell_id": "00004-aa5bae90-14e7-4111-bc79-b9e505940d7a",
    "deepnote_cell_type": "markdown"
   }
  },
  {
   "cell_type": "code",
   "metadata": {
    "colab_type": "code",
    "id": "xZqBsg39eY8_",
    "colab": {},
    "cell_id": "00005-c55c5f2d-9540-412d-821a-68630880a272",
    "deepnote_cell_type": "code"
   },
   "source": "# YOUR CODE HERE",
   "execution_count": null,
   "outputs": []
  },
  {
   "cell_type": "markdown",
   "source": "Write code to figure out how many people are classified as not having diabetes, class is 0",
   "metadata": {
    "colab_type": "text",
    "id": "j8L2EM-5iOWc",
    "cell_id": "00006-73d7f743-9892-4092-951e-99bf8be1de95",
    "deepnote_cell_type": "markdown"
   }
  },
  {
   "cell_type": "code",
   "metadata": {
    "colab_type": "code",
    "id": "vohzS51WiWvD",
    "colab": {},
    "cell_id": "00007-e392fa98-9f6a-4c5e-8d54-43c91b2695a6",
    "deepnote_cell_type": "code"
   },
   "source": "# YOUR CODE HERE",
   "execution_count": null,
   "outputs": []
  },
  {
   "cell_type": "markdown",
   "source": "Write code to figure out how many people are classified as having diabetes, class is 1",
   "metadata": {
    "colab_type": "text",
    "id": "ieGRz4iiiX4E",
    "cell_id": "00008-54ae4f50-bcc9-4c6f-9181-941f612ac245",
    "deepnote_cell_type": "markdown"
   }
  },
  {
   "cell_type": "code",
   "metadata": {
    "colab_type": "code",
    "id": "-jq2O-vriXRT",
    "colab": {},
    "cell_id": "00009-7009667c-8b7e-48f6-a5eb-abf9ce3cf683",
    "deepnote_cell_type": "code"
   },
   "source": "# YOUR CODE HERE",
   "execution_count": null,
   "outputs": []
  },
  {
   "cell_type": "markdown",
   "source": "What percent of people have diabetes in the study",
   "metadata": {
    "colab_type": "text",
    "id": "oeFT7T9OnuSd",
    "cell_id": "00010-044e95aa-4421-4be8-b40a-ae49cb1358e7",
    "deepnote_cell_type": "markdown"
   }
  },
  {
   "cell_type": "code",
   "metadata": {
    "colab_type": "code",
    "id": "zGGHptFYnwq0",
    "colab": {},
    "cell_id": "00011-a45af9ac-e25c-4d9b-9ef8-22ecd9fc555d",
    "deepnote_cell_type": "code"
   },
   "source": "# YOUR CODE HERE",
   "execution_count": null,
   "outputs": []
  },
  {
   "cell_type": "markdown",
   "source": "Print out the `\"pres\"` and `\"class\"` (no other columns) for the first 5 people",
   "metadata": {
    "colab_type": "text",
    "id": "nbrjnRPafs0p",
    "cell_id": "00012-a1190261-10e6-4879-ac8d-2c439bdcc633",
    "deepnote_cell_type": "markdown"
   }
  },
  {
   "cell_type": "code",
   "metadata": {
    "colab_type": "code",
    "id": "GiNCJ19KfHJQ",
    "colab": {},
    "cell_id": "00013-3c7955c1-3939-4cf2-8ff6-a10e8f8a9f30",
    "deepnote_cell_type": "code"
   },
   "source": "# YOUR CODE HERE",
   "execution_count": null,
   "outputs": []
  },
  {
   "cell_type": "markdown",
   "source": "Run the cell below, it will print out the correlation among the columns",
   "metadata": {
    "colab_type": "text",
    "id": "O-CcsoqlhxUn",
    "cell_id": "00014-ae3f15b1-50a0-4aa1-b2be-6ba0226d3ca0",
    "deepnote_cell_type": "markdown"
   }
  },
  {
   "cell_type": "code",
   "metadata": {
    "colab_type": "code",
    "id": "pXpVFt6MffQt",
    "colab": {},
    "cell_id": "00015-d504b76c-9577-46b2-877a-b270dbd658d5",
    "deepnote_cell_type": "code"
   },
   "source": "data.corr()",
   "execution_count": null,
   "outputs": []
  },
  {
   "cell_type": "markdown",
   "source": "What column has the highest correlation with class? Find the mean() value of that column",
   "metadata": {
    "colab_type": "text",
    "id": "P_7xRF11h4Uf",
    "cell_id": "00016-aaf8d6a0-62b6-4a0b-b6f2-9be063bb7f2d",
    "deepnote_cell_type": "markdown"
   }
  },
  {
   "cell_type": "code",
   "metadata": {
    "colab_type": "code",
    "id": "clb2Gh8Mn9d4",
    "colab": {},
    "cell_id": "00017-7b2396cd-5797-45e2-9ab9-883793ef199e",
    "deepnote_cell_type": "code"
   },
   "source": "# YOUR CODE HERE",
   "execution_count": null,
   "outputs": []
  },
  {
   "cell_type": "markdown",
   "source": "Create a new dataframe with only people that are above the mean found in the above cell.",
   "metadata": {
    "colab_type": "text",
    "id": "64yWhAARoWw-",
    "cell_id": "00018-16ae9cbf-c950-4b04-aa4a-f05adbc710df",
    "deepnote_cell_type": "markdown"
   }
  },
  {
   "cell_type": "code",
   "metadata": {
    "colab_type": "code",
    "id": "HRLjs3agkdPY",
    "colab": {},
    "cell_id": "00019-32e49baf-539e-48dc-a881-76c7bace8b91",
    "deepnote_cell_type": "code"
   },
   "source": "# YOUR CODE HERE",
   "execution_count": null,
   "outputs": []
  },
  {
   "cell_type": "markdown",
   "source": "Create a new dataframe that only includes people who are above the average value for each column in the dataset. In other words, find the average value for each column, and then find which users have values above all of these average column values.",
   "metadata": {
    "colab_type": "text",
    "id": "RxGIQp0JrUnq",
    "cell_id": "00020-2dbd885c-fed0-4526-9e21-50265990ca37",
    "deepnote_cell_type": "markdown"
   }
  },
  {
   "cell_type": "code",
   "metadata": {
    "colab_type": "code",
    "id": "Ylf4p6NNrfME",
    "colab": {},
    "cell_id": "00021-fb4b1f78-b751-4d14-85aa-b9fbc7853f36",
    "deepnote_cell_type": "code"
   },
   "source": "# YOUR CODE HERE",
   "execution_count": null,
   "outputs": []
  },
  {
   "cell_type": "markdown",
   "source": "*Note: the next 3 problems were not explicitly shown in our tutorial—being able to effectively google and look through documentation is a very important coding tool!* ¯\\\\\\_(ツ)_/¯",
   "metadata": {
    "id": "Cy_6ce7_8qAB",
    "colab_type": "text",
    "cell_id": "00022-68df8eff-2f8d-4da0-ba5b-dc42b80ef480",
    "deepnote_cell_type": "markdown"
   }
  },
  {
   "cell_type": "markdown",
   "source": "Ignoring the index (resetting the index to 0) and using the dataframe from the cell above, sort the values based on `\"skin\"`, `\"test\"`, and `\"pedi\"` values in ascending order. Please write this in one line.",
   "metadata": {
    "colab_type": "text",
    "id": "24pCgP2xbCwZ",
    "cell_id": "00023-797e3831-3103-4857-8ab2-934e23b9a333",
    "deepnote_cell_type": "markdown"
   }
  },
  {
   "cell_type": "code",
   "metadata": {
    "colab_type": "code",
    "id": "wXZysbVwa7i5",
    "colab": {},
    "cell_id": "00024-1dd772d1-45c2-4db3-acdf-e607331cd84d",
    "deepnote_cell_type": "code"
   },
   "source": "# YOUR CODE HERE",
   "execution_count": null,
   "outputs": []
  },
  {
   "cell_type": "markdown",
   "source": "Now let's find the 4 largest values for `\"age\"`",
   "metadata": {
    "colab_type": "text",
    "id": "BIJkXsK4ch-u",
    "cell_id": "00025-2da6911a-4123-48fc-89a4-8777875ba678",
    "deepnote_cell_type": "markdown"
   }
  },
  {
   "cell_type": "code",
   "metadata": {
    "colab_type": "code",
    "id": "kSl28jLLdAF9",
    "colab": {},
    "cell_id": "00026-30c6e874-9e7f-4418-8208-ca805b03d33c",
    "deepnote_cell_type": "code"
   },
   "source": "# YOUR CODE HERE",
   "execution_count": null,
   "outputs": []
  },
  {
   "cell_type": "markdown",
   "source": "Now find the smallest 4 values for `\"pedi\"` and `\"plas\"` in reverse order (smallest to largest).",
   "metadata": {
    "colab_type": "text",
    "id": "fJRwe8UfqvNG",
    "cell_id": "00027-2ff9d631-6080-4718-a473-0c4be477ebd1",
    "deepnote_cell_type": "markdown"
   }
  },
  {
   "cell_type": "code",
   "metadata": {
    "colab_type": "code",
    "id": "icQcbPg1quNI",
    "colab": {},
    "cell_id": "00028-599a99ea-db51-440f-8e83-0fe1c16bd0b6",
    "deepnote_cell_type": "code"
   },
   "source": "# YOUR CODE HERE",
   "execution_count": null,
   "outputs": []
  },
  {
   "cell_type": "markdown",
   "source": "<a style='text-decoration:none;line-height:16px;display:flex;color:#5B5B62;padding:10px;justify-content:end;' href='https://deepnote.com?utm_source=created-in-deepnote-cell&projectId=e71e3a12-278c-4154-a9b5-808fb187ad5f' target=\"_blank\">\n<img alt='Created in deepnote.com' style='display:inline;max-height:16px;margin:0px;margin-right:7.5px;' src='data:image/svg+xml;base64,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' > </img>\nCreated in <span style='font-weight:600;margin-left:4px;'>Deepnote</span></a>",
   "metadata": {
    "tags": [],
    "created_in_deepnote_cell": true,
    "deepnote_cell_type": "markdown"
   }
  }
 ],
 "nbformat": 4,
 "nbformat_minor": 0,
 "metadata": {
  "colab": {
   "name": "Pandas_Exercises",
   "provenance": [],
   "collapsed_sections": []
  },
  "kernelspec": {
   "display_name": "Python 3",
   "language": "python",
   "name": "python3"
  },
  "language_info": {
   "codemirror_mode": {
    "name": "ipython",
    "version": 3
   },
   "file_extension": ".py",
   "mimetype": "text/x-python",
   "name": "python",
   "nbconvert_exporter": "python",
   "pygments_lexer": "ipython3",
   "version": "3.7.3"
  },
  "deepnote_notebook_id": "f395b3b6-e0a8-412b-8f3f-4ff8d0ef027e",
  "deepnote": {},
  "deepnote_execution_queue": []
 }
}
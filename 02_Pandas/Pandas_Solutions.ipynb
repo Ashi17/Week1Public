{
 "cells": [
  {
   "cell_type": "markdown",
   "source": "# Pandas Solutions",
   "metadata": {
    "colab_type": "text",
    "id": "bSU6eKZTdMXZ",
    "cell_id": "00000-ad4ac32f-4663-4b51-8406-5dd4dc8e69d4",
    "deepnote_cell_type": "markdown"
   }
  },
  {
   "cell_type": "code",
   "metadata": {
    "colab_type": "code",
    "id": "F4btIg8vdSyb",
    "colab": {},
    "cell_id": "00001-896c42d6-b70e-45eb-b153-7c8fd9bbf788",
    "deepnote_cell_type": "code"
   },
   "source": "import pandas as pd\n\nurl = \"https://raw.githubusercontent.com/BeaverWorksMedlytics2020/Data_Public/master/NotebookExampleData/Week1/diabetes.csv\"\nnames = ['preg', 'plas', 'pres', 'skin', 'test', 'mass', 'pedi', 'age', 'class']",
   "outputs": [],
   "execution_count": null
  },
  {
   "cell_type": "markdown",
   "source": "Read in csv above to a pandas dataframe",
   "metadata": {
    "colab_type": "text",
    "id": "QOLgFaSKeShR",
    "cell_id": "00002-ade6c0a4-e9eb-4fd3-b92d-ea6748befb7d",
    "deepnote_cell_type": "markdown"
   }
  },
  {
   "cell_type": "code",
   "metadata": {
    "colab_type": "code",
    "id": "Okcb8dnXeX2C",
    "colab": {
     "base_uri": "https://localhost:8080/",
     "height": 424
    },
    "outputId": "3fa235e4-6b18-432a-f045-73e5c8b3aeef",
    "cell_id": "00003-66780971-fffa-4a1a-860e-97772437a377",
    "deepnote_cell_type": "code"
   },
   "source": "# YOUR CODE HERE\ndata = pd.read_csv(url, names = names)\ndata",
   "outputs": [
    {
     "output_type": "execute_result",
     "data": {
      "text/html": "<div>\n<style scoped>\n    .dataframe tbody tr th:only-of-type {\n        vertical-align: middle;\n    }\n\n    .dataframe tbody tr th {\n        vertical-align: top;\n    }\n\n    .dataframe thead th {\n        text-align: right;\n    }\n</style>\n<table border=\"1\" class=\"dataframe\">\n  <thead>\n    <tr style=\"text-align: right;\">\n      <th></th>\n      <th>preg</th>\n      <th>plas</th>\n      <th>pres</th>\n      <th>skin</th>\n      <th>test</th>\n      <th>mass</th>\n      <th>pedi</th>\n      <th>age</th>\n      <th>class</th>\n    </tr>\n  </thead>\n  <tbody>\n    <tr>\n      <th>0</th>\n      <td>6</td>\n      <td>148</td>\n      <td>72</td>\n      <td>35</td>\n      <td>0</td>\n      <td>33.6</td>\n      <td>0.627</td>\n      <td>50</td>\n      <td>1</td>\n    </tr>\n    <tr>\n      <th>1</th>\n      <td>1</td>\n      <td>85</td>\n      <td>66</td>\n      <td>29</td>\n      <td>0</td>\n      <td>26.6</td>\n      <td>0.351</td>\n      <td>31</td>\n      <td>0</td>\n    </tr>\n    <tr>\n      <th>2</th>\n      <td>8</td>\n      <td>183</td>\n      <td>64</td>\n      <td>0</td>\n      <td>0</td>\n      <td>23.3</td>\n      <td>0.672</td>\n      <td>32</td>\n      <td>1</td>\n    </tr>\n    <tr>\n      <th>3</th>\n      <td>1</td>\n      <td>89</td>\n      <td>66</td>\n      <td>23</td>\n      <td>94</td>\n      <td>28.1</td>\n      <td>0.167</td>\n      <td>21</td>\n      <td>0</td>\n    </tr>\n    <tr>\n      <th>4</th>\n      <td>0</td>\n      <td>137</td>\n      <td>40</td>\n      <td>35</td>\n      <td>168</td>\n      <td>43.1</td>\n      <td>2.288</td>\n      <td>33</td>\n      <td>1</td>\n    </tr>\n    <tr>\n      <th>...</th>\n      <td>...</td>\n      <td>...</td>\n      <td>...</td>\n      <td>...</td>\n      <td>...</td>\n      <td>...</td>\n      <td>...</td>\n      <td>...</td>\n      <td>...</td>\n    </tr>\n    <tr>\n      <th>763</th>\n      <td>10</td>\n      <td>101</td>\n      <td>76</td>\n      <td>48</td>\n      <td>180</td>\n      <td>32.9</td>\n      <td>0.171</td>\n      <td>63</td>\n      <td>0</td>\n    </tr>\n    <tr>\n      <th>764</th>\n      <td>2</td>\n      <td>122</td>\n      <td>70</td>\n      <td>27</td>\n      <td>0</td>\n      <td>36.8</td>\n      <td>0.340</td>\n      <td>27</td>\n      <td>0</td>\n    </tr>\n    <tr>\n      <th>765</th>\n      <td>5</td>\n      <td>121</td>\n      <td>72</td>\n      <td>23</td>\n      <td>112</td>\n      <td>26.2</td>\n      <td>0.245</td>\n      <td>30</td>\n      <td>0</td>\n    </tr>\n    <tr>\n      <th>766</th>\n      <td>1</td>\n      <td>126</td>\n      <td>60</td>\n      <td>0</td>\n      <td>0</td>\n      <td>30.1</td>\n      <td>0.349</td>\n      <td>47</td>\n      <td>1</td>\n    </tr>\n    <tr>\n      <th>767</th>\n      <td>1</td>\n      <td>93</td>\n      <td>70</td>\n      <td>31</td>\n      <td>0</td>\n      <td>30.4</td>\n      <td>0.315</td>\n      <td>23</td>\n      <td>0</td>\n    </tr>\n  </tbody>\n</table>\n<p>768 rows × 9 columns</p>\n</div>",
      "text/plain": "     preg  plas  pres  skin  test  mass   pedi  age  class\n0       6   148    72    35     0  33.6  0.627   50      1\n1       1    85    66    29     0  26.6  0.351   31      0\n2       8   183    64     0     0  23.3  0.672   32      1\n3       1    89    66    23    94  28.1  0.167   21      0\n4       0   137    40    35   168  43.1  2.288   33      1\n..    ...   ...   ...   ...   ...   ...    ...  ...    ...\n763    10   101    76    48   180  32.9  0.171   63      0\n764     2   122    70    27     0  36.8  0.340   27      0\n765     5   121    72    23   112  26.2  0.245   30      0\n766     1   126    60     0     0  30.1  0.349   47      1\n767     1    93    70    31     0  30.4  0.315   23      0\n\n[768 rows x 9 columns]"
     },
     "metadata": {
      "tags": []
     },
     "execution_count": 2
    }
   ],
   "execution_count": null
  },
  {
   "cell_type": "markdown",
   "source": "Print out the age and class of the 100th patient",
   "metadata": {
    "colab_type": "text",
    "id": "d4DyOsuoewE2",
    "cell_id": "00004-c2a4bc0f-b29d-483f-8fc2-01ef5342f1d1",
    "deepnote_cell_type": "markdown"
   }
  },
  {
   "cell_type": "code",
   "metadata": {
    "colab_type": "code",
    "id": "xZqBsg39eY8_",
    "colab": {
     "base_uri": "https://localhost:8080/",
     "height": 72
    },
    "outputId": "42ff531c-61b9-4b78-900d-0ba015376831",
    "cell_id": "00005-3d167a27-1aaa-4828-8119-a235be5c1989",
    "deepnote_cell_type": "code"
   },
   "source": "# YOUR CODE HERE\n# data.iloc[100, 7:9] or\ndata.loc[100, [\"age\", \"class\"]]",
   "outputs": [
    {
     "output_type": "execute_result",
     "data": {
      "text/plain": "age      33.0\nclass     1.0\nName: 100, dtype: float64"
     },
     "metadata": {
      "tags": []
     },
     "execution_count": 3
    }
   ],
   "execution_count": null
  },
  {
   "cell_type": "markdown",
   "source": "Write code to figure out how many people are classified as not having diabetes, class is 0",
   "metadata": {
    "colab_type": "text",
    "id": "j8L2EM-5iOWc",
    "cell_id": "00006-a9efc461-e7e1-4b79-a24a-3cc81bca733a",
    "deepnote_cell_type": "markdown"
   }
  },
  {
   "cell_type": "code",
   "metadata": {
    "colab_type": "code",
    "id": "vohzS51WiWvD",
    "colab": {
     "base_uri": "https://localhost:8080/",
     "height": 35
    },
    "outputId": "055a69f5-9281-4cbf-c007-3f8b18159590",
    "cell_id": "00007-87393324-1c16-4983-a9b8-c929a4077663",
    "deepnote_cell_type": "code"
   },
   "source": "# YOUR CODE HERE\nnegative = len(data[(data[\"class\"] == 0)])\nprint(negative)",
   "outputs": [
    {
     "output_type": "stream",
     "text": "500\n",
     "name": "stdout"
    }
   ],
   "execution_count": null
  },
  {
   "cell_type": "markdown",
   "source": "Write code to figure out how many people are classified as having diabetes, class is 1",
   "metadata": {
    "colab_type": "text",
    "id": "ieGRz4iiiX4E",
    "cell_id": "00008-8f79f5ff-4cb5-420b-a874-fcd6c0e1ba9f",
    "deepnote_cell_type": "markdown"
   }
  },
  {
   "cell_type": "code",
   "metadata": {
    "colab_type": "code",
    "id": "-jq2O-vriXRT",
    "colab": {
     "base_uri": "https://localhost:8080/",
     "height": 35
    },
    "outputId": "ef7f5c66-23bb-45e6-d92b-13e77983ec74",
    "cell_id": "00009-bf123d19-a569-4a86-87ae-719c3a67c0e7",
    "deepnote_cell_type": "code"
   },
   "source": "# YOUR CODE HERE\npositive = len(data[(data[\"class\"] == 1)])\nprint(positive)",
   "outputs": [
    {
     "output_type": "stream",
     "text": "268\n",
     "name": "stdout"
    }
   ],
   "execution_count": null
  },
  {
   "cell_type": "markdown",
   "source": "What percent of people have diabetes in the study",
   "metadata": {
    "colab_type": "text",
    "id": "oeFT7T9OnuSd",
    "cell_id": "00010-30c68119-ff08-493e-97ea-85b18018e742",
    "deepnote_cell_type": "markdown"
   }
  },
  {
   "cell_type": "code",
   "metadata": {
    "colab_type": "code",
    "id": "zGGHptFYnwq0",
    "colab": {
     "base_uri": "https://localhost:8080/",
     "height": 35
    },
    "outputId": "cad61303-7a49-4608-c90e-5c54a626020f",
    "cell_id": "00011-2ba07c4f-861b-4a1e-ade1-fd35e9e63a44",
    "deepnote_cell_type": "code"
   },
   "source": "# YOUR CODE HERE\nper = positive/len(data[\"class\"])\nprint(str(per*100) + \"%\")",
   "outputs": [
    {
     "output_type": "stream",
     "text": "34.89583333333333%\n",
     "name": "stdout"
    }
   ],
   "execution_count": null
  },
  {
   "cell_type": "markdown",
   "source": "Print out the `\"pres\"` and `\"class\"` (no other columns) for the first 5 people",
   "metadata": {
    "colab_type": "text",
    "id": "nbrjnRPafs0p",
    "cell_id": "00012-de194dd4-a41f-4f7e-8ef6-66884fab624c",
    "deepnote_cell_type": "markdown"
   }
  },
  {
   "cell_type": "code",
   "metadata": {
    "colab_type": "code",
    "id": "GiNCJ19KfHJQ",
    "colab": {
     "base_uri": "https://localhost:8080/",
     "height": 206
    },
    "outputId": "68a8d7d5-20f3-4d72-a59d-90a6b377d7cd",
    "cell_id": "00013-27e09e6b-2e8f-4d92-ae8d-a9d1631b282f",
    "deepnote_cell_type": "code"
   },
   "source": "# YOUR CODE HERE\ndata.loc[:4, [\"pres\", \"class\"]]",
   "outputs": [
    {
     "output_type": "execute_result",
     "data": {
      "text/html": "<div>\n<style scoped>\n    .dataframe tbody tr th:only-of-type {\n        vertical-align: middle;\n    }\n\n    .dataframe tbody tr th {\n        vertical-align: top;\n    }\n\n    .dataframe thead th {\n        text-align: right;\n    }\n</style>\n<table border=\"1\" class=\"dataframe\">\n  <thead>\n    <tr style=\"text-align: right;\">\n      <th></th>\n      <th>pres</th>\n      <th>class</th>\n    </tr>\n  </thead>\n  <tbody>\n    <tr>\n      <th>0</th>\n      <td>72</td>\n      <td>1</td>\n    </tr>\n    <tr>\n      <th>1</th>\n      <td>66</td>\n      <td>0</td>\n    </tr>\n    <tr>\n      <th>2</th>\n      <td>64</td>\n      <td>1</td>\n    </tr>\n    <tr>\n      <th>3</th>\n      <td>66</td>\n      <td>0</td>\n    </tr>\n    <tr>\n      <th>4</th>\n      <td>40</td>\n      <td>1</td>\n    </tr>\n  </tbody>\n</table>\n</div>",
      "text/plain": "   pres  class\n0    72      1\n1    66      0\n2    64      1\n3    66      0\n4    40      1"
     },
     "metadata": {
      "tags": []
     },
     "execution_count": 7
    }
   ],
   "execution_count": null
  },
  {
   "cell_type": "markdown",
   "source": "Run the cell below, it will print out the correlation among the columns",
   "metadata": {
    "colab_type": "text",
    "id": "O-CcsoqlhxUn",
    "cell_id": "00014-dd0db01f-1062-432a-beac-5b29b06d11f7",
    "deepnote_cell_type": "markdown"
   }
  },
  {
   "cell_type": "code",
   "metadata": {
    "colab_type": "code",
    "id": "pXpVFt6MffQt",
    "colab": {
     "base_uri": "https://localhost:8080/",
     "height": 331
    },
    "outputId": "52eb11ef-fa83-4061-b65a-669fe9d44cfb",
    "cell_id": "00015-4014c554-7c7e-49a5-b3eb-9ad579400404",
    "deepnote_cell_type": "code"
   },
   "source": "data.corr()",
   "outputs": [
    {
     "output_type": "execute_result",
     "data": {
      "text/html": "<div>\n<style scoped>\n    .dataframe tbody tr th:only-of-type {\n        vertical-align: middle;\n    }\n\n    .dataframe tbody tr th {\n        vertical-align: top;\n    }\n\n    .dataframe thead th {\n        text-align: right;\n    }\n</style>\n<table border=\"1\" class=\"dataframe\">\n  <thead>\n    <tr style=\"text-align: right;\">\n      <th></th>\n      <th>preg</th>\n      <th>plas</th>\n      <th>pres</th>\n      <th>skin</th>\n      <th>test</th>\n      <th>mass</th>\n      <th>pedi</th>\n      <th>age</th>\n      <th>class</th>\n    </tr>\n  </thead>\n  <tbody>\n    <tr>\n      <th>preg</th>\n      <td>1.000000</td>\n      <td>0.129459</td>\n      <td>0.141282</td>\n      <td>-0.081672</td>\n      <td>-0.073535</td>\n      <td>0.017683</td>\n      <td>-0.033523</td>\n      <td>0.544341</td>\n      <td>0.221898</td>\n    </tr>\n    <tr>\n      <th>plas</th>\n      <td>0.129459</td>\n      <td>1.000000</td>\n      <td>0.152590</td>\n      <td>0.057328</td>\n      <td>0.331357</td>\n      <td>0.221071</td>\n      <td>0.137337</td>\n      <td>0.263514</td>\n      <td>0.466581</td>\n    </tr>\n    <tr>\n      <th>pres</th>\n      <td>0.141282</td>\n      <td>0.152590</td>\n      <td>1.000000</td>\n      <td>0.207371</td>\n      <td>0.088933</td>\n      <td>0.281805</td>\n      <td>0.041265</td>\n      <td>0.239528</td>\n      <td>0.065068</td>\n    </tr>\n    <tr>\n      <th>skin</th>\n      <td>-0.081672</td>\n      <td>0.057328</td>\n      <td>0.207371</td>\n      <td>1.000000</td>\n      <td>0.436783</td>\n      <td>0.392573</td>\n      <td>0.183928</td>\n      <td>-0.113970</td>\n      <td>0.074752</td>\n    </tr>\n    <tr>\n      <th>test</th>\n      <td>-0.073535</td>\n      <td>0.331357</td>\n      <td>0.088933</td>\n      <td>0.436783</td>\n      <td>1.000000</td>\n      <td>0.197859</td>\n      <td>0.185071</td>\n      <td>-0.042163</td>\n      <td>0.130548</td>\n    </tr>\n    <tr>\n      <th>mass</th>\n      <td>0.017683</td>\n      <td>0.221071</td>\n      <td>0.281805</td>\n      <td>0.392573</td>\n      <td>0.197859</td>\n      <td>1.000000</td>\n      <td>0.140647</td>\n      <td>0.036242</td>\n      <td>0.292695</td>\n    </tr>\n    <tr>\n      <th>pedi</th>\n      <td>-0.033523</td>\n      <td>0.137337</td>\n      <td>0.041265</td>\n      <td>0.183928</td>\n      <td>0.185071</td>\n      <td>0.140647</td>\n      <td>1.000000</td>\n      <td>0.033561</td>\n      <td>0.173844</td>\n    </tr>\n    <tr>\n      <th>age</th>\n      <td>0.544341</td>\n      <td>0.263514</td>\n      <td>0.239528</td>\n      <td>-0.113970</td>\n      <td>-0.042163</td>\n      <td>0.036242</td>\n      <td>0.033561</td>\n      <td>1.000000</td>\n      <td>0.238356</td>\n    </tr>\n    <tr>\n      <th>class</th>\n      <td>0.221898</td>\n      <td>0.466581</td>\n      <td>0.065068</td>\n      <td>0.074752</td>\n      <td>0.130548</td>\n      <td>0.292695</td>\n      <td>0.173844</td>\n      <td>0.238356</td>\n      <td>1.000000</td>\n    </tr>\n  </tbody>\n</table>\n</div>",
      "text/plain": "           preg      plas      pres  ...      pedi       age     class\npreg   1.000000  0.129459  0.141282  ... -0.033523  0.544341  0.221898\nplas   0.129459  1.000000  0.152590  ...  0.137337  0.263514  0.466581\npres   0.141282  0.152590  1.000000  ...  0.041265  0.239528  0.065068\nskin  -0.081672  0.057328  0.207371  ...  0.183928 -0.113970  0.074752\ntest  -0.073535  0.331357  0.088933  ...  0.185071 -0.042163  0.130548\nmass   0.017683  0.221071  0.281805  ...  0.140647  0.036242  0.292695\npedi  -0.033523  0.137337  0.041265  ...  1.000000  0.033561  0.173844\nage    0.544341  0.263514  0.239528  ...  0.033561  1.000000  0.238356\nclass  0.221898  0.466581  0.065068  ...  0.173844  0.238356  1.000000\n\n[9 rows x 9 columns]"
     },
     "metadata": {
      "tags": []
     },
     "execution_count": 8
    }
   ],
   "execution_count": null
  },
  {
   "cell_type": "markdown",
   "source": "What column has the highest correlation with class? Find the mean() value of that column",
   "metadata": {
    "colab_type": "text",
    "id": "P_7xRF11h4Uf",
    "cell_id": "00016-05e78e23-7504-4194-a736-74f098fcba2f",
    "deepnote_cell_type": "markdown"
   }
  },
  {
   "cell_type": "code",
   "metadata": {
    "colab_type": "code",
    "id": "clb2Gh8Mn9d4",
    "colab": {
     "base_uri": "https://localhost:8080/",
     "height": 53
    },
    "outputId": "27add4bf-5e5d-4fd3-f3f4-967f48fc4536",
    "cell_id": "00017-241a59a6-cb5f-4081-a892-80bd9c0ad0ea",
    "deepnote_cell_type": "code"
   },
   "source": "# YOUR CODE HERE\nhighest_corr = sorted(data.corr().loc[\"class\"])[-2] # Note: you don't want to count the 1.0 since that's just class' correlation with itself\nprint(highest_corr)\n\nplas_mean = data.describe().iloc[1,1]\nprint(plas_mean)",
   "outputs": [
    {
     "output_type": "stream",
     "text": "0.4665813983068757\n120.89453125\n",
     "name": "stdout"
    }
   ],
   "execution_count": null
  },
  {
   "cell_type": "markdown",
   "source": "Create a new dataframe with only people that are above the mean found in the above cell",
   "metadata": {
    "colab_type": "text",
    "id": "64yWhAARoWw-",
    "cell_id": "00018-5f1c3a46-a452-437e-ac71-8afe9d4278b3",
    "deepnote_cell_type": "markdown"
   }
  },
  {
   "cell_type": "code",
   "metadata": {
    "id": "PCE9J7ozRVm-",
    "colab_type": "code",
    "colab": {
     "base_uri": "https://localhost:8080/",
     "height": 424
    },
    "outputId": "08bb118e-9937-4883-9e95-d1884f93fc87",
    "cell_id": "00019-da580440-8cd5-42b5-a832-f5860aae3903",
    "deepnote_cell_type": "code"
   },
   "source": "# YOUR CODE HERE\nplas_bool = data[\"plas\"] > plas_mean\nabove_plas_mean = data[plas_bool].dropna()\nabove_plas_mean",
   "outputs": [
    {
     "output_type": "execute_result",
     "data": {
      "text/html": "<div>\n<style scoped>\n    .dataframe tbody tr th:only-of-type {\n        vertical-align: middle;\n    }\n\n    .dataframe tbody tr th {\n        vertical-align: top;\n    }\n\n    .dataframe thead th {\n        text-align: right;\n    }\n</style>\n<table border=\"1\" class=\"dataframe\">\n  <thead>\n    <tr style=\"text-align: right;\">\n      <th></th>\n      <th>preg</th>\n      <th>plas</th>\n      <th>pres</th>\n      <th>skin</th>\n      <th>test</th>\n      <th>mass</th>\n      <th>pedi</th>\n      <th>age</th>\n      <th>class</th>\n    </tr>\n  </thead>\n  <tbody>\n    <tr>\n      <th>0</th>\n      <td>6</td>\n      <td>148</td>\n      <td>72</td>\n      <td>35</td>\n      <td>0</td>\n      <td>33.6</td>\n      <td>0.627</td>\n      <td>50</td>\n      <td>1</td>\n    </tr>\n    <tr>\n      <th>2</th>\n      <td>8</td>\n      <td>183</td>\n      <td>64</td>\n      <td>0</td>\n      <td>0</td>\n      <td>23.3</td>\n      <td>0.672</td>\n      <td>32</td>\n      <td>1</td>\n    </tr>\n    <tr>\n      <th>4</th>\n      <td>0</td>\n      <td>137</td>\n      <td>40</td>\n      <td>35</td>\n      <td>168</td>\n      <td>43.1</td>\n      <td>2.288</td>\n      <td>33</td>\n      <td>1</td>\n    </tr>\n    <tr>\n      <th>8</th>\n      <td>2</td>\n      <td>197</td>\n      <td>70</td>\n      <td>45</td>\n      <td>543</td>\n      <td>30.5</td>\n      <td>0.158</td>\n      <td>53</td>\n      <td>1</td>\n    </tr>\n    <tr>\n      <th>9</th>\n      <td>8</td>\n      <td>125</td>\n      <td>96</td>\n      <td>0</td>\n      <td>0</td>\n      <td>0.0</td>\n      <td>0.232</td>\n      <td>54</td>\n      <td>1</td>\n    </tr>\n    <tr>\n      <th>...</th>\n      <td>...</td>\n      <td>...</td>\n      <td>...</td>\n      <td>...</td>\n      <td>...</td>\n      <td>...</td>\n      <td>...</td>\n      <td>...</td>\n      <td>...</td>\n    </tr>\n    <tr>\n      <th>759</th>\n      <td>6</td>\n      <td>190</td>\n      <td>92</td>\n      <td>0</td>\n      <td>0</td>\n      <td>35.5</td>\n      <td>0.278</td>\n      <td>66</td>\n      <td>1</td>\n    </tr>\n    <tr>\n      <th>761</th>\n      <td>9</td>\n      <td>170</td>\n      <td>74</td>\n      <td>31</td>\n      <td>0</td>\n      <td>44.0</td>\n      <td>0.403</td>\n      <td>43</td>\n      <td>1</td>\n    </tr>\n    <tr>\n      <th>764</th>\n      <td>2</td>\n      <td>122</td>\n      <td>70</td>\n      <td>27</td>\n      <td>0</td>\n      <td>36.8</td>\n      <td>0.340</td>\n      <td>27</td>\n      <td>0</td>\n    </tr>\n    <tr>\n      <th>765</th>\n      <td>5</td>\n      <td>121</td>\n      <td>72</td>\n      <td>23</td>\n      <td>112</td>\n      <td>26.2</td>\n      <td>0.245</td>\n      <td>30</td>\n      <td>0</td>\n    </tr>\n    <tr>\n      <th>766</th>\n      <td>1</td>\n      <td>126</td>\n      <td>60</td>\n      <td>0</td>\n      <td>0</td>\n      <td>30.1</td>\n      <td>0.349</td>\n      <td>47</td>\n      <td>1</td>\n    </tr>\n  </tbody>\n</table>\n<p>349 rows × 9 columns</p>\n</div>",
      "text/plain": "     preg  plas  pres  skin  test  mass   pedi  age  class\n0       6   148    72    35     0  33.6  0.627   50      1\n2       8   183    64     0     0  23.3  0.672   32      1\n4       0   137    40    35   168  43.1  2.288   33      1\n8       2   197    70    45   543  30.5  0.158   53      1\n9       8   125    96     0     0   0.0  0.232   54      1\n..    ...   ...   ...   ...   ...   ...    ...  ...    ...\n759     6   190    92     0     0  35.5  0.278   66      1\n761     9   170    74    31     0  44.0  0.403   43      1\n764     2   122    70    27     0  36.8  0.340   27      0\n765     5   121    72    23   112  26.2  0.245   30      0\n766     1   126    60     0     0  30.1  0.349   47      1\n\n[349 rows x 9 columns]"
     },
     "metadata": {
      "tags": []
     },
     "execution_count": 10
    }
   ],
   "execution_count": null
  },
  {
   "cell_type": "markdown",
   "source": "Create a new dataframe that only includes people who are above the average value for each column in the dataset. In other words, find the average value for each column, and then find which users have values above all of these average column values.",
   "metadata": {
    "colab_type": "text",
    "id": "RxGIQp0JrUnq",
    "cell_id": "00020-cd6e55a8-d23f-4fff-a71a-cff58aae4ef9",
    "deepnote_cell_type": "markdown"
   }
  },
  {
   "cell_type": "code",
   "metadata": {
    "colab_type": "code",
    "id": "Ylf4p6NNrfME",
    "colab": {
     "base_uri": "https://localhost:8080/",
     "height": 551
    },
    "outputId": "de15b564-b505-440c-d5c0-c2df6153f326",
    "cell_id": "00021-e5a21bdd-dfae-4578-b93f-5237c01c0e9a",
    "deepnote_cell_type": "code"
   },
   "source": "# YOUR CODE HERE\nmeans = data.describe().iloc[1,:9]\nmeans_bool = data > means\nfiltered = data[means_bool].dropna()\nfiltered",
   "outputs": [
    {
     "output_type": "execute_result",
     "data": {
      "text/html": "<div>\n<style scoped>\n    .dataframe tbody tr th:only-of-type {\n        vertical-align: middle;\n    }\n\n    .dataframe tbody tr th {\n        vertical-align: top;\n    }\n\n    .dataframe thead th {\n        text-align: right;\n    }\n</style>\n<table border=\"1\" class=\"dataframe\">\n  <thead>\n    <tr style=\"text-align: right;\">\n      <th></th>\n      <th>preg</th>\n      <th>plas</th>\n      <th>pres</th>\n      <th>skin</th>\n      <th>test</th>\n      <th>mass</th>\n      <th>pedi</th>\n      <th>age</th>\n      <th>class</th>\n    </tr>\n  </thead>\n  <tbody>\n    <tr>\n      <th>43</th>\n      <td>9.0</td>\n      <td>171.0</td>\n      <td>110.0</td>\n      <td>24.0</td>\n      <td>240.0</td>\n      <td>45.4</td>\n      <td>0.721</td>\n      <td>54.0</td>\n      <td>1.0</td>\n    </tr>\n    <tr>\n      <th>152</th>\n      <td>9.0</td>\n      <td>156.0</td>\n      <td>86.0</td>\n      <td>28.0</td>\n      <td>155.0</td>\n      <td>34.3</td>\n      <td>1.189</td>\n      <td>42.0</td>\n      <td>1.0</td>\n    </tr>\n    <tr>\n      <th>159</th>\n      <td>17.0</td>\n      <td>163.0</td>\n      <td>72.0</td>\n      <td>41.0</td>\n      <td>114.0</td>\n      <td>40.9</td>\n      <td>0.817</td>\n      <td>47.0</td>\n      <td>1.0</td>\n    </tr>\n    <tr>\n      <th>175</th>\n      <td>8.0</td>\n      <td>179.0</td>\n      <td>72.0</td>\n      <td>42.0</td>\n      <td>130.0</td>\n      <td>32.7</td>\n      <td>0.719</td>\n      <td>36.0</td>\n      <td>1.0</td>\n    </tr>\n    <tr>\n      <th>206</th>\n      <td>8.0</td>\n      <td>196.0</td>\n      <td>76.0</td>\n      <td>29.0</td>\n      <td>280.0</td>\n      <td>37.5</td>\n      <td>0.605</td>\n      <td>57.0</td>\n      <td>1.0</td>\n    </tr>\n    <tr>\n      <th>215</th>\n      <td>12.0</td>\n      <td>151.0</td>\n      <td>70.0</td>\n      <td>40.0</td>\n      <td>271.0</td>\n      <td>41.8</td>\n      <td>0.742</td>\n      <td>38.0</td>\n      <td>1.0</td>\n    </tr>\n    <tr>\n      <th>236</th>\n      <td>7.0</td>\n      <td>181.0</td>\n      <td>84.0</td>\n      <td>21.0</td>\n      <td>192.0</td>\n      <td>35.9</td>\n      <td>0.586</td>\n      <td>51.0</td>\n      <td>1.0</td>\n    </tr>\n    <tr>\n      <th>259</th>\n      <td>11.0</td>\n      <td>155.0</td>\n      <td>76.0</td>\n      <td>28.0</td>\n      <td>150.0</td>\n      <td>33.3</td>\n      <td>1.353</td>\n      <td>51.0</td>\n      <td>1.0</td>\n    </tr>\n    <tr>\n      <th>375</th>\n      <td>12.0</td>\n      <td>140.0</td>\n      <td>82.0</td>\n      <td>43.0</td>\n      <td>325.0</td>\n      <td>39.2</td>\n      <td>0.528</td>\n      <td>58.0</td>\n      <td>1.0</td>\n    </tr>\n    <tr>\n      <th>424</th>\n      <td>8.0</td>\n      <td>151.0</td>\n      <td>78.0</td>\n      <td>32.0</td>\n      <td>210.0</td>\n      <td>42.9</td>\n      <td>0.516</td>\n      <td>36.0</td>\n      <td>1.0</td>\n    </tr>\n    <tr>\n      <th>458</th>\n      <td>10.0</td>\n      <td>148.0</td>\n      <td>84.0</td>\n      <td>48.0</td>\n      <td>237.0</td>\n      <td>37.6</td>\n      <td>1.001</td>\n      <td>51.0</td>\n      <td>1.0</td>\n    </tr>\n    <tr>\n      <th>546</th>\n      <td>5.0</td>\n      <td>187.0</td>\n      <td>76.0</td>\n      <td>27.0</td>\n      <td>207.0</td>\n      <td>43.6</td>\n      <td>1.034</td>\n      <td>53.0</td>\n      <td>1.0</td>\n    </tr>\n    <tr>\n      <th>603</th>\n      <td>7.0</td>\n      <td>150.0</td>\n      <td>78.0</td>\n      <td>29.0</td>\n      <td>126.0</td>\n      <td>35.2</td>\n      <td>0.692</td>\n      <td>54.0</td>\n      <td>1.0</td>\n    </tr>\n    <tr>\n      <th>612</th>\n      <td>7.0</td>\n      <td>168.0</td>\n      <td>88.0</td>\n      <td>42.0</td>\n      <td>321.0</td>\n      <td>38.2</td>\n      <td>0.787</td>\n      <td>40.0</td>\n      <td>1.0</td>\n    </tr>\n    <tr>\n      <th>614</th>\n      <td>11.0</td>\n      <td>138.0</td>\n      <td>74.0</td>\n      <td>26.0</td>\n      <td>144.0</td>\n      <td>36.1</td>\n      <td>0.557</td>\n      <td>50.0</td>\n      <td>1.0</td>\n    </tr>\n    <tr>\n      <th>663</th>\n      <td>9.0</td>\n      <td>145.0</td>\n      <td>80.0</td>\n      <td>46.0</td>\n      <td>130.0</td>\n      <td>37.9</td>\n      <td>0.637</td>\n      <td>40.0</td>\n      <td>1.0</td>\n    </tr>\n  </tbody>\n</table>\n</div>",
      "text/plain": "     preg   plas   pres  skin   test  mass   pedi   age  class\n43    9.0  171.0  110.0  24.0  240.0  45.4  0.721  54.0    1.0\n152   9.0  156.0   86.0  28.0  155.0  34.3  1.189  42.0    1.0\n159  17.0  163.0   72.0  41.0  114.0  40.9  0.817  47.0    1.0\n175   8.0  179.0   72.0  42.0  130.0  32.7  0.719  36.0    1.0\n206   8.0  196.0   76.0  29.0  280.0  37.5  0.605  57.0    1.0\n215  12.0  151.0   70.0  40.0  271.0  41.8  0.742  38.0    1.0\n236   7.0  181.0   84.0  21.0  192.0  35.9  0.586  51.0    1.0\n259  11.0  155.0   76.0  28.0  150.0  33.3  1.353  51.0    1.0\n375  12.0  140.0   82.0  43.0  325.0  39.2  0.528  58.0    1.0\n424   8.0  151.0   78.0  32.0  210.0  42.9  0.516  36.0    1.0\n458  10.0  148.0   84.0  48.0  237.0  37.6  1.001  51.0    1.0\n546   5.0  187.0   76.0  27.0  207.0  43.6  1.034  53.0    1.0\n603   7.0  150.0   78.0  29.0  126.0  35.2  0.692  54.0    1.0\n612   7.0  168.0   88.0  42.0  321.0  38.2  0.787  40.0    1.0\n614  11.0  138.0   74.0  26.0  144.0  36.1  0.557  50.0    1.0\n663   9.0  145.0   80.0  46.0  130.0  37.9  0.637  40.0    1.0"
     },
     "metadata": {
      "tags": []
     },
     "execution_count": 11
    }
   ],
   "execution_count": null
  },
  {
   "cell_type": "markdown",
   "source": "*Note: the next 3 problems were not explicitly shown in our tutorial—being able to effectively google and look through documentation is a very important coding tool!* ¯\\\\\\_(ツ)_/¯",
   "metadata": {
    "id": "Cy_6ce7_8qAB",
    "colab_type": "text",
    "cell_id": "00022-b4b94110-8a51-47dd-8f39-25ff329b6bd5",
    "deepnote_cell_type": "markdown"
   }
  },
  {
   "cell_type": "markdown",
   "source": "Ignoring the index (resetting the index to 0) and using the dataframe from the cell above, sort the values based on `\"skin\"`, `\"test\"`, and `\"pedi\"` values in ascending order. Please write this in one line.",
   "metadata": {
    "id": "24pCgP2xbCwZ",
    "colab_type": "text",
    "cell_id": "00023-1f69b793-bfef-4adb-8d53-3236cdeadf7d",
    "deepnote_cell_type": "markdown"
   }
  },
  {
   "cell_type": "code",
   "metadata": {
    "id": "wXZysbVwa7i5",
    "colab_type": "code",
    "colab": {
     "base_uri": "https://localhost:8080/",
     "height": 551
    },
    "outputId": "330c6d3e-27e7-4078-aee8-ef8e30a1ace7",
    "cell_id": "00024-5e3ff3cf-bf52-4b68-af73-4d81a43b5df9",
    "deepnote_cell_type": "code"
   },
   "source": "# YOUR CODE HERE\nfiltered.sort_values(by=['skin', 'test', 'pedi'], ignore_index=True)",
   "outputs": [
    {
     "output_type": "execute_result",
     "data": {
      "text/html": "<div>\n<style scoped>\n    .dataframe tbody tr th:only-of-type {\n        vertical-align: middle;\n    }\n\n    .dataframe tbody tr th {\n        vertical-align: top;\n    }\n\n    .dataframe thead th {\n        text-align: right;\n    }\n</style>\n<table border=\"1\" class=\"dataframe\">\n  <thead>\n    <tr style=\"text-align: right;\">\n      <th></th>\n      <th>preg</th>\n      <th>plas</th>\n      <th>pres</th>\n      <th>skin</th>\n      <th>test</th>\n      <th>mass</th>\n      <th>pedi</th>\n      <th>age</th>\n      <th>class</th>\n    </tr>\n  </thead>\n  <tbody>\n    <tr>\n      <th>0</th>\n      <td>7.0</td>\n      <td>181.0</td>\n      <td>84.0</td>\n      <td>21.0</td>\n      <td>192.0</td>\n      <td>35.9</td>\n      <td>0.586</td>\n      <td>51.0</td>\n      <td>1.0</td>\n    </tr>\n    <tr>\n      <th>1</th>\n      <td>9.0</td>\n      <td>171.0</td>\n      <td>110.0</td>\n      <td>24.0</td>\n      <td>240.0</td>\n      <td>45.4</td>\n      <td>0.721</td>\n      <td>54.0</td>\n      <td>1.0</td>\n    </tr>\n    <tr>\n      <th>2</th>\n      <td>11.0</td>\n      <td>138.0</td>\n      <td>74.0</td>\n      <td>26.0</td>\n      <td>144.0</td>\n      <td>36.1</td>\n      <td>0.557</td>\n      <td>50.0</td>\n      <td>1.0</td>\n    </tr>\n    <tr>\n      <th>3</th>\n      <td>5.0</td>\n      <td>187.0</td>\n      <td>76.0</td>\n      <td>27.0</td>\n      <td>207.0</td>\n      <td>43.6</td>\n      <td>1.034</td>\n      <td>53.0</td>\n      <td>1.0</td>\n    </tr>\n    <tr>\n      <th>4</th>\n      <td>11.0</td>\n      <td>155.0</td>\n      <td>76.0</td>\n      <td>28.0</td>\n      <td>150.0</td>\n      <td>33.3</td>\n      <td>1.353</td>\n      <td>51.0</td>\n      <td>1.0</td>\n    </tr>\n    <tr>\n      <th>5</th>\n      <td>9.0</td>\n      <td>156.0</td>\n      <td>86.0</td>\n      <td>28.0</td>\n      <td>155.0</td>\n      <td>34.3</td>\n      <td>1.189</td>\n      <td>42.0</td>\n      <td>1.0</td>\n    </tr>\n    <tr>\n      <th>6</th>\n      <td>7.0</td>\n      <td>150.0</td>\n      <td>78.0</td>\n      <td>29.0</td>\n      <td>126.0</td>\n      <td>35.2</td>\n      <td>0.692</td>\n      <td>54.0</td>\n      <td>1.0</td>\n    </tr>\n    <tr>\n      <th>7</th>\n      <td>8.0</td>\n      <td>196.0</td>\n      <td>76.0</td>\n      <td>29.0</td>\n      <td>280.0</td>\n      <td>37.5</td>\n      <td>0.605</td>\n      <td>57.0</td>\n      <td>1.0</td>\n    </tr>\n    <tr>\n      <th>8</th>\n      <td>8.0</td>\n      <td>151.0</td>\n      <td>78.0</td>\n      <td>32.0</td>\n      <td>210.0</td>\n      <td>42.9</td>\n      <td>0.516</td>\n      <td>36.0</td>\n      <td>1.0</td>\n    </tr>\n    <tr>\n      <th>9</th>\n      <td>12.0</td>\n      <td>151.0</td>\n      <td>70.0</td>\n      <td>40.0</td>\n      <td>271.0</td>\n      <td>41.8</td>\n      <td>0.742</td>\n      <td>38.0</td>\n      <td>1.0</td>\n    </tr>\n    <tr>\n      <th>10</th>\n      <td>17.0</td>\n      <td>163.0</td>\n      <td>72.0</td>\n      <td>41.0</td>\n      <td>114.0</td>\n      <td>40.9</td>\n      <td>0.817</td>\n      <td>47.0</td>\n      <td>1.0</td>\n    </tr>\n    <tr>\n      <th>11</th>\n      <td>8.0</td>\n      <td>179.0</td>\n      <td>72.0</td>\n      <td>42.0</td>\n      <td>130.0</td>\n      <td>32.7</td>\n      <td>0.719</td>\n      <td>36.0</td>\n      <td>1.0</td>\n    </tr>\n    <tr>\n      <th>12</th>\n      <td>7.0</td>\n      <td>168.0</td>\n      <td>88.0</td>\n      <td>42.0</td>\n      <td>321.0</td>\n      <td>38.2</td>\n      <td>0.787</td>\n      <td>40.0</td>\n      <td>1.0</td>\n    </tr>\n    <tr>\n      <th>13</th>\n      <td>12.0</td>\n      <td>140.0</td>\n      <td>82.0</td>\n      <td>43.0</td>\n      <td>325.0</td>\n      <td>39.2</td>\n      <td>0.528</td>\n      <td>58.0</td>\n      <td>1.0</td>\n    </tr>\n    <tr>\n      <th>14</th>\n      <td>9.0</td>\n      <td>145.0</td>\n      <td>80.0</td>\n      <td>46.0</td>\n      <td>130.0</td>\n      <td>37.9</td>\n      <td>0.637</td>\n      <td>40.0</td>\n      <td>1.0</td>\n    </tr>\n    <tr>\n      <th>15</th>\n      <td>10.0</td>\n      <td>148.0</td>\n      <td>84.0</td>\n      <td>48.0</td>\n      <td>237.0</td>\n      <td>37.6</td>\n      <td>1.001</td>\n      <td>51.0</td>\n      <td>1.0</td>\n    </tr>\n  </tbody>\n</table>\n</div>",
      "text/plain": "    preg   plas   pres  skin   test  mass   pedi   age  class\n0    7.0  181.0   84.0  21.0  192.0  35.9  0.586  51.0    1.0\n1    9.0  171.0  110.0  24.0  240.0  45.4  0.721  54.0    1.0\n2   11.0  138.0   74.0  26.0  144.0  36.1  0.557  50.0    1.0\n3    5.0  187.0   76.0  27.0  207.0  43.6  1.034  53.0    1.0\n4   11.0  155.0   76.0  28.0  150.0  33.3  1.353  51.0    1.0\n5    9.0  156.0   86.0  28.0  155.0  34.3  1.189  42.0    1.0\n6    7.0  150.0   78.0  29.0  126.0  35.2  0.692  54.0    1.0\n7    8.0  196.0   76.0  29.0  280.0  37.5  0.605  57.0    1.0\n8    8.0  151.0   78.0  32.0  210.0  42.9  0.516  36.0    1.0\n9   12.0  151.0   70.0  40.0  271.0  41.8  0.742  38.0    1.0\n10  17.0  163.0   72.0  41.0  114.0  40.9  0.817  47.0    1.0\n11   8.0  179.0   72.0  42.0  130.0  32.7  0.719  36.0    1.0\n12   7.0  168.0   88.0  42.0  321.0  38.2  0.787  40.0    1.0\n13  12.0  140.0   82.0  43.0  325.0  39.2  0.528  58.0    1.0\n14   9.0  145.0   80.0  46.0  130.0  37.9  0.637  40.0    1.0\n15  10.0  148.0   84.0  48.0  237.0  37.6  1.001  51.0    1.0"
     },
     "metadata": {
      "tags": []
     },
     "execution_count": 12
    }
   ],
   "execution_count": null
  },
  {
   "cell_type": "markdown",
   "source": "Now let's find the 4 largest values for `\"age\"`",
   "metadata": {
    "colab_type": "text",
    "id": "BIJkXsK4ch-u",
    "cell_id": "00025-0c8e8f07-3c95-4bb1-8c23-f9c3285b6078",
    "deepnote_cell_type": "markdown"
   }
  },
  {
   "cell_type": "code",
   "metadata": {
    "colab_type": "code",
    "id": "kSl28jLLdAF9",
    "colab": {
     "base_uri": "https://localhost:8080/",
     "height": 175
    },
    "outputId": "5813f203-bc7e-49b6-e326-6fa68128392c",
    "cell_id": "00026-0c7d7149-61d7-4653-9783-a6384e74ed9e",
    "deepnote_cell_type": "code"
   },
   "source": "# YOUR CODE HERE\ndata.nlargest(4, [\"age\"])",
   "outputs": [
    {
     "output_type": "execute_result",
     "data": {
      "text/html": "<div>\n<style scoped>\n    .dataframe tbody tr th:only-of-type {\n        vertical-align: middle;\n    }\n\n    .dataframe tbody tr th {\n        vertical-align: top;\n    }\n\n    .dataframe thead th {\n        text-align: right;\n    }\n</style>\n<table border=\"1\" class=\"dataframe\">\n  <thead>\n    <tr style=\"text-align: right;\">\n      <th></th>\n      <th>preg</th>\n      <th>plas</th>\n      <th>pres</th>\n      <th>skin</th>\n      <th>test</th>\n      <th>mass</th>\n      <th>pedi</th>\n      <th>age</th>\n      <th>class</th>\n    </tr>\n  </thead>\n  <tbody>\n    <tr>\n      <th>459</th>\n      <td>9</td>\n      <td>134</td>\n      <td>74</td>\n      <td>33</td>\n      <td>60</td>\n      <td>25.9</td>\n      <td>0.460</td>\n      <td>81</td>\n      <td>0</td>\n    </tr>\n    <tr>\n      <th>453</th>\n      <td>2</td>\n      <td>119</td>\n      <td>0</td>\n      <td>0</td>\n      <td>0</td>\n      <td>19.6</td>\n      <td>0.832</td>\n      <td>72</td>\n      <td>0</td>\n    </tr>\n    <tr>\n      <th>666</th>\n      <td>4</td>\n      <td>145</td>\n      <td>82</td>\n      <td>18</td>\n      <td>0</td>\n      <td>32.5</td>\n      <td>0.235</td>\n      <td>70</td>\n      <td>1</td>\n    </tr>\n    <tr>\n      <th>123</th>\n      <td>5</td>\n      <td>132</td>\n      <td>80</td>\n      <td>0</td>\n      <td>0</td>\n      <td>26.8</td>\n      <td>0.186</td>\n      <td>69</td>\n      <td>0</td>\n    </tr>\n  </tbody>\n</table>\n</div>",
      "text/plain": "     preg  plas  pres  skin  test  mass   pedi  age  class\n459     9   134    74    33    60  25.9  0.460   81      0\n453     2   119     0     0     0  19.6  0.832   72      0\n666     4   145    82    18     0  32.5  0.235   70      1\n123     5   132    80     0     0  26.8  0.186   69      0"
     },
     "metadata": {
      "tags": []
     },
     "execution_count": 13
    }
   ],
   "execution_count": null
  },
  {
   "cell_type": "markdown",
   "source": "Now find the smallest 4 values for `\"pedi\"` and `\"plas\"` in reverse order (smallest to largest).",
   "metadata": {
    "id": "fJRwe8UfqvNG",
    "colab_type": "text",
    "cell_id": "00027-ff816ad4-4207-4296-b5d1-fc13e5293272",
    "deepnote_cell_type": "markdown"
   }
  },
  {
   "cell_type": "code",
   "metadata": {
    "id": "icQcbPg1quNI",
    "colab_type": "code",
    "colab": {
     "base_uri": "https://localhost:8080/",
     "height": 175
    },
    "outputId": "a1ddf16e-c422-46ca-8b67-ec7e6e6be20d",
    "cell_id": "00028-f90377ac-0bb1-47f9-83ce-7c671002b1d7",
    "deepnote_cell_type": "code"
   },
   "source": "# YOUR CODE HERE\ndata.nsmallest(4, [\"pedi\", \"plas\"], keep=\"last\")",
   "outputs": [
    {
     "output_type": "execute_result",
     "data": {
      "text/html": "<div>\n<style scoped>\n    .dataframe tbody tr th:only-of-type {\n        vertical-align: middle;\n    }\n\n    .dataframe tbody tr th {\n        vertical-align: top;\n    }\n\n    .dataframe thead th {\n        text-align: right;\n    }\n</style>\n<table border=\"1\" class=\"dataframe\">\n  <thead>\n    <tr style=\"text-align: right;\">\n      <th></th>\n      <th>preg</th>\n      <th>plas</th>\n      <th>pres</th>\n      <th>skin</th>\n      <th>test</th>\n      <th>mass</th>\n      <th>pedi</th>\n      <th>age</th>\n      <th>class</th>\n    </tr>\n  </thead>\n  <tbody>\n    <tr>\n      <th>268</th>\n      <td>0</td>\n      <td>102</td>\n      <td>52</td>\n      <td>0</td>\n      <td>0</td>\n      <td>25.1</td>\n      <td>0.078</td>\n      <td>21</td>\n      <td>0</td>\n    </tr>\n    <tr>\n      <th>180</th>\n      <td>6</td>\n      <td>87</td>\n      <td>80</td>\n      <td>0</td>\n      <td>0</td>\n      <td>23.2</td>\n      <td>0.084</td>\n      <td>32</td>\n      <td>0</td>\n    </tr>\n    <tr>\n      <th>149</th>\n      <td>2</td>\n      <td>90</td>\n      <td>70</td>\n      <td>17</td>\n      <td>0</td>\n      <td>27.3</td>\n      <td>0.085</td>\n      <td>22</td>\n      <td>0</td>\n    </tr>\n    <tr>\n      <th>567</th>\n      <td>6</td>\n      <td>92</td>\n      <td>62</td>\n      <td>32</td>\n      <td>126</td>\n      <td>32.0</td>\n      <td>0.085</td>\n      <td>46</td>\n      <td>0</td>\n    </tr>\n  </tbody>\n</table>\n</div>",
      "text/plain": "     preg  plas  pres  skin  test  mass   pedi  age  class\n268     0   102    52     0     0  25.1  0.078   21      0\n180     6    87    80     0     0  23.2  0.084   32      0\n149     2    90    70    17     0  27.3  0.085   22      0\n567     6    92    62    32   126  32.0  0.085   46      0"
     },
     "metadata": {
      "tags": []
     },
     "execution_count": 14
    }
   ],
   "execution_count": null
  },
  {
   "cell_type": "markdown",
   "source": "<a style='text-decoration:none;line-height:16px;display:flex;color:#5B5B62;padding:10px;justify-content:end;' href='https://deepnote.com?utm_source=created-in-deepnote-cell&projectId=d235bfc1-2e47-4a5a-86ef-83055dd711b9' target=\"_blank\">\n<img alt='Created in deepnote.com' style='display:inline;max-height:16px;margin:0px;margin-right:7.5px;' src='data:image/svg+xml;base64,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' > </img>\nCreated in <span style='font-weight:600;margin-left:4px;'>Deepnote</span></a>",
   "metadata": {
    "tags": [],
    "created_in_deepnote_cell": true,
    "deepnote_cell_type": "markdown"
   }
  }
 ],
 "nbformat": 4,
 "nbformat_minor": 0,
 "metadata": {
  "colab": {
   "name": "Pandas_Solutions",
   "provenance": [],
   "collapsed_sections": []
  },
  "kernelspec": {
   "display_name": "Python 3",
   "language": "python",
   "name": "python3"
  },
  "language_info": {
   "codemirror_mode": {
    "name": "ipython",
    "version": 3
   },
   "file_extension": ".py",
   "mimetype": "text/x-python",
   "name": "python",
   "nbconvert_exporter": "python",
   "pygments_lexer": "ipython3",
   "version": "3.7.3"
  },
  "deepnote_notebook_id": "3b26f85c-587b-4e3c-80a3-7f829d4c8288",
  "deepnote": {},
  "deepnote_execution_queue": []
 }
}